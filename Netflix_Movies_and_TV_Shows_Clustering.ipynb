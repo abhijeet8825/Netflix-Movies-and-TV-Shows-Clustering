{
  "cells": [
    {
      "cell_type": "markdown",
      "metadata": {
        "id": "view-in-github",
        "colab_type": "text"
      },
      "source": [
        "<a href=\"https://colab.research.google.com/github/abhijeet8825/Netflix-Movies-and-TV-Shows-Clustering/blob/main/Netflix_Movies_and_TV_Shows_Clustering.ipynb\" target=\"_parent\"><img src=\"https://colab.research.google.com/assets/colab-badge.svg\" alt=\"Open In Colab\"/></a>"
      ]
    },
    {
      "cell_type": "markdown",
      "metadata": {
        "id": "vncDsAP0Gaoa"
      },
      "source": [
        "\n",
        "# **Project Name**    - Netflix Movies and TV Shows Clustering\n",
        "\n"
      ]
    },
    {
      "cell_type": "markdown",
      "metadata": {
        "id": "beRrZCGUAJYm"
      },
      "source": [
        "##### **Project Type**    - Unsupervised\n",
        "##### **Contribution**    - Individual"
      ]
    },
    {
      "cell_type": "markdown",
      "metadata": {
        "id": "FJNUwmbgGyua"
      },
      "source": [
        "# **Project Summary**"
      ]
    },
    {
      "cell_type": "markdown",
      "metadata": {
        "id": "F6v_1wHtG2nS"
      },
      "source": [
        "This project aimed to apply unsupervised learning techniques to group Netflix’s movies and TV shows into meaningful clusters based on their attributes. The goal was to uncover hidden patterns in the data that could provide insights into Netflix’s content catalog, which could be leveraged to improve content recommendations and user experience. By clustering content based on features such as genre, duration, ratings, and cast, the project sought to identify similarities and differences in the catalog without the need for labeled data.\n",
        "\n",
        "\n",
        "Data Collection and Preprocessing\n",
        "The first step involved gathering a dataset of Netflix movies and TV shows from publicly available sources like Kaggle. This dataset included various attributes, such as title, genre, release year, duration, ratings, and cast. I then performed several preprocessing steps to clean and prepare the data for analysis. Missing values were handled by imputing or removing rows with incomplete information. Categorical data, such as genres and cast, were transformed using techniques like one-hot encoding and TF-IDF vectorization to convert them into numerical forms that could be used for clustering. Numerical features, like ratings and duration, were normalized to ensure that all features had an equal impact on the clustering process.\n",
        "\n",
        "Exploratory Data Analysis (EDA)\n",
        "Before applying any clustering algorithms, I performed exploratory data analysis (EDA) to understand the distribution of key features and identify trends in the data. Visualizations, such as histograms and scatter plots, revealed patterns like the overrepresentation of certain genres (e.g., action and drama) and the diversity of movie lengths and ratings. This analysis provided useful context for interpreting the clustering results and informed decisions on which features were most relevant for the clustering process.\n",
        "\n",
        "Clustering Algorithms\n",
        "For clustering, I implemented several unsupervised learning algorithms:\n",
        "\n",
        "K-Means Clustering: K-Means was used to partition the data into distinct groups based on feature similarities. The optimal number of clusters was determined using the elbow method, which helps identify the point where adding more clusters provides diminishing returns. K-Means allowed for the grouping of movies and TV shows by shared characteristics like genre and ratings.\n",
        "\n",
        "DBSCAN (Density-Based Spatial Clustering of Applications with Noise): DBSCAN was applied to identify outliers—content that did not fit well into any of the clusters. This algorithm works well for datasets with varying densities and can detect noise or rare content that might be missed by K-Means.\n",
        "\n",
        "Hierarchical Clustering: This method was used to generate a dendrogram, which visually represented how movies and TV shows could be grouped at different levels of similarity. Hierarchical clustering provided a more granular view of how content could be categorized, revealing nested patterns in the data.\n",
        "\n",
        "Results and Insights\n",
        "The clustering analysis revealed several interesting patterns:\n",
        "\n",
        "Genre-based Clusters: Movies and TV shows with similar genres were grouped together, such as action films in one cluster and family-friendly content in another.\n",
        "Content Type: TV shows and movies formed separate clusters based on features like episode count and duration.\n",
        "Popularity and Ratings: High-rated content tended to cluster together, while lower-rated movies and TV shows were more dispersed.\n"
      ]
    },
    {
      "cell_type": "markdown",
      "metadata": {
        "id": "w6K7xa23Elo4"
      },
      "source": [
        "# **GitHub Link**"
      ]
    },
    {
      "cell_type": "markdown",
      "metadata": {
        "id": "h1o69JH3Eqqn"
      },
      "source": [
        "https://github.com/abhijeet8825/Netflix-Movies-and-TV-Shows-Clustering"
      ]
    },
    {
      "cell_type": "markdown",
      "metadata": {
        "id": "yQaldy8SH6Dl"
      },
      "source": [
        "# **Problem Statement**\n"
      ]
    },
    {
      "cell_type": "markdown",
      "metadata": {
        "id": "DpeJGUA3kjGy"
      },
      "source": [
        "With the ever-expanding library of movies and TV shows on Netflix, users often face difficulty in discovering content that matches their tastes and preferences. Despite Netflix’s recommendation system, which relies heavily on user behavior and preferences, the underlying structure of the content itself remains largely unexplored. This presents an opportunity to improve content discovery and recommendation accuracy.\n",
        "\n",
        "The problem addressed in this project is to identify natural groupings or clusters of Netflix movies and TV shows based on their inherent features, without relying on predefined labels or user behavior. By applying unsupervised learning techniques, the goal is to uncover hidden patterns and similarities within the Netflix content catalog. The resulting clusters can provide deeper insights into the content itself, which could be used to enhance Netflix’s recommendation system, improve content categorization, and assist in personalizing user experiences."
      ]
    },
    {
      "cell_type": "markdown",
      "metadata": {
        "id": "mDgbUHAGgjLW"
      },
      "source": [
        "# **General Guidelines** : -  "
      ]
    },
    {
      "cell_type": "markdown",
      "metadata": {
        "id": "ZrxVaUj-hHfC"
      },
      "source": [
        "1.   Well-structured, formatted, and commented code is required.\n",
        "2.   Exception Handling, Production Grade Code & Deployment Ready Code will be a plus. Those students will be awarded some additional credits.\n",
        "     \n",
        "     The additional credits will have advantages over other students during Star Student selection.\n",
        "       \n",
        "             [ Note: - Deployment Ready Code is defined as, the whole .ipynb notebook should be executable in one go\n",
        "                       without a single error logged. ]\n",
        "\n",
        "3.   Each and every logic should have proper comments.\n",
        "4. You may add as many number of charts you want. Make Sure for each and every chart the following format should be answered.\n",
        "        \n",
        "\n",
        "```\n",
        "# Chart visualization code\n",
        "```\n",
        "            \n",
        "\n",
        "*   Why did you pick the specific chart?\n",
        "*   What is/are the insight(s) found from the chart?\n",
        "* Will the gained insights help creating a positive business impact?\n",
        "Are there any insights that lead to negative growth? Justify with specific reason.\n",
        "\n",
        "5. You have to create at least 15 logical & meaningful charts having important insights.\n",
        "\n",
        "\n",
        "[ Hints : - Do the Vizualization in  a structured way while following \"UBM\" Rule.\n",
        "\n",
        "U - Univariate Analysis,\n",
        "\n",
        "B - Bivariate Analysis (Numerical - Categorical, Numerical - Numerical, Categorical - Categorical)\n",
        "\n",
        "M - Multivariate Analysis\n",
        " ]\n",
        "\n",
        "\n",
        "\n",
        "\n",
        "\n",
        "6. You may add more ml algorithms for model creation. Make sure for each and every algorithm, the following format should be answered.\n",
        "\n",
        "\n",
        "*   Explain the ML Model used and it's performance using Evaluation metric Score Chart.\n",
        "\n",
        "\n",
        "*   Cross- Validation & Hyperparameter Tuning\n",
        "\n",
        "*   Have you seen any improvement? Note down the improvement with updates Evaluation metric Score Chart.\n",
        "\n",
        "*   Explain each evaluation metric's indication towards business and the business impact pf the ML model used.\n",
        "\n",
        "\n",
        "\n",
        "\n",
        "\n",
        "\n",
        "\n",
        "\n",
        "\n",
        "\n",
        "\n",
        "\n",
        "\n",
        "\n",
        "\n",
        "\n",
        "\n",
        "\n"
      ]
    },
    {
      "cell_type": "markdown",
      "metadata": {
        "id": "O_i_v8NEhb9l"
      },
      "source": [
        "# ***Let's Begin !***"
      ]
    },
    {
      "cell_type": "markdown",
      "metadata": {
        "id": "HhfV-JJviCcP"
      },
      "source": [
        "## ***1. Know Your Data***"
      ]
    },
    {
      "cell_type": "markdown",
      "metadata": {
        "id": "Y3lxredqlCYt"
      },
      "source": [
        "### Import Libraries"
      ]
    },
    {
      "cell_type": "code",
      "execution_count": 1,
      "metadata": {
        "colab": {
          "base_uri": "https://localhost:8080/"
        },
        "id": "_ACG_acZ9KLt",
        "outputId": "06819bca-cd51-44a5-8819-7ee7c742e9f8",
        "collapsed": true
      },
      "outputs": [
        {
          "output_type": "stream",
          "name": "stderr",
          "text": [
            "<ipython-input-1-4845360fbf09>:4: DeprecationWarning: `np.math` is a deprecated alias for the standard library `math` module (Deprecated Numpy 1.25). Replace usages of `np.math` with `math`\n",
            "  from numpy import math\n"
          ]
        },
        {
          "output_type": "stream",
          "name": "stdout",
          "text": [
            "Collecting pymysql\n",
            "  Downloading PyMySQL-1.1.1-py3-none-any.whl.metadata (4.4 kB)\n",
            "Downloading PyMySQL-1.1.1-py3-none-any.whl (44 kB)\n",
            "\u001b[?25l   \u001b[90m━━━━━━━━━━━━━━━━━━━━━━━━━━━━━━━━━━━━━━━━\u001b[0m \u001b[32m0.0/45.0 kB\u001b[0m \u001b[31m?\u001b[0m eta \u001b[36m-:--:--\u001b[0m\r\u001b[2K   \u001b[90m━━━━━━━━━━━━━━━━━━━━━━━━━━━━━━━━━━━━━━━━\u001b[0m \u001b[32m45.0/45.0 kB\u001b[0m \u001b[31m3.5 MB/s\u001b[0m eta \u001b[36m0:00:00\u001b[0m\n",
            "\u001b[?25hInstalling collected packages: pymysql\n",
            "Successfully installed pymysql-1.1.1\n",
            "Collecting shap==0.40.0\n",
            "  Downloading shap-0.40.0.tar.gz (371 kB)\n",
            "\u001b[2K     \u001b[90m━━━━━━━━━━━━━━━━━━━━━━━━━━━━━━━━━━━━━━━━\u001b[0m \u001b[32m371.7/371.7 kB\u001b[0m \u001b[31m10.0 MB/s\u001b[0m eta \u001b[36m0:00:00\u001b[0m\n",
            "\u001b[?25h  Installing build dependencies ... \u001b[?25l\u001b[?25hdone\n",
            "  Getting requirements to build wheel ... \u001b[?25l\u001b[?25hdone\n",
            "  Preparing metadata (pyproject.toml) ... \u001b[?25l\u001b[?25hdone\n",
            "Requirement already satisfied: numpy in /usr/local/lib/python3.11/dist-packages (from shap==0.40.0) (1.26.4)\n",
            "Requirement already satisfied: scipy in /usr/local/lib/python3.11/dist-packages (from shap==0.40.0) (1.13.1)\n",
            "Requirement already satisfied: scikit-learn in /usr/local/lib/python3.11/dist-packages (from shap==0.40.0) (1.6.1)\n",
            "Requirement already satisfied: pandas in /usr/local/lib/python3.11/dist-packages (from shap==0.40.0) (2.2.2)\n",
            "Requirement already satisfied: tqdm>4.25.0 in /usr/local/lib/python3.11/dist-packages (from shap==0.40.0) (4.67.1)\n",
            "Requirement already satisfied: packaging>20.9 in /usr/local/lib/python3.11/dist-packages (from shap==0.40.0) (24.2)\n",
            "Collecting slicer==0.0.7 (from shap==0.40.0)\n",
            "  Downloading slicer-0.0.7-py3-none-any.whl.metadata (3.7 kB)\n",
            "Requirement already satisfied: numba in /usr/local/lib/python3.11/dist-packages (from shap==0.40.0) (0.60.0)\n",
            "Requirement already satisfied: cloudpickle in /usr/local/lib/python3.11/dist-packages (from shap==0.40.0) (3.1.1)\n",
            "Requirement already satisfied: llvmlite<0.44,>=0.43.0dev0 in /usr/local/lib/python3.11/dist-packages (from numba->shap==0.40.0) (0.43.0)\n",
            "Requirement already satisfied: python-dateutil>=2.8.2 in /usr/local/lib/python3.11/dist-packages (from pandas->shap==0.40.0) (2.8.2)\n",
            "Requirement already satisfied: pytz>=2020.1 in /usr/local/lib/python3.11/dist-packages (from pandas->shap==0.40.0) (2025.1)\n",
            "Requirement already satisfied: tzdata>=2022.7 in /usr/local/lib/python3.11/dist-packages (from pandas->shap==0.40.0) (2025.1)\n",
            "Requirement already satisfied: joblib>=1.2.0 in /usr/local/lib/python3.11/dist-packages (from scikit-learn->shap==0.40.0) (1.4.2)\n",
            "Requirement already satisfied: threadpoolctl>=3.1.0 in /usr/local/lib/python3.11/dist-packages (from scikit-learn->shap==0.40.0) (3.5.0)\n",
            "Requirement already satisfied: six>=1.5 in /usr/local/lib/python3.11/dist-packages (from python-dateutil>=2.8.2->pandas->shap==0.40.0) (1.17.0)\n",
            "Downloading slicer-0.0.7-py3-none-any.whl (14 kB)\n",
            "Building wheels for collected packages: shap\n",
            "  Building wheel for shap (pyproject.toml) ... \u001b[?25l\u001b[?25hdone\n",
            "  Created wheel for shap: filename=shap-0.40.0-cp311-cp311-linux_x86_64.whl size=515275 sha256=b91be23b7444c577282057f55372a8ebe3a840d02717907ed93f1cadc22aabaa\n",
            "  Stored in directory: /root/.cache/pip/wheels/ac/0e/91/2326cd1e039c5e654e588168f49ca304e9b0e57e02ff3cdddc\n",
            "Successfully built shap\n",
            "Installing collected packages: slicer, shap\n",
            "  Attempting uninstall: slicer\n",
            "    Found existing installation: slicer 0.0.8\n",
            "    Uninstalling slicer-0.0.8:\n",
            "      Successfully uninstalled slicer-0.0.8\n",
            "  Attempting uninstall: shap\n",
            "    Found existing installation: shap 0.46.0\n",
            "    Uninstalling shap-0.46.0:\n",
            "      Successfully uninstalled shap-0.46.0\n",
            "Successfully installed shap-0.40.0 slicer-0.0.7\n"
          ]
        }
      ],
      "source": [
        "# Import Libraries\n",
        "import numpy as np\n",
        "import pandas as pd\n",
        "from numpy import math\n",
        "from numpy import loadtxt\n",
        "import seaborn as sns\n",
        "import matplotlib.pyplot as plt\n",
        "%matplotlib inline\n",
        "from matplotlib import rcParams\n",
        "!pip install pymysql\n",
        "import pymysql\n",
        "from sqlalchemy import create_engine\n",
        "from sqlalchemy.pool import NullPool\n",
        "\n",
        "import numpy as np\n",
        "import seaborn as sns\n",
        "from scipy.stats import *\n",
        "import math\n",
        "\n",
        "from statsmodels.stats.outliers_influence import variance_inflation_factor\n",
        "from sklearn.preprocessing import StandardScaler\n",
        "from sklearn.model_selection import train_test_split\n",
        "from imblearn.over_sampling import SMOTE\n",
        "from sklearn.linear_model import LogisticRegression\n",
        "from sklearn.ensemble import RandomForestClassifier\n",
        "from sklearn.metrics import accuracy_score, confusion_matrix\n",
        "from sklearn import metrics\n",
        "from sklearn.metrics import roc_curve\n",
        "from sklearn.model_selection import GridSearchCV\n",
        "from sklearn.model_selection import RepeatedStratifiedKFold\n",
        "from xgboost import XGBClassifier\n",
        "from xgboost import XGBRFClassifier\n",
        "from sklearn.tree import export_graphviz\n",
        "\n",
        "!pip install shap==0.40.0\n",
        "import shap\n",
        "import graphviz\n",
        "sns.set_style('darkgrid')\n",
        "\n",
        "import warnings\n",
        "warnings.filterwarnings('ignore')"
      ]
    },
    {
      "cell_type": "markdown",
      "metadata": {
        "id": "3RnN4peoiCZX"
      },
      "source": [
        "### Dataset Loading"
      ]
    },
    {
      "cell_type": "code",
      "execution_count": 2,
      "metadata": {
        "colab": {
          "base_uri": "https://localhost:8080/"
        },
        "id": "4CkvbW_SlZ_R",
        "outputId": "14bea246-0669-445e-9ac2-117f5c15904a",
        "collapsed": true
      },
      "outputs": [
        {
          "output_type": "stream",
          "name": "stdout",
          "text": [
            "Mounted at /content/drive\n"
          ]
        }
      ],
      "source": [
        "# Load Dataset\n",
        "from google.colab import drive\n",
        "drive.mount('/content/drive')"
      ]
    },
    {
      "cell_type": "code",
      "execution_count": 3,
      "metadata": {
        "colab": {
          "base_uri": "https://localhost:8080/"
        },
        "id": "HAvCcvVfIhW1",
        "outputId": "e320ee52-1210-443c-d94d-69bee0abd486"
      },
      "outputs": [
        {
          "output_type": "stream",
          "name": "stdout",
          "text": [
            "True\n"
          ]
        }
      ],
      "source": [
        "# Load Dataset\n",
        "import os\n",
        "# Update file_path with correct structure after mounting Google Drive\n",
        "file_path = \"/content/NETFLIX MOVIES AND TV SHOWS CLUSTERING.csv\"\n",
        "# assuming file is located in 'My Drive' folder in mounted drive\n",
        "print(os.path.exists(file_path))    # To know if the file exists at the specified path\n",
        "\n",
        "# Load the CSV file\n",
        "Netflix_df = pd.read_csv(file_path)\n",
        "\n",
        "# Display the first few rows\n"
      ]
    },
    {
      "cell_type": "markdown",
      "metadata": {
        "id": "x71ZqKXriCWQ"
      },
      "source": [
        "### Dataset First View"
      ]
    },
    {
      "cell_type": "code",
      "execution_count": 5,
      "metadata": {
        "colab": {
          "base_uri": "https://localhost:8080/",
          "height": 310
        },
        "id": "LWNFOSvLl09H",
        "outputId": "3e2e85ee-f76a-4fe4-ac54-bf79e42dd73d"
      },
      "outputs": [
        {
          "output_type": "execute_result",
          "data": {
            "text/plain": [
              "  show_id     type  title           director  \\\n",
              "0      s1  TV Show     3%                NaN   \n",
              "1      s2    Movie   7:19  Jorge Michel Grau   \n",
              "2      s3    Movie  23:59       Gilbert Chan   \n",
              "3      s4    Movie      9        Shane Acker   \n",
              "4      s5    Movie     21     Robert Luketic   \n",
              "\n",
              "                                                cast        country  \\\n",
              "0  João Miguel, Bianca Comparato, Michel Gomes, R...         Brazil   \n",
              "1  Demián Bichir, Héctor Bonilla, Oscar Serrano, ...         Mexico   \n",
              "2  Tedd Chan, Stella Chung, Henley Hii, Lawrence ...      Singapore   \n",
              "3  Elijah Wood, John C. Reilly, Jennifer Connelly...  United States   \n",
              "4  Jim Sturgess, Kevin Spacey, Kate Bosworth, Aar...  United States   \n",
              "\n",
              "          date_added  release_year rating   duration  \\\n",
              "0    August 14, 2020          2020  TV-MA  4 Seasons   \n",
              "1  December 23, 2016          2016  TV-MA     93 min   \n",
              "2  December 20, 2018          2011      R     78 min   \n",
              "3  November 16, 2017          2009  PG-13     80 min   \n",
              "4    January 1, 2020          2008  PG-13    123 min   \n",
              "\n",
              "                                           listed_in  \\\n",
              "0  International TV Shows, TV Dramas, TV Sci-Fi &...   \n",
              "1                       Dramas, International Movies   \n",
              "2                Horror Movies, International Movies   \n",
              "3  Action & Adventure, Independent Movies, Sci-Fi...   \n",
              "4                                             Dramas   \n",
              "\n",
              "                                         description  \n",
              "0  In a future where the elite inhabit an island ...  \n",
              "1  After a devastating earthquake hits Mexico Cit...  \n",
              "2  When an army recruit is found dead, his fellow...  \n",
              "3  In a postapocalyptic world, rag-doll robots hi...  \n",
              "4  A brilliant group of students become card-coun...  "
            ],
            "text/html": [
              "\n",
              "  <div id=\"df-416794fc-491c-418e-b6c8-843cc40848c3\" class=\"colab-df-container\">\n",
              "    <div>\n",
              "<style scoped>\n",
              "    .dataframe tbody tr th:only-of-type {\n",
              "        vertical-align: middle;\n",
              "    }\n",
              "\n",
              "    .dataframe tbody tr th {\n",
              "        vertical-align: top;\n",
              "    }\n",
              "\n",
              "    .dataframe thead th {\n",
              "        text-align: right;\n",
              "    }\n",
              "</style>\n",
              "<table border=\"1\" class=\"dataframe\">\n",
              "  <thead>\n",
              "    <tr style=\"text-align: right;\">\n",
              "      <th></th>\n",
              "      <th>show_id</th>\n",
              "      <th>type</th>\n",
              "      <th>title</th>\n",
              "      <th>director</th>\n",
              "      <th>cast</th>\n",
              "      <th>country</th>\n",
              "      <th>date_added</th>\n",
              "      <th>release_year</th>\n",
              "      <th>rating</th>\n",
              "      <th>duration</th>\n",
              "      <th>listed_in</th>\n",
              "      <th>description</th>\n",
              "    </tr>\n",
              "  </thead>\n",
              "  <tbody>\n",
              "    <tr>\n",
              "      <th>0</th>\n",
              "      <td>s1</td>\n",
              "      <td>TV Show</td>\n",
              "      <td>3%</td>\n",
              "      <td>NaN</td>\n",
              "      <td>João Miguel, Bianca Comparato, Michel Gomes, R...</td>\n",
              "      <td>Brazil</td>\n",
              "      <td>August 14, 2020</td>\n",
              "      <td>2020</td>\n",
              "      <td>TV-MA</td>\n",
              "      <td>4 Seasons</td>\n",
              "      <td>International TV Shows, TV Dramas, TV Sci-Fi &amp;...</td>\n",
              "      <td>In a future where the elite inhabit an island ...</td>\n",
              "    </tr>\n",
              "    <tr>\n",
              "      <th>1</th>\n",
              "      <td>s2</td>\n",
              "      <td>Movie</td>\n",
              "      <td>7:19</td>\n",
              "      <td>Jorge Michel Grau</td>\n",
              "      <td>Demián Bichir, Héctor Bonilla, Oscar Serrano, ...</td>\n",
              "      <td>Mexico</td>\n",
              "      <td>December 23, 2016</td>\n",
              "      <td>2016</td>\n",
              "      <td>TV-MA</td>\n",
              "      <td>93 min</td>\n",
              "      <td>Dramas, International Movies</td>\n",
              "      <td>After a devastating earthquake hits Mexico Cit...</td>\n",
              "    </tr>\n",
              "    <tr>\n",
              "      <th>2</th>\n",
              "      <td>s3</td>\n",
              "      <td>Movie</td>\n",
              "      <td>23:59</td>\n",
              "      <td>Gilbert Chan</td>\n",
              "      <td>Tedd Chan, Stella Chung, Henley Hii, Lawrence ...</td>\n",
              "      <td>Singapore</td>\n",
              "      <td>December 20, 2018</td>\n",
              "      <td>2011</td>\n",
              "      <td>R</td>\n",
              "      <td>78 min</td>\n",
              "      <td>Horror Movies, International Movies</td>\n",
              "      <td>When an army recruit is found dead, his fellow...</td>\n",
              "    </tr>\n",
              "    <tr>\n",
              "      <th>3</th>\n",
              "      <td>s4</td>\n",
              "      <td>Movie</td>\n",
              "      <td>9</td>\n",
              "      <td>Shane Acker</td>\n",
              "      <td>Elijah Wood, John C. Reilly, Jennifer Connelly...</td>\n",
              "      <td>United States</td>\n",
              "      <td>November 16, 2017</td>\n",
              "      <td>2009</td>\n",
              "      <td>PG-13</td>\n",
              "      <td>80 min</td>\n",
              "      <td>Action &amp; Adventure, Independent Movies, Sci-Fi...</td>\n",
              "      <td>In a postapocalyptic world, rag-doll robots hi...</td>\n",
              "    </tr>\n",
              "    <tr>\n",
              "      <th>4</th>\n",
              "      <td>s5</td>\n",
              "      <td>Movie</td>\n",
              "      <td>21</td>\n",
              "      <td>Robert Luketic</td>\n",
              "      <td>Jim Sturgess, Kevin Spacey, Kate Bosworth, Aar...</td>\n",
              "      <td>United States</td>\n",
              "      <td>January 1, 2020</td>\n",
              "      <td>2008</td>\n",
              "      <td>PG-13</td>\n",
              "      <td>123 min</td>\n",
              "      <td>Dramas</td>\n",
              "      <td>A brilliant group of students become card-coun...</td>\n",
              "    </tr>\n",
              "  </tbody>\n",
              "</table>\n",
              "</div>\n",
              "    <div class=\"colab-df-buttons\">\n",
              "\n",
              "  <div class=\"colab-df-container\">\n",
              "    <button class=\"colab-df-convert\" onclick=\"convertToInteractive('df-416794fc-491c-418e-b6c8-843cc40848c3')\"\n",
              "            title=\"Convert this dataframe to an interactive table.\"\n",
              "            style=\"display:none;\">\n",
              "\n",
              "  <svg xmlns=\"http://www.w3.org/2000/svg\" height=\"24px\" viewBox=\"0 -960 960 960\">\n",
              "    <path d=\"M120-120v-720h720v720H120Zm60-500h600v-160H180v160Zm220 220h160v-160H400v160Zm0 220h160v-160H400v160ZM180-400h160v-160H180v160Zm440 0h160v-160H620v160ZM180-180h160v-160H180v160Zm440 0h160v-160H620v160Z\"/>\n",
              "  </svg>\n",
              "    </button>\n",
              "\n",
              "  <style>\n",
              "    .colab-df-container {\n",
              "      display:flex;\n",
              "      gap: 12px;\n",
              "    }\n",
              "\n",
              "    .colab-df-convert {\n",
              "      background-color: #E8F0FE;\n",
              "      border: none;\n",
              "      border-radius: 50%;\n",
              "      cursor: pointer;\n",
              "      display: none;\n",
              "      fill: #1967D2;\n",
              "      height: 32px;\n",
              "      padding: 0 0 0 0;\n",
              "      width: 32px;\n",
              "    }\n",
              "\n",
              "    .colab-df-convert:hover {\n",
              "      background-color: #E2EBFA;\n",
              "      box-shadow: 0px 1px 2px rgba(60, 64, 67, 0.3), 0px 1px 3px 1px rgba(60, 64, 67, 0.15);\n",
              "      fill: #174EA6;\n",
              "    }\n",
              "\n",
              "    .colab-df-buttons div {\n",
              "      margin-bottom: 4px;\n",
              "    }\n",
              "\n",
              "    [theme=dark] .colab-df-convert {\n",
              "      background-color: #3B4455;\n",
              "      fill: #D2E3FC;\n",
              "    }\n",
              "\n",
              "    [theme=dark] .colab-df-convert:hover {\n",
              "      background-color: #434B5C;\n",
              "      box-shadow: 0px 1px 3px 1px rgba(0, 0, 0, 0.15);\n",
              "      filter: drop-shadow(0px 1px 2px rgba(0, 0, 0, 0.3));\n",
              "      fill: #FFFFFF;\n",
              "    }\n",
              "  </style>\n",
              "\n",
              "    <script>\n",
              "      const buttonEl =\n",
              "        document.querySelector('#df-416794fc-491c-418e-b6c8-843cc40848c3 button.colab-df-convert');\n",
              "      buttonEl.style.display =\n",
              "        google.colab.kernel.accessAllowed ? 'block' : 'none';\n",
              "\n",
              "      async function convertToInteractive(key) {\n",
              "        const element = document.querySelector('#df-416794fc-491c-418e-b6c8-843cc40848c3');\n",
              "        const dataTable =\n",
              "          await google.colab.kernel.invokeFunction('convertToInteractive',\n",
              "                                                    [key], {});\n",
              "        if (!dataTable) return;\n",
              "\n",
              "        const docLinkHtml = 'Like what you see? Visit the ' +\n",
              "          '<a target=\"_blank\" href=https://colab.research.google.com/notebooks/data_table.ipynb>data table notebook</a>'\n",
              "          + ' to learn more about interactive tables.';\n",
              "        element.innerHTML = '';\n",
              "        dataTable['output_type'] = 'display_data';\n",
              "        await google.colab.output.renderOutput(dataTable, element);\n",
              "        const docLink = document.createElement('div');\n",
              "        docLink.innerHTML = docLinkHtml;\n",
              "        element.appendChild(docLink);\n",
              "      }\n",
              "    </script>\n",
              "  </div>\n",
              "\n",
              "\n",
              "<div id=\"df-51a708af-d353-4075-b441-17b139f46421\">\n",
              "  <button class=\"colab-df-quickchart\" onclick=\"quickchart('df-51a708af-d353-4075-b441-17b139f46421')\"\n",
              "            title=\"Suggest charts\"\n",
              "            style=\"display:none;\">\n",
              "\n",
              "<svg xmlns=\"http://www.w3.org/2000/svg\" height=\"24px\"viewBox=\"0 0 24 24\"\n",
              "     width=\"24px\">\n",
              "    <g>\n",
              "        <path d=\"M19 3H5c-1.1 0-2 .9-2 2v14c0 1.1.9 2 2 2h14c1.1 0 2-.9 2-2V5c0-1.1-.9-2-2-2zM9 17H7v-7h2v7zm4 0h-2V7h2v10zm4 0h-2v-4h2v4z\"/>\n",
              "    </g>\n",
              "</svg>\n",
              "  </button>\n",
              "\n",
              "<style>\n",
              "  .colab-df-quickchart {\n",
              "      --bg-color: #E8F0FE;\n",
              "      --fill-color: #1967D2;\n",
              "      --hover-bg-color: #E2EBFA;\n",
              "      --hover-fill-color: #174EA6;\n",
              "      --disabled-fill-color: #AAA;\n",
              "      --disabled-bg-color: #DDD;\n",
              "  }\n",
              "\n",
              "  [theme=dark] .colab-df-quickchart {\n",
              "      --bg-color: #3B4455;\n",
              "      --fill-color: #D2E3FC;\n",
              "      --hover-bg-color: #434B5C;\n",
              "      --hover-fill-color: #FFFFFF;\n",
              "      --disabled-bg-color: #3B4455;\n",
              "      --disabled-fill-color: #666;\n",
              "  }\n",
              "\n",
              "  .colab-df-quickchart {\n",
              "    background-color: var(--bg-color);\n",
              "    border: none;\n",
              "    border-radius: 50%;\n",
              "    cursor: pointer;\n",
              "    display: none;\n",
              "    fill: var(--fill-color);\n",
              "    height: 32px;\n",
              "    padding: 0;\n",
              "    width: 32px;\n",
              "  }\n",
              "\n",
              "  .colab-df-quickchart:hover {\n",
              "    background-color: var(--hover-bg-color);\n",
              "    box-shadow: 0 1px 2px rgba(60, 64, 67, 0.3), 0 1px 3px 1px rgba(60, 64, 67, 0.15);\n",
              "    fill: var(--button-hover-fill-color);\n",
              "  }\n",
              "\n",
              "  .colab-df-quickchart-complete:disabled,\n",
              "  .colab-df-quickchart-complete:disabled:hover {\n",
              "    background-color: var(--disabled-bg-color);\n",
              "    fill: var(--disabled-fill-color);\n",
              "    box-shadow: none;\n",
              "  }\n",
              "\n",
              "  .colab-df-spinner {\n",
              "    border: 2px solid var(--fill-color);\n",
              "    border-color: transparent;\n",
              "    border-bottom-color: var(--fill-color);\n",
              "    animation:\n",
              "      spin 1s steps(1) infinite;\n",
              "  }\n",
              "\n",
              "  @keyframes spin {\n",
              "    0% {\n",
              "      border-color: transparent;\n",
              "      border-bottom-color: var(--fill-color);\n",
              "      border-left-color: var(--fill-color);\n",
              "    }\n",
              "    20% {\n",
              "      border-color: transparent;\n",
              "      border-left-color: var(--fill-color);\n",
              "      border-top-color: var(--fill-color);\n",
              "    }\n",
              "    30% {\n",
              "      border-color: transparent;\n",
              "      border-left-color: var(--fill-color);\n",
              "      border-top-color: var(--fill-color);\n",
              "      border-right-color: var(--fill-color);\n",
              "    }\n",
              "    40% {\n",
              "      border-color: transparent;\n",
              "      border-right-color: var(--fill-color);\n",
              "      border-top-color: var(--fill-color);\n",
              "    }\n",
              "    60% {\n",
              "      border-color: transparent;\n",
              "      border-right-color: var(--fill-color);\n",
              "    }\n",
              "    80% {\n",
              "      border-color: transparent;\n",
              "      border-right-color: var(--fill-color);\n",
              "      border-bottom-color: var(--fill-color);\n",
              "    }\n",
              "    90% {\n",
              "      border-color: transparent;\n",
              "      border-bottom-color: var(--fill-color);\n",
              "    }\n",
              "  }\n",
              "</style>\n",
              "\n",
              "  <script>\n",
              "    async function quickchart(key) {\n",
              "      const quickchartButtonEl =\n",
              "        document.querySelector('#' + key + ' button');\n",
              "      quickchartButtonEl.disabled = true;  // To prevent multiple clicks.\n",
              "      quickchartButtonEl.classList.add('colab-df-spinner');\n",
              "      try {\n",
              "        const charts = await google.colab.kernel.invokeFunction(\n",
              "            'suggestCharts', [key], {});\n",
              "      } catch (error) {\n",
              "        console.error('Error during call to suggestCharts:', error);\n",
              "      }\n",
              "      quickchartButtonEl.classList.remove('colab-df-spinner');\n",
              "      quickchartButtonEl.classList.add('colab-df-quickchart-complete');\n",
              "    }\n",
              "    (() => {\n",
              "      let quickchartButtonEl =\n",
              "        document.querySelector('#df-51a708af-d353-4075-b441-17b139f46421 button');\n",
              "      quickchartButtonEl.style.display =\n",
              "        google.colab.kernel.accessAllowed ? 'block' : 'none';\n",
              "    })();\n",
              "  </script>\n",
              "</div>\n",
              "\n",
              "    </div>\n",
              "  </div>\n"
            ],
            "application/vnd.google.colaboratory.intrinsic+json": {
              "type": "dataframe",
              "variable_name": "Netflix_df",
              "summary": "{\n  \"name\": \"Netflix_df\",\n  \"rows\": 7787,\n  \"fields\": [\n    {\n      \"column\": \"show_id\",\n      \"properties\": {\n        \"dtype\": \"string\",\n        \"num_unique_values\": 7787,\n        \"samples\": [\n          \"s7325\",\n          \"s4695\",\n          \"s1323\"\n        ],\n        \"semantic_type\": \"\",\n        \"description\": \"\"\n      }\n    },\n    {\n      \"column\": \"type\",\n      \"properties\": {\n        \"dtype\": \"category\",\n        \"num_unique_values\": 2,\n        \"samples\": [\n          \"Movie\",\n          \"TV Show\"\n        ],\n        \"semantic_type\": \"\",\n        \"description\": \"\"\n      }\n    },\n    {\n      \"column\": \"title\",\n      \"properties\": {\n        \"dtype\": \"string\",\n        \"num_unique_values\": 7787,\n        \"samples\": [\n          \"Unchained: The Untold Story of Freestyle Motocross\",\n          \"Our Idiot Brother\"\n        ],\n        \"semantic_type\": \"\",\n        \"description\": \"\"\n      }\n    },\n    {\n      \"column\": \"director\",\n      \"properties\": {\n        \"dtype\": \"string\",\n        \"num_unique_values\": 4049,\n        \"samples\": [\n          \"Olivia Milch\",\n          \"Francisco Macri\"\n        ],\n        \"semantic_type\": \"\",\n        \"description\": \"\"\n      }\n    },\n    {\n      \"column\": \"cast\",\n      \"properties\": {\n        \"dtype\": \"string\",\n        \"num_unique_values\": 6831,\n        \"samples\": [\n          \"Nicola Lambo, Evan Boymel, John P. Fowler, Erica Duke, Ezra James Colbert\",\n          \"Jodie Whittaker, Warwick Davis, Jim Broadbent, Stephen Graham, Nonso Anozie, Rafe Spall, Ewen Bremner, Matt King\"\n        ],\n        \"semantic_type\": \"\",\n        \"description\": \"\"\n      }\n    },\n    {\n      \"column\": \"country\",\n      \"properties\": {\n        \"dtype\": \"category\",\n        \"num_unique_values\": 681,\n        \"samples\": [\n          \"Romania, United Kingdom\",\n          \"United States, United Arab Emirates\"\n        ],\n        \"semantic_type\": \"\",\n        \"description\": \"\"\n      }\n    },\n    {\n      \"column\": \"date_added\",\n      \"properties\": {\n        \"dtype\": \"category\",\n        \"num_unique_values\": 1565,\n        \"samples\": [\n          \"April 18, 2017\",\n          \"February 27, 2020\"\n        ],\n        \"semantic_type\": \"\",\n        \"description\": \"\"\n      }\n    },\n    {\n      \"column\": \"release_year\",\n      \"properties\": {\n        \"dtype\": \"number\",\n        \"std\": 8,\n        \"min\": 1925,\n        \"max\": 2021,\n        \"num_unique_values\": 73,\n        \"samples\": [\n          2008,\n          1969\n        ],\n        \"semantic_type\": \"\",\n        \"description\": \"\"\n      }\n    },\n    {\n      \"column\": \"rating\",\n      \"properties\": {\n        \"dtype\": \"category\",\n        \"num_unique_values\": 14,\n        \"samples\": [\n          \"PG\",\n          \"NC-17\"\n        ],\n        \"semantic_type\": \"\",\n        \"description\": \"\"\n      }\n    },\n    {\n      \"column\": \"duration\",\n      \"properties\": {\n        \"dtype\": \"category\",\n        \"num_unique_values\": 216,\n        \"samples\": [\n          \"230 min\",\n          \"253 min\"\n        ],\n        \"semantic_type\": \"\",\n        \"description\": \"\"\n      }\n    },\n    {\n      \"column\": \"listed_in\",\n      \"properties\": {\n        \"dtype\": \"category\",\n        \"num_unique_values\": 492,\n        \"samples\": [\n          \"Children & Family Movies, Dramas\",\n          \"Dramas, LGBTQ Movies\"\n        ],\n        \"semantic_type\": \"\",\n        \"description\": \"\"\n      }\n    },\n    {\n      \"column\": \"description\",\n      \"properties\": {\n        \"dtype\": \"string\",\n        \"num_unique_values\": 7769,\n        \"samples\": [\n          \"A middle-aged actress is cast in a film adaptation of the play that made her famous 20 years earlier, but in a much less glamorous role.\",\n          \"The life of a high-flying law student takes a drastic turn when a bout of misfortune changes his status in society for good.\"\n        ],\n        \"semantic_type\": \"\",\n        \"description\": \"\"\n      }\n    }\n  ]\n}"
            }
          },
          "metadata": {},
          "execution_count": 5
        }
      ],
      "source": [
        "# Dataset First Look\n",
        "Netflix_df.head(5)\n"
      ]
    },
    {
      "cell_type": "markdown",
      "metadata": {
        "id": "7hBIi_osiCS2"
      },
      "source": [
        "### Dataset Rows & Columns count"
      ]
    },
    {
      "cell_type": "code",
      "execution_count": null,
      "metadata": {
        "colab": {
          "base_uri": "https://localhost:8080/"
        },
        "id": "Kllu7SJgmLij",
        "outputId": "4324b3ee-fb57-4aea-83a4-0298da8a10d9"
      },
      "outputs": [
        {
          "output_type": "execute_result",
          "data": {
            "text/plain": [
              "(7787, 12)"
            ]
          },
          "metadata": {},
          "execution_count": 66
        }
      ],
      "source": [
        "# Dataset Rows & Columns count\n",
        "Netflix_df.shape"
      ]
    },
    {
      "cell_type": "markdown",
      "metadata": {
        "id": "JlHwYmJAmNHm"
      },
      "source": [
        "### Dataset Information"
      ]
    },
    {
      "cell_type": "code",
      "execution_count": null,
      "metadata": {
        "colab": {
          "base_uri": "https://localhost:8080/"
        },
        "id": "e9hRXRi6meOf",
        "outputId": "a842acfb-f9d7-4f3b-9b2d-464c626fa775"
      },
      "outputs": [
        {
          "output_type": "stream",
          "name": "stdout",
          "text": [
            "<class 'pandas.core.frame.DataFrame'>\n",
            "RangeIndex: 7787 entries, 0 to 7786\n",
            "Data columns (total 12 columns):\n",
            " #   Column        Non-Null Count  Dtype \n",
            "---  ------        --------------  ----- \n",
            " 0   show_id       7787 non-null   object\n",
            " 1   type          7787 non-null   object\n",
            " 2   title         7787 non-null   object\n",
            " 3   director      5398 non-null   object\n",
            " 4   cast          7069 non-null   object\n",
            " 5   country       7280 non-null   object\n",
            " 6   date_added    7777 non-null   object\n",
            " 7   release_year  7787 non-null   int64 \n",
            " 8   rating        7780 non-null   object\n",
            " 9   duration      7787 non-null   object\n",
            " 10  listed_in     7787 non-null   object\n",
            " 11  description   7787 non-null   object\n",
            "dtypes: int64(1), object(11)\n",
            "memory usage: 730.2+ KB\n"
          ]
        }
      ],
      "source": [
        "# Dataset Info\n",
        "Netflix_df.info()"
      ]
    },
    {
      "cell_type": "markdown",
      "metadata": {
        "id": "35m5QtbWiB9F"
      },
      "source": [
        "#### Duplicate Values"
      ]
    },
    {
      "cell_type": "code",
      "execution_count": null,
      "metadata": {
        "colab": {
          "base_uri": "https://localhost:8080/"
        },
        "id": "1sLdpKYkmox0",
        "outputId": "ea4195df-2840-42ea-e421-ba827bbd0b7a"
      },
      "outputs": [
        {
          "output_type": "execute_result",
          "data": {
            "text/plain": [
              "0"
            ]
          },
          "metadata": {},
          "execution_count": 7
        }
      ],
      "source": [
        "# Dataset Duplicate Value Count\n",
        "Netflix_df.duplicated().sum()"
      ]
    },
    {
      "cell_type": "markdown",
      "metadata": {
        "id": "PoPl-ycgm1ru"
      },
      "source": [
        "#### Missing Values/Null Values"
      ]
    },
    {
      "cell_type": "code",
      "execution_count": null,
      "metadata": {
        "colab": {
          "base_uri": "https://localhost:8080/",
          "height": 460
        },
        "id": "GgHWkxvamxVg",
        "outputId": "e9f29468-b184-4a93-fc5f-5bf47a79253d"
      },
      "outputs": [
        {
          "output_type": "execute_result",
          "data": {
            "text/plain": [
              "show_id            0\n",
              "type               0\n",
              "title              0\n",
              "director        2389\n",
              "cast             718\n",
              "country          507\n",
              "date_added        10\n",
              "release_year       0\n",
              "rating             7\n",
              "duration           0\n",
              "listed_in          0\n",
              "description        0\n",
              "dtype: int64"
            ],
            "text/html": [
              "<div>\n",
              "<style scoped>\n",
              "    .dataframe tbody tr th:only-of-type {\n",
              "        vertical-align: middle;\n",
              "    }\n",
              "\n",
              "    .dataframe tbody tr th {\n",
              "        vertical-align: top;\n",
              "    }\n",
              "\n",
              "    .dataframe thead th {\n",
              "        text-align: right;\n",
              "    }\n",
              "</style>\n",
              "<table border=\"1\" class=\"dataframe\">\n",
              "  <thead>\n",
              "    <tr style=\"text-align: right;\">\n",
              "      <th></th>\n",
              "      <th>0</th>\n",
              "    </tr>\n",
              "  </thead>\n",
              "  <tbody>\n",
              "    <tr>\n",
              "      <th>show_id</th>\n",
              "      <td>0</td>\n",
              "    </tr>\n",
              "    <tr>\n",
              "      <th>type</th>\n",
              "      <td>0</td>\n",
              "    </tr>\n",
              "    <tr>\n",
              "      <th>title</th>\n",
              "      <td>0</td>\n",
              "    </tr>\n",
              "    <tr>\n",
              "      <th>director</th>\n",
              "      <td>2389</td>\n",
              "    </tr>\n",
              "    <tr>\n",
              "      <th>cast</th>\n",
              "      <td>718</td>\n",
              "    </tr>\n",
              "    <tr>\n",
              "      <th>country</th>\n",
              "      <td>507</td>\n",
              "    </tr>\n",
              "    <tr>\n",
              "      <th>date_added</th>\n",
              "      <td>10</td>\n",
              "    </tr>\n",
              "    <tr>\n",
              "      <th>release_year</th>\n",
              "      <td>0</td>\n",
              "    </tr>\n",
              "    <tr>\n",
              "      <th>rating</th>\n",
              "      <td>7</td>\n",
              "    </tr>\n",
              "    <tr>\n",
              "      <th>duration</th>\n",
              "      <td>0</td>\n",
              "    </tr>\n",
              "    <tr>\n",
              "      <th>listed_in</th>\n",
              "      <td>0</td>\n",
              "    </tr>\n",
              "    <tr>\n",
              "      <th>description</th>\n",
              "      <td>0</td>\n",
              "    </tr>\n",
              "  </tbody>\n",
              "</table>\n",
              "</div><br><label><b>dtype:</b> int64</label>"
            ]
          },
          "metadata": {},
          "execution_count": 8
        }
      ],
      "source": [
        "# Missing Values/Null Values Count\n",
        "Netflix_df.isnull().sum()"
      ]
    },
    {
      "cell_type": "code",
      "execution_count": null,
      "metadata": {
        "colab": {
          "base_uri": "https://localhost:8080/",
          "height": 529
        },
        "id": "3q5wnI3om9sJ",
        "outputId": "8004c910-3563-47da-b9ea-8200f92b2359"
      },
      "outputs": [
        {
          "output_type": "execute_result",
          "data": {
            "text/plain": [
              "<Axes: >"
            ]
          },
          "metadata": {},
          "execution_count": 9
        },
        {
          "output_type": "display_data",
          "data": {
            "text/plain": [
              "<Figure size 640x480 with 1 Axes>"
            ],
            "image/png": "[encoded data removed]"
          },
          "metadata": {}
        }
      ],
      "source": [
        "# Visualizing the missing values\n",
        "sns.heatmap(Netflix_df.isnull(), cbar=False)"
      ]
    },
    {
      "cell_type": "markdown",
      "metadata": {
        "id": "H0kj-8xxnORC"
      },
      "source": [
        "### What did you know about your dataset?"
      ]
    },
    {
      "cell_type": "markdown",
      "metadata": {
        "id": "uUfylgNEN8cJ"
      },
      "source": [
        "The dataset typically includes key features about Netflix's movies and TV shows, such as titles, genres, ratings, and durations. By cleaning and preprocessing this data, you can apply unsupervised learning techniques like clustering to group content based on similarities in these attributes. This analysis can help uncover patterns and improve content recommendations, making it easier for users to discover content aligned with their preferences.\n",
        "\n",
        "\n",
        "\n"
      ]
    },
    {
      "cell_type": "markdown",
      "metadata": {
        "id": "nA9Y7ga8ng1Z"
      },
      "source": [
        "## ***2. Understanding Your Variables***"
      ]
    },
    {
      "cell_type": "code",
      "execution_count": null,
      "metadata": {
        "colab": {
          "base_uri": "https://localhost:8080/"
        },
        "id": "j7xfkqrt5Ag5",
        "outputId": "25d7e851-f2e1-4423-ab44-061f30d26a42"
      },
      "outputs": [
        {
          "output_type": "execute_result",
          "data": {
            "text/plain": [
              "Index(['show_id', 'type', 'title', 'director', 'cast', 'country', 'date_added',\n",
              "       'release_year', 'rating', 'duration', 'listed_in', 'description'],\n",
              "      dtype='object')"
            ]
          },
          "metadata": {},
          "execution_count": 10
        }
      ],
      "source": [
        "# Dataset Columns\n",
        "Netflix_df.columns"
      ]
    },
    {
      "cell_type": "code",
      "execution_count": null,
      "metadata": {
        "colab": {
          "base_uri": "https://localhost:8080/",
          "height": 446
        },
        "id": "DnOaZdaE5Q5t",
        "outputId": "8a5be8e5-ce4e-4b54-c899-0de2e8960c75",
        "collapsed": true
      },
      "outputs": [
        {
          "output_type": "execute_result",
          "data": {
            "text/plain": [
              "       show_id   type title                director                cast  \\\n",
              "count     7787   7787  7787                    5398                7069   \n",
              "unique    7787      2  7787                    4049                6831   \n",
              "top         s1  Movie    3%  Raúl Campos, Jan Suter  David Attenborough   \n",
              "freq         1   5377     1                      18                  18   \n",
              "mean       NaN    NaN   NaN                     NaN                 NaN   \n",
              "std        NaN    NaN   NaN                     NaN                 NaN   \n",
              "min        NaN    NaN   NaN                     NaN                 NaN   \n",
              "25%        NaN    NaN   NaN                     NaN                 NaN   \n",
              "50%        NaN    NaN   NaN                     NaN                 NaN   \n",
              "75%        NaN    NaN   NaN                     NaN                 NaN   \n",
              "max        NaN    NaN   NaN                     NaN                 NaN   \n",
              "\n",
              "              country       date_added  release_year rating  duration  \\\n",
              "count            7280             7777   7787.000000   7780      7787   \n",
              "unique            681             1565           NaN     14       216   \n",
              "top     United States  January 1, 2020           NaN  TV-MA  1 Season   \n",
              "freq             2555              118           NaN   2863      1608   \n",
              "mean              NaN              NaN   2013.932580    NaN       NaN   \n",
              "std               NaN              NaN      8.757395    NaN       NaN   \n",
              "min               NaN              NaN   1925.000000    NaN       NaN   \n",
              "25%               NaN              NaN   2013.000000    NaN       NaN   \n",
              "50%               NaN              NaN   2017.000000    NaN       NaN   \n",
              "75%               NaN              NaN   2018.000000    NaN       NaN   \n",
              "max               NaN              NaN   2021.000000    NaN       NaN   \n",
              "\n",
              "            listed_in                                        description  \n",
              "count            7787                                               7787  \n",
              "unique            492                                               7769  \n",
              "top     Documentaries  Multiple women report their husbands as missin...  \n",
              "freq              334                                                  3  \n",
              "mean              NaN                                                NaN  \n",
              "std               NaN                                                NaN  \n",
              "min               NaN                                                NaN  \n",
              "25%               NaN                                                NaN  \n",
              "50%               NaN                                                NaN  \n",
              "75%               NaN                                                NaN  \n",
              "max               NaN                                                NaN  "
            ],
            "text/html": [
              "\n",
              "  <div id=\"df-e3a51806-1666-4e0c-9a84-40edc4897a91\" class=\"colab-df-container\">\n",
              "    <div>\n",
              "<style scoped>\n",
              "    .dataframe tbody tr th:only-of-type {\n",
              "        vertical-align: middle;\n",
              "    }\n",
              "\n",
              "    .dataframe tbody tr th {\n",
              "        vertical-align: top;\n",
              "    }\n",
              "\n",
              "    .dataframe thead th {\n",
              "        text-align: right;\n",
              "    }\n",
              "</style>\n",
              "<table border=\"1\" class=\"dataframe\">\n",
              "  <thead>\n",
              "    <tr style=\"text-align: right;\">\n",
              "      <th></th>\n",
              "      <th>show_id</th>\n",
              "      <th>type</th>\n",
              "      <th>title</th>\n",
              "      <th>director</th>\n",
              "      <th>cast</th>\n",
              "      <th>country</th>\n",
              "      <th>date_added</th>\n",
              "      <th>release_year</th>\n",
              "      <th>rating</th>\n",
              "      <th>duration</th>\n",
              "      <th>listed_in</th>\n",
              "      <th>description</th>\n",
              "    </tr>\n",
              "  </thead>\n",
              "  <tbody>\n",
              "    <tr>\n",
              "      <th>count</th>\n",
              "      <td>7787</td>\n",
              "      <td>7787</td>\n",
              "      <td>7787</td>\n",
              "      <td>5398</td>\n",
              "      <td>7069</td>\n",
              "      <td>7280</td>\n",
              "      <td>7777</td>\n",
              "      <td>7787.000000</td>\n",
              "      <td>7780</td>\n",
              "      <td>7787</td>\n",
              "      <td>7787</td>\n",
              "      <td>7787</td>\n",
              "    </tr>\n",
              "    <tr>\n",
              "      <th>unique</th>\n",
              "      <td>7787</td>\n",
              "      <td>2</td>\n",
              "      <td>7787</td>\n",
              "      <td>4049</td>\n",
              "      <td>6831</td>\n",
              "      <td>681</td>\n",
              "      <td>1565</td>\n",
              "      <td>NaN</td>\n",
              "      <td>14</td>\n",
              "      <td>216</td>\n",
              "      <td>492</td>\n",
              "      <td>7769</td>\n",
              "    </tr>\n",
              "    <tr>\n",
              "      <th>top</th>\n",
              "      <td>s1</td>\n",
              "      <td>Movie</td>\n",
              "      <td>3%</td>\n",
              "      <td>Raúl Campos, Jan Suter</td>\n",
              "      <td>David Attenborough</td>\n",
              "      <td>United States</td>\n",
              "      <td>January 1, 2020</td>\n",
              "      <td>NaN</td>\n",
              "      <td>TV-MA</td>\n",
              "      <td>1 Season</td>\n",
              "      <td>Documentaries</td>\n",
              "      <td>Multiple women report their husbands as missin...</td>\n",
              "    </tr>\n",
              "    <tr>\n",
              "      <th>freq</th>\n",
              "      <td>1</td>\n",
              "      <td>5377</td>\n",
              "      <td>1</td>\n",
              "      <td>18</td>\n",
              "      <td>18</td>\n",
              "      <td>2555</td>\n",
              "      <td>118</td>\n",
              "      <td>NaN</td>\n",
              "      <td>2863</td>\n",
              "      <td>1608</td>\n",
              "      <td>334</td>\n",
              "      <td>3</td>\n",
              "    </tr>\n",
              "    <tr>\n",
              "      <th>mean</th>\n",
              "      <td>NaN</td>\n",
              "      <td>NaN</td>\n",
              "      <td>NaN</td>\n",
              "      <td>NaN</td>\n",
              "      <td>NaN</td>\n",
              "      <td>NaN</td>\n",
              "      <td>NaN</td>\n",
              "      <td>2013.932580</td>\n",
              "      <td>NaN</td>\n",
              "      <td>NaN</td>\n",
              "      <td>NaN</td>\n",
              "      <td>NaN</td>\n",
              "    </tr>\n",
              "    <tr>\n",
              "      <th>std</th>\n",
              "      <td>NaN</td>\n",
              "      <td>NaN</td>\n",
              "      <td>NaN</td>\n",
              "      <td>NaN</td>\n",
              "      <td>NaN</td>\n",
              "      <td>NaN</td>\n",
              "      <td>NaN</td>\n",
              "      <td>8.757395</td>\n",
              "      <td>NaN</td>\n",
              "      <td>NaN</td>\n",
              "      <td>NaN</td>\n",
              "      <td>NaN</td>\n",
              "    </tr>\n",
              "    <tr>\n",
              "      <th>min</th>\n",
              "      <td>NaN</td>\n",
              "      <td>NaN</td>\n",
              "      <td>NaN</td>\n",
              "      <td>NaN</td>\n",
              "      <td>NaN</td>\n",
              "      <td>NaN</td>\n",
              "      <td>NaN</td>\n",
              "      <td>1925.000000</td>\n",
              "      <td>NaN</td>\n",
              "      <td>NaN</td>\n",
              "      <td>NaN</td>\n",
              "      <td>NaN</td>\n",
              "    </tr>\n",
              "    <tr>\n",
              "      <th>25%</th>\n",
              "      <td>NaN</td>\n",
              "      <td>NaN</td>\n",
              "      <td>NaN</td>\n",
              "      <td>NaN</td>\n",
              "      <td>NaN</td>\n",
              "      <td>NaN</td>\n",
              "      <td>NaN</td>\n",
              "      <td>2013.000000</td>\n",
              "      <td>NaN</td>\n",
              "      <td>NaN</td>\n",
              "      <td>NaN</td>\n",
              "      <td>NaN</td>\n",
              "    </tr>\n",
              "    <tr>\n",
              "      <th>50%</th>\n",
              "      <td>NaN</td>\n",
              "      <td>NaN</td>\n",
              "      <td>NaN</td>\n",
              "      <td>NaN</td>\n",
              "      <td>NaN</td>\n",
              "      <td>NaN</td>\n",
              "      <td>NaN</td>\n",
              "      <td>2017.000000</td>\n",
              "      <td>NaN</td>\n",
              "      <td>NaN</td>\n",
              "      <td>NaN</td>\n",
              "      <td>NaN</td>\n",
              "    </tr>\n",
              "    <tr>\n",
              "      <th>75%</th>\n",
              "      <td>NaN</td>\n",
              "      <td>NaN</td>\n",
              "      <td>NaN</td>\n",
              "      <td>NaN</td>\n",
              "      <td>NaN</td>\n",
              "      <td>NaN</td>\n",
              "      <td>NaN</td>\n",
              "      <td>2018.000000</td>\n",
              "      <td>NaN</td>\n",
              "      <td>NaN</td>\n",
              "      <td>NaN</td>\n",
              "      <td>NaN</td>\n",
              "    </tr>\n",
              "    <tr>\n",
              "      <th>max</th>\n",
              "      <td>NaN</td>\n",
              "      <td>NaN</td>\n",
              "      <td>NaN</td>\n",
              "      <td>NaN</td>\n",
              "      <td>NaN</td>\n",
              "      <td>NaN</td>\n",
              "      <td>NaN</td>\n",
              "      <td>2021.000000</td>\n",
              "      <td>NaN</td>\n",
              "      <td>NaN</td>\n",
              "      <td>NaN</td>\n",
              "      <td>NaN</td>\n",
              "    </tr>\n",
              "  </tbody>\n",
              "</table>\n",
              "</div>\n",
              "    <div class=\"colab-df-buttons\">\n",
              "\n",
              "  <div class=\"colab-df-container\">\n",
              "    <button class=\"colab-df-convert\" onclick=\"convertToInteractive('df-e3a51806-1666-4e0c-9a84-40edc4897a91')\"\n",
              "            title=\"Convert this dataframe to an interactive table.\"\n",
              "            style=\"display:none;\">\n",
              "\n",
              "  <svg xmlns=\"http://www.w3.org/2000/svg\" height=\"24px\" viewBox=\"0 -960 960 960\">\n",
              "    <path d=\"M120-120v-720h720v720H120Zm60-500h600v-160H180v160Zm220 220h160v-160H400v160Zm0 220h160v-160H400v160ZM180-400h160v-160H180v160Zm440 0h160v-160H620v160ZM180-180h160v-160H180v160Zm440 0h160v-160H620v160Z\"/>\n",
              "  </svg>\n",
              "    </button>\n",
              "\n",
              "  <style>\n",
              "    .colab-df-container {\n",
              "      display:flex;\n",
              "      gap: 12px;\n",
              "    }\n",
              "\n",
              "    .colab-df-convert {\n",
              "      background-color: #E8F0FE;\n",
              "      border: none;\n",
              "      border-radius: 50%;\n",
              "      cursor: pointer;\n",
              "      display: none;\n",
              "      fill: #1967D2;\n",
              "      height: 32px;\n",
              "      padding: 0 0 0 0;\n",
              "      width: 32px;\n",
              "    }\n",
              "\n",
              "    .colab-df-convert:hover {\n",
              "      background-color: #E2EBFA;\n",
              "      box-shadow: 0px 1px 2px rgba(60, 64, 67, 0.3), 0px 1px 3px 1px rgba(60, 64, 67, 0.15);\n",
              "      fill: #174EA6;\n",
              "    }\n",
              "\n",
              "    .colab-df-buttons div {\n",
              "      margin-bottom: 4px;\n",
              "    }\n",
              "\n",
              "    [theme=dark] .colab-df-convert {\n",
              "      background-color: #3B4455;\n",
              "      fill: #D2E3FC;\n",
              "    }\n",
              "\n",
              "    [theme=dark] .colab-df-convert:hover {\n",
              "      background-color: #434B5C;\n",
              "      box-shadow: 0px 1px 3px 1px rgba(0, 0, 0, 0.15);\n",
              "      filter: drop-shadow(0px 1px 2px rgba(0, 0, 0, 0.3));\n",
              "      fill: #FFFFFF;\n",
              "    }\n",
              "  </style>\n",
              "\n",
              "    <script>\n",
              "      const buttonEl =\n",
              "        document.querySelector('#df-e3a51806-1666-4e0c-9a84-40edc4897a91 button.colab-df-convert');\n",
              "      buttonEl.style.display =\n",
              "        google.colab.kernel.accessAllowed ? 'block' : 'none';\n",
              "\n",
              "      async function convertToInteractive(key) {\n",
              "        const element = document.querySelector('#df-e3a51806-1666-4e0c-9a84-40edc4897a91');\n",
              "        const dataTable =\n",
              "          await google.colab.kernel.invokeFunction('convertToInteractive',\n",
              "                                                    [key], {});\n",
              "        if (!dataTable) return;\n",
              "\n",
              "        const docLinkHtml = 'Like what you see? Visit the ' +\n",
              "          '<a target=\"_blank\" href=https://colab.research.google.com/notebooks/data_table.ipynb>data table notebook</a>'\n",
              "          + ' to learn more about interactive tables.';\n",
              "        element.innerHTML = '';\n",
              "        dataTable['output_type'] = 'display_data';\n",
              "        await google.colab.output.renderOutput(dataTable, element);\n",
              "        const docLink = document.createElement('div');\n",
              "        docLink.innerHTML = docLinkHtml;\n",
              "        element.appendChild(docLink);\n",
              "      }\n",
              "    </script>\n",
              "  </div>\n",
              "\n",
              "\n",
              "<div id=\"df-994c5779-20fb-48b0-9682-7e8d661ed558\">\n",
              "  <button class=\"colab-df-quickchart\" onclick=\"quickchart('df-994c5779-20fb-48b0-9682-7e8d661ed558')\"\n",
              "            title=\"Suggest charts\"\n",
              "            style=\"display:none;\">\n",
              "\n",
              "<svg xmlns=\"http://www.w3.org/2000/svg\" height=\"24px\"viewBox=\"0 0 24 24\"\n",
              "     width=\"24px\">\n",
              "    <g>\n",
              "        <path d=\"M19 3H5c-1.1 0-2 .9-2 2v14c0 1.1.9 2 2 2h14c1.1 0 2-.9 2-2V5c0-1.1-.9-2-2-2zM9 17H7v-7h2v7zm4 0h-2V7h2v10zm4 0h-2v-4h2v4z\"/>\n",
              "    </g>\n",
              "</svg>\n",
              "  </button>\n",
              "\n",
              "<style>\n",
              "  .colab-df-quickchart {\n",
              "      --bg-color: #E8F0FE;\n",
              "      --fill-color: #1967D2;\n",
              "      --hover-bg-color: #E2EBFA;\n",
              "      --hover-fill-color: #174EA6;\n",
              "      --disabled-fill-color: #AAA;\n",
              "      --disabled-bg-color: #DDD;\n",
              "  }\n",
              "\n",
              "  [theme=dark] .colab-df-quickchart {\n",
              "      --bg-color: #3B4455;\n",
              "      --fill-color: #D2E3FC;\n",
              "      --hover-bg-color: #434B5C;\n",
              "      --hover-fill-color: #FFFFFF;\n",
              "      --disabled-bg-color: #3B4455;\n",
              "      --disabled-fill-color: #666;\n",
              "  }\n",
              "\n",
              "  .colab-df-quickchart {\n",
              "    background-color: var(--bg-color);\n",
              "    border: none;\n",
              "    border-radius: 50%;\n",
              "    cursor: pointer;\n",
              "    display: none;\n",
              "    fill: var(--fill-color);\n",
              "    height: 32px;\n",
              "    padding: 0;\n",
              "    width: 32px;\n",
              "  }\n",
              "\n",
              "  .colab-df-quickchart:hover {\n",
              "    background-color: var(--hover-bg-color);\n",
              "    box-shadow: 0 1px 2px rgba(60, 64, 67, 0.3), 0 1px 3px 1px rgba(60, 64, 67, 0.15);\n",
              "    fill: var(--button-hover-fill-color);\n",
              "  }\n",
              "\n",
              "  .colab-df-quickchart-complete:disabled,\n",
              "  .colab-df-quickchart-complete:disabled:hover {\n",
              "    background-color: var(--disabled-bg-color);\n",
              "    fill: var(--disabled-fill-color);\n",
              "    box-shadow: none;\n",
              "  }\n",
              "\n",
              "  .colab-df-spinner {\n",
              "    border: 2px solid var(--fill-color);\n",
              "    border-color: transparent;\n",
              "    border-bottom-color: var(--fill-color);\n",
              "    animation:\n",
              "      spin 1s steps(1) infinite;\n",
              "  }\n",
              "\n",
              "  @keyframes spin {\n",
              "    0% {\n",
              "      border-color: transparent;\n",
              "      border-bottom-color: var(--fill-color);\n",
              "      border-left-color: var(--fill-color);\n",
              "    }\n",
              "    20% {\n",
              "      border-color: transparent;\n",
              "      border-left-color: var(--fill-color);\n",
              "      border-top-color: var(--fill-color);\n",
              "    }\n",
              "    30% {\n",
              "      border-color: transparent;\n",
              "      border-left-color: var(--fill-color);\n",
              "      border-top-color: var(--fill-color);\n",
              "      border-right-color: var(--fill-color);\n",
              "    }\n",
              "    40% {\n",
              "      border-color: transparent;\n",
              "      border-right-color: var(--fill-color);\n",
              "      border-top-color: var(--fill-color);\n",
              "    }\n",
              "    60% {\n",
              "      border-color: transparent;\n",
              "      border-right-color: var(--fill-color);\n",
              "    }\n",
              "    80% {\n",
              "      border-color: transparent;\n",
              "      border-right-color: var(--fill-color);\n",
              "      border-bottom-color: var(--fill-color);\n",
              "    }\n",
              "    90% {\n",
              "      border-color: transparent;\n",
              "      border-bottom-color: var(--fill-color);\n",
              "    }\n",
              "  }\n",
              "</style>\n",
              "\n",
              "  <script>\n",
              "    async function quickchart(key) {\n",
              "      const quickchartButtonEl =\n",
              "        document.querySelector('#' + key + ' button');\n",
              "      quickchartButtonEl.disabled = true;  // To prevent multiple clicks.\n",
              "      quickchartButtonEl.classList.add('colab-df-spinner');\n",
              "      try {\n",
              "        const charts = await google.colab.kernel.invokeFunction(\n",
              "            'suggestCharts', [key], {});\n",
              "      } catch (error) {\n",
              "        console.error('Error during call to suggestCharts:', error);\n",
              "      }\n",
              "      quickchartButtonEl.classList.remove('colab-df-spinner');\n",
              "      quickchartButtonEl.classList.add('colab-df-quickchart-complete');\n",
              "    }\n",
              "    (() => {\n",
              "      let quickchartButtonEl =\n",
              "        document.querySelector('#df-994c5779-20fb-48b0-9682-7e8d661ed558 button');\n",
              "      quickchartButtonEl.style.display =\n",
              "        google.colab.kernel.accessAllowed ? 'block' : 'none';\n",
              "    })();\n",
              "  </script>\n",
              "</div>\n",
              "\n",
              "    </div>\n",
              "  </div>\n"
            ],
            "application/vnd.google.colaboratory.intrinsic+json": {
              "type": "dataframe",
              "summary": "{\n  \"name\": \"Netflix_df\",\n  \"rows\": 11,\n  \"fields\": [\n    {\n      \"column\": \"show_id\",\n      \"properties\": {\n        \"dtype\": \"category\",\n        \"num_unique_values\": 3,\n        \"samples\": [\n          \"7787\",\n          \"s1\",\n          \"1\"\n        ],\n        \"semantic_type\": \"\",\n        \"description\": \"\"\n      }\n    },\n    {\n      \"column\": \"type\",\n      \"properties\": {\n        \"dtype\": \"category\",\n        \"num_unique_values\": 4,\n        \"samples\": [\n          2,\n          \"5377\",\n          \"7787\"\n        ],\n        \"semantic_type\": \"\",\n        \"description\": \"\"\n      }\n    },\n    {\n      \"column\": \"title\",\n      \"properties\": {\n        \"dtype\": \"category\",\n        \"num_unique_values\": 3,\n        \"samples\": [\n          \"7787\",\n          \"3%\",\n          \"1\"\n        ],\n        \"semantic_type\": \"\",\n        \"description\": \"\"\n      }\n    },\n    {\n      \"column\": \"director\",\n      \"properties\": {\n        \"dtype\": \"category\",\n        \"num_unique_values\": 4,\n        \"samples\": [\n          4049,\n          \"18\",\n          \"5398\"\n        ],\n        \"semantic_type\": \"\",\n        \"description\": \"\"\n      }\n    },\n    {\n      \"column\": \"cast\",\n      \"properties\": {\n        \"dtype\": \"category\",\n        \"num_unique_values\": 4,\n        \"samples\": [\n          6831,\n          \"18\",\n          \"7069\"\n        ],\n        \"semantic_type\": \"\",\n        \"description\": \"\"\n      }\n    },\n    {\n      \"column\": \"country\",\n      \"properties\": {\n        \"dtype\": \"category\",\n        \"num_unique_values\": 4,\n        \"samples\": [\n          681,\n          \"2555\",\n          \"7280\"\n        ],\n        \"semantic_type\": \"\",\n        \"description\": \"\"\n      }\n    },\n    {\n      \"column\": \"date_added\",\n      \"properties\": {\n        \"dtype\": \"date\",\n        \"min\": \"1970-01-01 00:00:00.000000118\",\n        \"max\": \"2020-01-01 00:00:00\",\n        \"num_unique_values\": 4,\n        \"samples\": [\n          1565,\n          \"118\",\n          \"7777\"\n        ],\n        \"semantic_type\": \"\",\n        \"description\": \"\"\n      }\n    },\n    {\n      \"column\": \"release_year\",\n      \"properties\": {\n        \"dtype\": \"number\",\n        \"std\": 2256.829351497058,\n        \"min\": 8.757394618381221,\n        \"max\": 7787.0,\n        \"num_unique_values\": 8,\n        \"samples\": [\n          2013.932579940927,\n          2017.0,\n          7787.0\n        ],\n        \"semantic_type\": \"\",\n        \"description\": \"\"\n      }\n    },\n    {\n      \"column\": \"rating\",\n      \"properties\": {\n        \"dtype\": \"category\",\n        \"num_unique_values\": 4,\n        \"samples\": [\n          14,\n          \"2863\",\n          \"7780\"\n        ],\n        \"semantic_type\": \"\",\n        \"description\": \"\"\n      }\n    },\n    {\n      \"column\": \"duration\",\n      \"properties\": {\n        \"dtype\": \"category\",\n        \"num_unique_values\": 4,\n        \"samples\": [\n          216,\n          \"1608\",\n          \"7787\"\n        ],\n        \"semantic_type\": \"\",\n        \"description\": \"\"\n      }\n    },\n    {\n      \"column\": \"listed_in\",\n      \"properties\": {\n        \"dtype\": \"category\",\n        \"num_unique_values\": 4,\n        \"samples\": [\n          492,\n          \"334\",\n          \"7787\"\n        ],\n        \"semantic_type\": \"\",\n        \"description\": \"\"\n      }\n    },\n    {\n      \"column\": \"description\",\n      \"properties\": {\n        \"dtype\": \"category\",\n        \"num_unique_values\": 4,\n        \"samples\": [\n          7769,\n          \"3\",\n          \"7787\"\n        ],\n        \"semantic_type\": \"\",\n        \"description\": \"\"\n      }\n    }\n  ]\n}"
            }
          },
          "metadata": {},
          "execution_count": 67
        }
      ],
      "source": [
        "# Dataset Describe\n",
        "Netflix_df.describe(include='all')\n"
      ]
    },
    {
      "cell_type": "markdown",
      "metadata": {
        "id": "PBTbrJXOngz2"
      },
      "source": [
        "### Variables Description"
      ]
    },
    {
      "cell_type": "markdown",
      "metadata": {
        "id": "aJV4KIxSnxay"
      },
      "source": [
        "**show_id** - A unique identifier for each movie or TV show.\n",
        "\n",
        "**type** - Specifies whether the content is a movie or a TV show.\n",
        "\n",
        "**title** - The name of the movie or TV show.\n",
        "\n",
        "**director** -  The director(s) of the movie or TV show.\n",
        "\n",
        "**cast** - The main actors or cast members of the movie or TV show.\n",
        "\n",
        "**country** - The country where the movie or TV show was produced.\n",
        "\n",
        "**date_added** - The date when the movie or TV show was added to the Netflix platform.\n",
        "\n",
        "**release_year** - The year in which the movie or TV show was originally released.\n",
        "\n",
        "**rating** - The rating given to the movie or TV show, indicating its appropriateness for different age groups.\n",
        "\n",
        "**duration** - The length of the movie or the number of seasons of the TV show.\n",
        "\n",
        "**listed_in** -  The genres or categories that the movie or TV show belongs to.\n",
        "\n",
        "**description** - A brief description or synopsis of the movie or TV show.\n",
        "\n",
        "\n",
        "\n",
        "\n",
        "\n",
        "\n"
      ]
    },
    {
      "cell_type": "markdown",
      "metadata": {
        "id": "u3PMJOP6ngxN"
      },
      "source": [
        "### Check Unique Values for each variable."
      ]
    },
    {
      "cell_type": "code",
      "execution_count": null,
      "metadata": {
        "colab": {
          "base_uri": "https://localhost:8080/"
        },
        "id": "zms12Yq5n-jE",
        "outputId": "d7c626d4-960a-4317-8d18-efccab22a31f"
      },
      "outputs": [
        {
          "output_type": "stream",
          "name": "stdout",
          "text": [
            "No. of unique values in  show_id is 7787 .\n",
            "No. of unique values in  type is 2 .\n",
            "No. of unique values in  title is 7787 .\n",
            "No. of unique values in  director is 4049 .\n",
            "No. of unique values in  cast is 6831 .\n",
            "No. of unique values in  country is 681 .\n",
            "No. of unique values in  date_added is 1565 .\n",
            "No. of unique values in  release_year is 73 .\n",
            "No. of unique values in  rating is 14 .\n",
            "No. of unique values in  duration is 216 .\n",
            "No. of unique values in  listed_in is 492 .\n",
            "No. of unique values in  description is 7769 .\n"
          ]
        }
      ],
      "source": [
        "# Check Unique Values for each variable.\n",
        "for i in Netflix_df.columns.tolist():\n",
        "  print(\"No. of unique values in \",i,\"is\",Netflix_df[i].nunique(),\".\")"
      ]
    },
    {
      "cell_type": "markdown",
      "metadata": {
        "id": "dauF4eBmngu3"
      },
      "source": [
        "## 3. ***Data Wrangling***"
      ]
    },
    {
      "cell_type": "markdown",
      "metadata": {
        "id": "bKJF3rekwFvQ"
      },
      "source": [
        "### Data Wrangling Code"
      ]
    },
    {
      "cell_type": "code",
      "execution_count": null,
      "metadata": {
        "colab": {
          "base_uri": "https://localhost:8080/"
        },
        "id": "wk-9a2fpoLcV",
        "outputId": "f9d1bee5-5692-4971-e4d7-a0b5c42b1e35",
        "collapsed": true
      },
      "outputs": [
        {
          "output_type": "stream",
          "name": "stdout",
          "text": [
            "\n",
            "Missing values after cleaning:\n",
            "type                         0\n",
            "title                        0\n",
            "director                     0\n",
            "cast                         0\n",
            "country                      0\n",
            "                            ..\n",
            " Classic & Cult TV           0\n",
            "TV Sci-Fi & Fantasy          0\n",
            "Romantic Movies              0\n",
            "Spanish-Language TV Shows    0\n",
            "LGBTQ Movies                 0\n",
            "Length: 86, dtype: int64\n",
            "\n",
            "Cleaned dataset info:\n",
            "<class 'pandas.core.frame.DataFrame'>\n",
            "RangeIndex: 7787 entries, 0 to 7786\n",
            "Data columns (total 86 columns):\n",
            " #   Column                         Non-Null Count  Dtype  \n",
            "---  ------                         --------------  -----  \n",
            " 0   type                           7787 non-null   object \n",
            " 1   title                          7787 non-null   object \n",
            " 2   director                       7787 non-null   object \n",
            " 3   cast                           7787 non-null   object \n",
            " 4   country                        7787 non-null   object \n",
            " 5   release_year                   7787 non-null   int64  \n",
            " 6   rating                         7787 non-null   object \n",
            " 7   duration                       7787 non-null   object \n",
            " 8   added_year                     7689 non-null   float64\n",
            " 9   added_month                    7689 non-null   float64\n",
            " 10  duration_minutes               7787 non-null   float64\n",
            " 11  is_movie                       7787 non-null   int64  \n",
            " 12  is_tv_show                     7787 non-null   int64  \n",
            " 13  International TV Shows         7787 non-null   int64  \n",
            " 14   TV Dramas                     7787 non-null   int64  \n",
            " 15   TV Sci-Fi & Fantasy           7787 non-null   int64  \n",
            " 16  Dramas                         7787 non-null   int64  \n",
            " 17   International Movies          7787 non-null   int64  \n",
            " 18  Horror Movies                  7787 non-null   int64  \n",
            " 19  Action & Adventure             7787 non-null   int64  \n",
            " 20   Independent Movies            7787 non-null   int64  \n",
            " 21   Sci-Fi & Fantasy              7787 non-null   int64  \n",
            " 22   TV Mysteries                  7787 non-null   int64  \n",
            " 23   Thrillers                     7787 non-null   int64  \n",
            " 24  Crime TV Shows                 7787 non-null   int64  \n",
            " 25   International TV Shows        7787 non-null   int64  \n",
            " 26   Docuseries                    7787 non-null   int64  \n",
            " 27  Documentaries                  7787 non-null   int64  \n",
            " 28   Sports Movies                 7787 non-null   int64  \n",
            " 29  Independent Movies             7787 non-null   int64  \n",
            " 30  Comedies                       7787 non-null   int64  \n",
            " 31   Dramas                        7787 non-null   int64  \n",
            " 32  Sports Movies                  7787 non-null   int64  \n",
            " 33  Anime Series                   7787 non-null   int64  \n",
            " 34  Reality TV                     7787 non-null   int64  \n",
            " 35  TV Comedies                    7787 non-null   int64  \n",
            " 36   Romantic Movies               7787 non-null   int64  \n",
            " 37   Romantic TV Shows             7787 non-null   int64  \n",
            " 38   TV Comedies                   7787 non-null   int64  \n",
            " 39  Docuseries                     7787 non-null   int64  \n",
            " 40   Science & Nature TV           7787 non-null   int64  \n",
            " 41  Movies                         7787 non-null   int64  \n",
            " 42  British TV Shows               7787 non-null   int64  \n",
            " 43   Reality TV                    7787 non-null   int64  \n",
            " 44   Korean TV Shows               7787 non-null   int64  \n",
            " 45   Music & Musicals              7787 non-null   int64  \n",
            " 46  International Movies           7787 non-null   int64  \n",
            " 47  Sci-Fi & Fantasy               7787 non-null   int64  \n",
            " 48   Comedies                      7787 non-null   int64  \n",
            " 49   LGBTQ Movies                  7787 non-null   int64  \n",
            " 50   Faith & Spirituality          7787 non-null   int64  \n",
            " 51  Kids' TV                       7787 non-null   int64  \n",
            " 52   TV Action & Adventure         7787 non-null   int64  \n",
            " 53   Spanish-Language TV Shows     7787 non-null   int64  \n",
            " 54  Children & Family Movies       7787 non-null   int64  \n",
            " 55  TV Shows                       7787 non-null   int64  \n",
            " 56   Classic Movies                7787 non-null   int64  \n",
            " 57  Classic Movies                 7787 non-null   int64  \n",
            " 58   Cult Movies                   7787 non-null   int64  \n",
            " 59   Horror Movies                 7787 non-null   int64  \n",
            " 60   TV Horror                     7787 non-null   int64  \n",
            " 61  Thrillers                      7787 non-null   int64  \n",
            " 62  Stand-Up Comedy & Talk Shows   7787 non-null   int64  \n",
            " 63   Teen TV Shows                 7787 non-null   int64  \n",
            " 64  Stand-Up Comedy                7787 non-null   int64  \n",
            " 65  Anime Features                 7787 non-null   int64  \n",
            " 66  Music & Musicals               7787 non-null   int64  \n",
            " 67   Children & Family Movies      7787 non-null   int64  \n",
            " 68  TV Dramas                      7787 non-null   int64  \n",
            " 69   Stand-Up Comedy & Talk Shows  7787 non-null   int64  \n",
            " 70   Documentaries                 7787 non-null   int64  \n",
            " 71   Crime TV Shows                7787 non-null   int64  \n",
            " 72   Anime Features                7787 non-null   int64  \n",
            " 73  TV Horror                      7787 non-null   int64  \n",
            " 74   TV Thrillers                  7787 non-null   int64  \n",
            " 75  TV Action & Adventure          7787 non-null   int64  \n",
            " 76   Kids' TV                      7787 non-null   int64  \n",
            " 77  Classic & Cult TV              7787 non-null   int64  \n",
            " 78  Romantic TV Shows              7787 non-null   int64  \n",
            " 79   Stand-Up Comedy               7787 non-null   int64  \n",
            " 80  Cult Movies                    7787 non-null   int64  \n",
            " 81   Classic & Cult TV             7787 non-null   int64  \n",
            " 82  TV Sci-Fi & Fantasy            7787 non-null   int64  \n",
            " 83  Romantic Movies                7787 non-null   int64  \n",
            " 84  Spanish-Language TV Shows      7787 non-null   int64  \n",
            " 85  LGBTQ Movies                   7787 non-null   int64  \n",
            "dtypes: float64(3), int64(76), object(7)\n",
            "memory usage: 5.1+ MB\n",
            "None\n",
            "\n",
            "Sample of the cleaned dataset:\n",
            "      type  title           director  \\\n",
            "0  TV Show     3%            Unknown   \n",
            "1    Movie   7:19  Jorge Michel Grau   \n",
            "2    Movie  23:59       Gilbert Chan   \n",
            "3    Movie      9        Shane Acker   \n",
            "4    Movie     21     Robert Luketic   \n",
            "\n",
            "                                                cast        country  \\\n",
            "0  João Miguel, Bianca Comparato, Michel Gomes, R...         Brazil   \n",
            "1  Demián Bichir, Héctor Bonilla, Oscar Serrano, ...         Mexico   \n",
            "2  Tedd Chan, Stella Chung, Henley Hii, Lawrence ...      Singapore   \n",
            "3  Elijah Wood, John C. Reilly, Jennifer Connelly...  United States   \n",
            "4  Jim Sturgess, Kevin Spacey, Kate Bosworth, Aar...  United States   \n",
            "\n",
            "   release_year rating   duration  added_year  added_month  ...   Kids' TV  \\\n",
            "0          2020  TV-MA  4 Seasons      2020.0          8.0  ...          0   \n",
            "1          2016  TV-MA     93 min      2016.0         12.0  ...          0   \n",
            "2          2011      R     78 min      2018.0         12.0  ...          0   \n",
            "3          2009  PG-13     80 min      2017.0         11.0  ...          0   \n",
            "4          2008  PG-13    123 min      2020.0          1.0  ...          0   \n",
            "\n",
            "   Classic & Cult TV  Romantic TV Shows   Stand-Up Comedy  Cult Movies  \\\n",
            "0                  0                  0                 0            0   \n",
            "1                  0                  0                 0            0   \n",
            "2                  0                  0                 0            0   \n",
            "3                  0                  0                 0            0   \n",
            "4                  0                  0                 0            0   \n",
            "\n",
            "    Classic & Cult TV  TV Sci-Fi & Fantasy  Romantic Movies  \\\n",
            "0                   0                    1                0   \n",
            "1                   0                    0                0   \n",
            "2                   0                    0                0   \n",
            "3                   0                    0                0   \n",
            "4                   0                    0                0   \n",
            "\n",
            "   Spanish-Language TV Shows  LGBTQ Movies  \n",
            "0                          0             0  \n",
            "1                          0             0  \n",
            "2                          0             0  \n",
            "3                          0             0  \n",
            "4                          0             0  \n",
            "\n",
            "[5 rows x 86 columns]\n"
          ]
        }
      ],
      "source": [
        "\n",
        "Netflix_df = pd.read_csv(file_path)\n",
        "\n",
        "# Assign data Netflix into df\n",
        "df = Netflix_df\n",
        "# Step 1: Handle Missing Data\n",
        "\n",
        "# Fill missing 'director', 'cast', 'country', and 'rating' with 'Unknown'\n",
        "df['director'].fillna('Unknown', inplace=True)\n",
        "df['cast'].fillna('Unknown', inplace=True)\n",
        "df['country'].fillna('Unknown', inplace=True)\n",
        "df['rating'].fillna('Unknown', inplace=True)\n",
        "\n",
        "# 'date_added' can have missing values, let's leave them as NaT (Not a Time) for now\n",
        "df['date_added'] = pd.to_datetime(df['date_added'], errors='coerce')\n",
        "\n",
        "# If there are any remaining NaT values in 'date_added' column, we could decide to fill them later\n",
        "# or drop rows with missing dates if necessary:\n",
        "# df.dropna(subset=['date_added'], inplace=True)\n",
        "\n",
        "# Step 2: Convert Data Types\n",
        "\n",
        "# 'release_year' is an integer, ensure there are no NaNs\n",
        "df['release_year'] = df['release_year'].fillna(df['release_year'].mode()[0]).astype(int)\n",
        "\n",
        "# Extract Year and Month from 'date_added' column\n",
        "df['added_year'] = df['date_added'].dt.year\n",
        "df['added_month'] = df['date_added'].dt.month\n",
        "\n",
        "# Step 3: Feature Engineering\n",
        "\n",
        "# Extract numeric value from 'duration' column (e.g., number of minutes for movies or seasons for TV shows)\n",
        "df['duration_minutes'] = df['duration'].str.extract('(\\d+)').astype(float)\n",
        "\n",
        "# Optional: Create new feature for movie vs. TV Show if necessary for clustering (based on 'type')\n",
        "df['is_movie'] = df['type'].apply(lambda x: 1 if x == 'Movie' else 0)\n",
        "df['is_tv_show'] = df['type'].apply(lambda x: 1 if x == 'TV Show' else 0)\n",
        "\n",
        "# Step 4: One-Hot Encoding for 'listed_in' (Genres)\n",
        "# Split the 'listed_in' column by commas to get individual genres\n",
        "df['listed_in'] = df['listed_in'].fillna('Unknown')  # Handle NaN in 'listed_in' before splitting\n",
        "genres = df['listed_in'].str.split(',', expand=True).stack().unique()  # Get unique genres\n",
        "\n",
        "# One-hot encode the genres (multiple columns for each genre)\n",
        "for genre in genres:\n",
        "    df[genre] = df['listed_in'].str.contains(genre).astype(int)\n",
        "\n",
        "# Step 5: Drop Unnecessary Columns\n",
        "# We may not need 'show_id' and 'description' for clustering\n",
        "df.drop(columns=['show_id', 'description', 'date_added', 'listed_in'], inplace=True)\n",
        "\n",
        "# Step 6: Final Data Inspection\n",
        "# Check for missing values\n",
        "print(\"\\nMissing values after cleaning:\")\n",
        "print(df.isnull().sum())\n",
        "\n",
        "# Check the final structure of the cleaned data\n",
        "print(\"\\nCleaned dataset info:\")\n",
        "print(df.info())\n",
        "\n",
        "# View a sample of the cleaned data\n",
        "print(\"\\nSample of the cleaned dataset:\")\n",
        "print(df.head())\n"
      ]
    },
    {
      "cell_type": "markdown",
      "metadata": {
        "id": "MSa1f5Uengrz"
      },
      "source": [
        "### What all manipulations have you done and insights you found?"
      ]
    },
    {
      "cell_type": "markdown",
      "metadata": {
        "id": "7ujdCqUgHVcw"
      },
      "source": [
        "Data Wrangling Manipulations:\n",
        "1. Handling Missing Data:\n",
        "Missing values in columns:\n",
        "\n",
        "director, cast, country, rating: Missing values in these categorical columns were filled with \"Unknown\". This ensures the data is complete and prevents issues that might arise from missing categorical variables, which are critical for clustering.\n",
        "Reason for this manipulation:\n",
        "\n",
        "The dataset contains important information about the movie/show creators, cast, country of origin, and ratings. These features are often used in clustering or recommendation models, so filling missing values with \"Unknown\" ensures that you don’t lose any rows and avoids errors related to missing data.\n",
        "Insight:\n",
        "\n",
        "There may be a significant number of Netflix titles that lack detailed information on directors, cast, country, or ratings, but filling these as \"Unknown\" keeps the data intact and manageable. If these fields were dropped instead, you would lose valuable data, which might not be ideal unless missing data is very frequent.\n",
        "date_added: This column, which has missing values, was converted to datetime using pd.to_datetime(). The errors='coerce' argument is used, which turns invalid date entries (and missing values) into NaT (Not a Time).\n",
        "\n",
        "Reason for this manipulation:\n",
        "\n",
        "Converting date_added into a datetime format allows us to extract temporal features like added_year and added_month. Additionally, handling invalid or missing dates as NaT maintains flexibility for further handling (e.g., imputing or excluding these entries later).\n",
        "Insight:\n",
        "\n",
        "There may be missing values or improperly formatted date entries. Handling this with NaT means we can later investigate or filter out those rows if needed without losing data prematurely.\n",
        "2. Data Type Conversion:\n",
        "release_year: The release_year column is ensured to be of integer type. Any missing values were filled with the mode (the most frequent value), assuming that the missing values can reasonably be replaced by the most common year in the dataset.\n",
        "\n",
        "Reason for this manipulation:\n",
        "\n",
        "The release_year is an important feature, especially if you're clustering based on when content was released. Using the mode to fill missing values makes sense if the missing values are few and could reasonably be the same as the most common value.\n",
        "Insight:\n",
        "\n",
        "By filling in missing years with the mode, the dataset remains consistent, and there's no loss of information. This manipulation assumes that missing values are not indicative of any pattern, so the most common year can serve as a reasonable replacement.\n",
        "3. Feature Engineering:\n",
        "added_year and added_month: These were derived from the date_added column. By extracting these features, we can analyze temporal trends in the data, such as how content availability on Netflix has evolved over time.\n",
        "\n",
        "Reason for this manipulation:\n",
        "\n",
        "By extracting the year and month when a title was added, these features help in clustering or identifying trends in content releases over time (e.g., seasonal trends in types of content). These temporal features could be useful for segmenting content based on release period or for time-based analysis.\n",
        "Insight:\n",
        "\n",
        "The added_year and added_month features will allow the clustering model to group content based on when it was added to the platform. For example, you could identify patterns in content release by season (e.g., genres or ratings that are more prominent in specific months or years).\n",
        "duration_minutes: The duration column, which includes both \"minutes\" for movies and \"seasons\" for TV shows, was transformed into a numeric feature representing the number of minutes (or equivalent duration). This was achieved using a regular expression to extract the numeric value.\n",
        "\n",
        "Reason for this manipulation:\n",
        "\n",
        "The duration column needs to be transformed into a numeric format to be useful for machine learning algorithms. For movies, the numeric value is the duration in minutes, while for TV shows, we take the number of seasons.\n",
        "Insight:\n",
        "\n",
        "This feature is useful for clustering, as you can distinguish between longer movies, shorter episodes, or multi-season shows. This can help in segmenting content based on its length, which could be correlated with viewer engagement or popularity.\n",
        "is_movie and is_tv_show: These binary features were derived from the type column to easily distinguish between movies and TV shows. This could be especially useful in clustering models when the type of content might influence how similar shows and movies are to each other.\n",
        "\n",
        "Reason for this manipulation:\n",
        "\n",
        "Many machine learning algorithms work better with binary features, and this binary encoding allows clustering algorithms to treat movies and TV shows as separate classes. This helps separate genres and preferences tied to content type (e.g., people may prefer movies or TV shows based on their personal preferences).\n",
        "Insight:\n",
        "\n",
        "These new binary features (is_movie and is_tv_show) allow the model to distinguish between the two types of content. This is valuable because movies and TV shows have different characteristics and appeal to different audiences, which might lead to different clustering patterns.\n",
        "4. One-Hot Encoding for Genres:\n",
        "Genres (listed_in): The listed_in column, which contains a list of genres separated by commas, was split into individual genre columns and then one-hot encoded (binary columns for each genre).\n",
        "\n",
        "Reason for this manipulation:\n",
        "\n",
        "One-hot encoding is essential for handling categorical variables like genres in machine learning. Each genre is treated as a separate feature, and this allows the algorithm to understand whether a given title belongs to a specific genre.\n",
        "Insight:\n",
        "\n",
        "One-hot encoding the genres gives the model more flexibility in identifying patterns across different genres. For example, a show could belong to multiple genres (e.g., \"Drama\" and \"Action\"), and this encoding allows the clustering model to treat these genres as independent features.\n",
        "5. Dropping Unnecessary Columns:\n",
        "Columns Dropped: The show_id, description, date_added, and listed_in columns were dropped.\n",
        "Reason: The show_id is a unique identifier and doesn't contribute to the clustering process. The description column is often text-heavy and requires text-based processing (e.g., NLP), which may not be necessary for a simple clustering model. The date_added column was dropped after extracting the relevant temporal features (added_year and added_month). The listed_in column was removed after one-hot encoding the genres.\n",
        "Insight:\n",
        "Dropping unnecessary columns helps streamline the dataset and focuses on features that are directly useful for clustering or analysis. It also reduces noise, making the clustering process more efficient.\n",
        "\n",
        "\n",
        "\n",
        "**Final Insights:**\n",
        "Data Quality:\n",
        "The dataset has a fair amount of missing values, especially in columns like director, cast, and country. Handling missing values by filling them with \"Unknown\" prevents data loss, but it’s important to note that this might introduce bias in some cases, especially when those features are important for clustering.\n",
        "Temporal Features:\n",
        "Extracting the year and month when a title was added allows us to track content trends over time. This is useful for identifying how Netflix's content offerings have changed over the years, which could be important for analyzing patterns in user preferences.\n",
        "Content Type and Duration:\n",
        "The separation of content into movies and TV shows, combined with the extraction of duration, provides useful features for clustering. These features help identify patterns based on content length and type.\n",
        "Genres:\n",
        "One-hot encoding the genres transforms the listed_in column into a format that can be used directly in machine learning algorithms. This enables the model to group similar genres together, which is key for content recommendations or clustering similar types of content.\n",
        "Feature Engineering:\n",
        "Creating binary features (is_movie, is_tv_show) and numeric features (duration_minutes) from existing columns enhances the dataset’s utility for clustering models. It simplifies the data, making it easier for algorithms to detect patterns."
      ]
    },
    {
      "cell_type": "markdown",
      "metadata": {
        "id": "LbyXE7I1olp8"
      },
      "source": []
    },
    {
      "cell_type": "markdown",
      "metadata": {
        "id": "GF8Ens_Soomf"
      },
      "source": [
        "## ***4. Data Vizualization, Storytelling & Experimenting with charts : Understand the relationships between variables***"
      ]
    },
    {
      "cell_type": "markdown",
      "metadata": {
        "id": "0wOQAZs5pc--"
      },
      "source": [
        "#### Chart  1 - Distribution of Netflix Content Type (Movies vs TV Shows)"
      ]
    },
    {
      "cell_type": "code",
      "execution_count": null,
      "metadata": {
        "colab": {
          "base_uri": "https://localhost:8080/",
          "height": 598
        },
        "id": "7v_ESjsspbW7",
        "outputId": "5997b5c2-3bfa-4919-f148-98bad228b4c3"
      },
      "outputs": [
        {
          "output_type": "display_data",
          "data": {
            "text/plain": [
              "<Figure size 700x700 with 1 Axes>"
            ],
            "image/png": "[encoded data removed]"
          },
          "metadata": {}
        }
      ],
      "source": [
        "# Chart - 1 visualization code\n",
        "# Calculate the count of each type (Movie, TV Show)\n",
        "type_counts = Netflix_df['type'].value_counts()\n",
        "\n",
        "# Plot the pie chart\n",
        "plt.figure(figsize=(7, 7))\n",
        "plt.pie(type_counts, labels=type_counts.index, autopct='%1.1f%%', startangle=90, colors=['#66b3ff', '#99ff99'])\n",
        "plt.title('Distribution of Netflix Content Type (Movies vs TV Shows)')\n",
        "plt.axis('equal')  # Equal aspect ratio ensures that pie is drawn as a circle.\n",
        "plt.show()\n"
      ]
    },
    {
      "cell_type": "markdown",
      "metadata": {
        "id": "K5QZ13OEpz2H"
      },
      "source": [
        "##### 1. Why did you pick the specific chart?"
      ]
    },
    {
      "cell_type": "markdown",
      "metadata": {
        "id": "XESiWehPqBRc"
      },
      "source": [
        "The pie chart was chosen because it is a simple and effective way to visualize the distribution of the two categories (Movies vs. TV Shows) in your dataset. It makes the proportion of each category immediately clear and visually striking, making it easier for stakeholders or viewers to interpret the dataset at a glance."
      ]
    },
    {
      "cell_type": "markdown",
      "metadata": {
        "id": "lQ7QKXXCp7Bj"
      },
      "source": [
        "##### 2. What is/are the insight(s) found from the chart?"
      ]
    },
    {
      "cell_type": "markdown",
      "metadata": {
        "id": "C_j1G7yiqdRP"
      },
      "source": [
        "The pie chart provides a clear and intuitive visual representation of Netflix’s content mix, helping us understand the relative emphasis on movies vs. TV shows. This insight could inform both content strategy and user engagement practices, guiding future recommendations and decisions about content acquisition or production."
      ]
    },
    {
      "cell_type": "markdown",
      "metadata": {
        "id": "448CDAPjqfQr"
      },
      "source": [
        "##### 3. Will the gained insights help creating a positive business impact?\n",
        "Are there any insights that lead to negative growth? Justify with specific reason."
      ]
    },
    {
      "cell_type": "markdown",
      "metadata": {
        "id": "3cspy4FjqxJW"
      },
      "source": [
        "While the insights gained from the pie chart provide a clearer understanding of the content breakdown and can inform Netflix’s strategic decisions, there are potential risks associated with overemphasis on one type of content or failure to diversify. To create a positive business impact, Netflix must strike a balance in content offerings, constantly adapt to user preferences, and ensure that both movie lovers and TV show enthusiasts are satisfied.\n",
        "\n",
        "Ignoring these potential risks could negatively affect user retention and growth, leading to a decrease in engagement and potential losses in subscribers. Therefore, continuous monitoring of content trends and being flexible in content strategies is essential for sustained growth."
      ]
    },
    {
      "cell_type": "markdown",
      "metadata": {
        "id": "KSlN3yHqYklG"
      },
      "source": [
        "#### Chart 2 -  Distribution of Content Types (Movies vs TV Shows)\n"
      ]
    },
    {
      "cell_type": "code",
      "execution_count": null,
      "metadata": {
        "colab": {
          "base_uri": "https://localhost:8080/",
          "height": 565
        },
        "id": "R4YgtaqtYklH",
        "outputId": "9350df80-fef5-4a4c-de97-4fa9d296afc0"
      },
      "outputs": [
        {
          "output_type": "display_data",
          "data": {
            "text/plain": [
              "<Figure size 800x600 with 1 Axes>"
            ],
            "image/png": "[encoded data removed]"
          },
          "metadata": {}
        }
      ],
      "source": [
        " #Distribution of Content Types (Movies vs TV Shows)\n",
        "\n",
        "# Chart - 2 visualization code\n",
        "\n",
        "# Count plot for 'type' (Movie vs TV Show)\n",
        "plt.figure(figsize=(8, 6))\n",
        "sns.countplot(data=Netflix_df, x='type', palette='Set2')\n",
        "plt.title('Distribution of Movies vs TV Shows')\n",
        "plt.ylabel('Count')\n",
        "plt.xlabel('Content Type')\n",
        "plt.show()\n"
      ]
    },
    {
      "cell_type": "markdown",
      "metadata": {
        "id": "t6dVpIINYklI"
      },
      "source": [
        "##### 1. Why did you pick the specific chart?"
      ]
    },
    {
      "cell_type": "markdown",
      "metadata": {
        "id": "5aaW0BYyYklI"
      },
      "source": [
        "The count plot (bar chart) was selected because it's simple, effective, and ideal for comparing categorical data with a small number of categories (Movies vs. TV Shows). It provides a clear visual representation of the distribution, helping you quickly identify which category is more dominant in the dataset. It is also customizable, scalable, and easily interpretable."
      ]
    },
    {
      "cell_type": "markdown",
      "metadata": {
        "id": "ijmpgYnKYklI"
      },
      "source": [
        "##### 2. What is/are the insight(s) found from the chart?"
      ]
    },
    {
      "cell_type": "markdown",
      "metadata": {
        "id": "PSx9atu2YklI"
      },
      "source": [
        "The count plot provides a clear, visual representation of the distribution of Movies vs. TV Shows on Netflix. It helps you quickly understand which type of content dominates the platform’s library and can provide insights into Netflix's content strategy, user engagement patterns, and market trends. These insights can help Netflix make data-driven decisions regarding content acquisition, user experience, and future investments in content creation."
      ]
    },
    {
      "cell_type": "markdown",
      "metadata": {
        "id": "-JiQyfWJYklI"
      },
      "source": [
        "##### 3. Will the gained insights help creating a positive business impact?\n",
        "Are there any insights that lead to negative growth? Justify with specific reason."
      ]
    },
    {
      "cell_type": "markdown",
      "metadata": {
        "id": "BcBbebzrYklV"
      },
      "source": [
        "The insights from the distribution of Movies vs. TV Shows help Netflix refine its content strategy, improve user engagement, tailor marketing efforts, and gain a competitive advantage. These insights can increase retention rates, boost subscriber growth, and enhance global market relevance.\n",
        "\n",
        "If Netflix overemphasizes one content type (e.g., TV shows at the expense of movies), it risks alienating certain user segments, leading to churn and lower engagement. Furthermore, failure to stay aligned with evolving user preferences or the changing market landscape could result in Netflix losing market share to competitors."
      ]
    },
    {
      "cell_type": "markdown",
      "metadata": {
        "id": "EM7whBJCYoAo"
      },
      "source": [
        "#### Chart 3- Ratings Distribution"
      ]
    },
    {
      "cell_type": "code",
      "execution_count": null,
      "metadata": {
        "colab": {
          "base_uri": "https://localhost:8080/",
          "height": 606
        },
        "id": "oyIoUQI2GsSM",
        "outputId": "cefc7ab2-3ab2-4d6b-9648-460ba17ed6d7"
      },
      "outputs": [
        {
          "output_type": "display_data",
          "data": {
            "text/plain": [
              "<Figure size 1000x600 with 1 Axes>"
            ],
            "image/png": "[encoded data removed]"
          },
          "metadata": {}
        }
      ],
      "source": [
        "# Count plot for ratings distribution\n",
        "plt.figure(figsize=(10, 6))\n",
        "sns.countplot(data=Netflix_df, x='rating', palette='viridis', order=Netflix_df['rating'].value_counts().index)\n",
        "plt.title('Distribution of Ratings')\n",
        "plt.ylabel('Count')\n",
        "plt.xlabel('Rating')\n",
        "plt.xticks(rotation=45)\n",
        "plt.show()\n"
      ]
    },
    {
      "cell_type": "markdown",
      "metadata": {
        "id": "fge-S5ZAYoAp"
      },
      "source": [
        "##### 1. Why did you pick the specific chart?"
      ]
    },
    {
      "cell_type": "markdown",
      "metadata": {
        "id": "5dBItgRVYoAp"
      },
      "source": [
        "A count plot is ideal for categorical data where we want to see how frequently each category occurs. In this case, the categories are different ratings (e.g., \"PG\", \"R\", \"TV-MA\").\n",
        "It allows us to easily compare the number of occurrences for each rating and provides a clear representation of the distribution of ratings across the dataset."
      ]
    },
    {
      "cell_type": "markdown",
      "metadata": {
        "id": "85gYPyotYoAp"
      },
      "source": [
        "##### 2. What is/are the insight(s) found from the chart?"
      ]
    },
    {
      "cell_type": "markdown",
      "metadata": {
        "id": "4jstXR6OYoAp"
      },
      "source": [
        "The ratings distribution chart provides valuable insights into the types of content available on Netflix and the platform's audience targeting. Here are some potential insights that can be derived from the chart, depending on the actual distribution of ratings:\n",
        "\n"
      ]
    },
    {
      "cell_type": "markdown",
      "metadata": {
        "id": "RoGjAbkUYoAp"
      },
      "source": [
        "##### 3. Will the gained insights help creating a positive business impact?\n",
        "Are there any insights that lead to negative growth? Justify with specific reason."
      ]
    },
    {
      "cell_type": "markdown",
      "metadata": {
        "id": "zfJ8IqMcYoAp"
      },
      "source": [
        "The insights gained from the ratings distribution chart can help Netflix refine its content strategy to better serve diverse demographics, from families to mature audiences. By balancing its content offerings, Netflix can continue to grow its global subscriber base and retain viewers across age groups, which would lead to long-term business success.\n",
        "\n",
        "However, there are risks associated with overemphasizing mature content or family-friendly content at the expense of other demographics, which could lead to content imbalance and subscriber churn. Netflix must carefully balance its offerings to ensure it appeals to both families and adults, as well as tap into niche categories like teen-focused content to avoid losing viewers in these key groups."
      ]
    },
    {
      "cell_type": "markdown",
      "metadata": {
        "id": "bamQiAODYuh1"
      },
      "source": [
        "#### Chart 4 -  Distribution of Release Years"
      ]
    },
    {
      "cell_type": "code",
      "execution_count": null,
      "metadata": {
        "colab": {
          "base_uri": "https://localhost:8080/",
          "height": 565
        },
        "id": "TIJwrbroYuh3",
        "outputId": "69ef4100-598c-4fb0-a785-be090d79aad8"
      },
      "outputs": [
        {
          "output_type": "display_data",
          "data": {
            "text/plain": [
              "<Figure size 1200x600 with 1 Axes>"
            ],
            "image/png": "[encoded data removed]"
          },
          "metadata": {}
        }
      ],
      "source": [
        "# Chart - 4 visualization\n",
        "# Plotting distribution of release years\n",
        "plt.figure(figsize=(12, 6))\n",
        "sns.histplot(df['release_year'], bins=30, kde=True, color='skyblue')\n",
        "plt.title('Distribution of Release Years')\n",
        "plt.xlabel('Release Year')\n",
        "plt.ylabel('Count')\n",
        "plt.show()\n"
      ]
    },
    {
      "cell_type": "markdown",
      "metadata": {
        "id": "QHF8YVU7Yuh3"
      },
      "source": [
        "##### 1. Why did you pick the specific chart?"
      ]
    },
    {
      "cell_type": "markdown",
      "metadata": {
        "id": "dcxuIMRPYuh3"
      },
      "source": [
        "The release_year column is continuous (though it is in integer form), and you want to visualize how the data is distributed across different years. A histogram is a common and effective tool for showing the distribution of continuous data, especially when you want to understand the frequency of occurrences within specific intervals (bins)."
      ]
    },
    {
      "cell_type": "markdown",
      "metadata": {
        "id": "GwzvFGzlYuh3"
      },
      "source": [
        "##### 2. What is/are the insight(s) found from the chart?"
      ]
    },
    {
      "cell_type": "markdown",
      "metadata": {
        "id": "uyqkiB8YYuh3"
      },
      "source": [
        "The distribution of release years chart helps to identify Trends in Netflix's content output (whether the production has increased, plateaued, or decreased).\n",
        "Strategic shifts, such as the transition from a content aggregator to a content producer.\n",
        "Growth patterns, especially with original productions and global expansion."
      ]
    },
    {
      "cell_type": "markdown",
      "metadata": {
        "id": "qYpmQ266Yuh3"
      },
      "source": [
        "##### 3. Will the gained insights help creating a positive business impact?\n",
        "Are there any insights that lead to negative growth? Justify with specific reason."
      ]
    },
    {
      "cell_type": "markdown",
      "metadata": {
        "id": "_WtzZ_hCYuh4"
      },
      "source": [
        "Positive Impacts: Continued growth, the ability to capitalize on successful content, and global expansion can drive revenue growth and increase subscriber retention.                                          \n",
        "Negative Impacts: A plateau in content releases, over-reliance on original content, or a narrow focus on specific genres/regions could potentially lead to higher costs, content fatigue, and subscriber churn, which may harm Netflix’s growth in the long term."
      ]
    },
    {
      "cell_type": "markdown",
      "metadata": {
        "id": "OH-pJp9IphqM"
      },
      "source": [
        "#### Chart 5 - . Duration Distribution (Movies vs TV Shows)"
      ]
    },
    {
      "cell_type": "code",
      "execution_count": null,
      "metadata": {
        "colab": {
          "base_uri": "https://localhost:8080/",
          "height": 565
        },
        "id": "kuRf4wtuphqN",
        "outputId": "bb019943-8aea-4d4f-e14a-48d323fc805c"
      },
      "outputs": [
        {
          "output_type": "display_data",
          "data": {
            "text/plain": [
              "<Figure size 1200x600 with 1 Axes>"
            ],
            "image/png": "[encoded data removed]"
          },
          "metadata": {}
        }
      ],
      "source": [
        "# Chart - 5 visualization code\n",
        "# Let's first ensure that the 'duration' column is processed for Movies and TV Shows\n",
        "df['duration_minutes'] = df['duration'].str.extract('(\\d+)').astype(float)\n",
        "df_movies = df[df['type'] == 'Movie']\n",
        "\n",
        "# Distribution of duration for movies (in minutes)\n",
        "plt.figure(figsize=(12, 6))\n",
        "sns.histplot(df_movies['duration_minutes'], bins=20, kde=True, color='green')\n",
        "plt.title('Distribution of Movie Durations')\n",
        "plt.xlabel('Duration (minutes)')\n",
        "plt.ylabel('Count')\n",
        "plt.show()\n"
      ]
    },
    {
      "cell_type": "markdown",
      "metadata": {
        "id": "bbFf2-_FphqN"
      },
      "source": [
        "##### 1. Why did you pick the specific chart?"
      ]
    },
    {
      "cell_type": "markdown",
      "metadata": {
        "id": "loh7H2nzphqN"
      },
      "source": [
        "This plot will show how the duration (in minutes for movies and number of seasons for TV shows) varies across the dataset."
      ]
    },
    {
      "cell_type": "markdown",
      "metadata": {
        "id": "_ouA3fa0phqN"
      },
      "source": [
        "##### 2. What is/are the insight(s) found from the chart?"
      ]
    },
    {
      "cell_type": "markdown",
      "metadata": {
        "id": "VECbqPI7phqN"
      },
      "source": [
        "Mainstream Movie Lengths: The bulk of the movies on Netflix fall within the 90–120 minute range, aligning with the typical feature film.\n",
        "\n",
        "Niche Long Movies: There is a smaller proportion of longer films (above 150 minutes), which might cater to moviegoers seeking more in-depth content.\n",
        "\n",
        "Right-Skewed Distribution: This indicates a wider variety of movie lengths, catering to both mainstream and niche audiences."
      ]
    },
    {
      "cell_type": "markdown",
      "metadata": {
        "id": "Seke61FWphqN"
      },
      "source": [
        "##### 3. Will the gained insights help creating a positive business impact?\n",
        "Are there any insights that lead to negative growth? Justify with specific reason."
      ]
    },
    {
      "cell_type": "markdown",
      "metadata": {
        "id": "DW4_bGpfphqN"
      },
      "source": [
        "Positive Impact: Insights about the distribution of movie durations can help Netflix refine its content strategy, personalize recommendations, and maintain a diverse catalog that appeals to both mainstream and niche audiences. Focusing on movies in the 90-120 minute range while also catering to long-form content (e.g., epics, documentaries) will ensure a well-rounded offering for different user preferences.\n",
        "\n",
        "Negative Impact: Over-concentration on shorter movies or failure to meet the demand for longer content could limit Netflix's ability to attract and retain users who prefer different content types. Balancing the catalog to provide a wide range of movie durations will help mitigate these risks and ensure sustained growth."
      ]
    },
    {
      "cell_type": "markdown",
      "metadata": {
        "id": "PIIx-8_IphqN"
      },
      "source": [
        "#### Chart 6 -  Correlation Heatmap"
      ]
    },
    {
      "cell_type": "code",
      "execution_count": null,
      "metadata": {
        "colab": {
          "base_uri": "https://localhost:8080/",
          "height": 622
        },
        "id": "ksybAcnrI27r",
        "outputId": "e9fc6f82-6551-4552-bdf3-cb32cf15a4ea"
      },
      "outputs": [
        {
          "output_type": "display_data",
          "data": {
            "text/plain": [
              "<Figure size 1000x700 with 2 Axes>"
            ],
            "image/png": "[encoded data removed]"
          },
          "metadata": {}
        }
      ],
      "source": [
        "import pandas as pd\n",
        "import seaborn as sns\n",
        "import matplotlib.pyplot as plt\n",
        "import numpy as np\n",
        "\n",
        "# Assuming df is your dataframe with the relevant numerical columns\n",
        "\n",
        "# Step 1: Select numerical columns for the correlation matrix\n",
        "numerical_cols = ['release_year', 'duration', 'rating']  # Add any other numerical columns as needed\n",
        "df_numerical = df[numerical_cols].copy()  # Create a copy to avoid modifying the original DataFrame\n",
        "\n",
        "# Step 2: Convert 'duration' column to numerical format\n",
        "# Function to extract duration in minutes\n",
        "def extract_duration_minutes(duration_str):\n",
        "    try:\n",
        "        if \"Season\" in duration_str or \"Seasons\" in duration_str:  # Handle TV Shows\n",
        "            return np.nan  # Assign NaN to TV Show durations\n",
        "        elif \"min\" in duration_str:  # Handle Movies\n",
        "            return int(duration_str.split(\" \")[0])\n",
        "        else:\n",
        "            return np.nan\n",
        "    except:\n",
        "        return np.nan\n",
        "\n",
        "# Apply the function to the 'duration' column\n",
        "df_numerical['duration'] = df_numerical['duration'].apply(extract_duration_minutes)\n",
        "\n",
        "# Step 3: Handle non-numerical values in 'rating' column\n",
        "# Convert 'rating' to numerical if possible, otherwise assign NaN\n",
        "df_numerical['rating'] = pd.to_numeric(df_numerical['rating'], errors='coerce')\n",
        "\n",
        "# Step 4: Drop rows with NaN values only in 'duration' and 'rating' columns for correlation\n",
        "df_numerical_dropna = df_numerical.dropna(subset=['duration', 'rating'])\n",
        "\n",
        "# Step 5: Calculate the correlation matrix\n",
        "correlation_matrix = df_numerical_dropna.corr()\n",
        "\n",
        "# Step 6: Plot the heatmap\n",
        "plt.figure(figsize=(10, 7))\n",
        "sns.heatmap(correlation_matrix, annot=True, cmap='coolwarm', fmt='.2f', linewidths=0.5)\n",
        "plt.title('Correlation Heatmap of Netflix Movies and TV Shows')\n",
        "plt.show()"
      ]
    },
    {
      "cell_type": "markdown",
      "metadata": {
        "id": "t27r6nlMphqO"
      },
      "source": [
        "##### 1. Why did you pick the specific chart?"
      ]
    },
    {
      "cell_type": "markdown",
      "metadata": {
        "id": "iv6ro40sphqO"
      },
      "source": [
        "The correlation heatmap is a powerful and efficient way to visualize relationships between numerical variables, identify patterns, detect issues like multicollinearity, and provide actionable insights that guide further analysis. Its combination of clarity, comprehensiveness, and visual appeal makes it an ideal choice for this stage of the Netflix dataset analysis."
      ]
    },
    {
      "cell_type": "markdown",
      "metadata": {
        "id": "r2jJGEOYphqO"
      },
      "source": [
        "##### 2. What is/are the insight(s) found from the chart?"
      ]
    },
    {
      "cell_type": "markdown",
      "metadata": {
        "id": "Po6ZPi4hphqO"
      },
      "source": [
        "Understand the relationships between numerical variables (e.g., how duration might or might not affect rating).\n",
        "Identify redundant or collinear features, which is important for improving the performance of your clustering algorithm.\n",
        "Guide feature engineering, helping you decide which features to keep, combine, or remove for further analysis or model building."
      ]
    },
    {
      "cell_type": "markdown",
      "metadata": {
        "id": "b0JNsNcRphqO"
      },
      "source": [
        "##### 3. Will the gained insights help creating a positive business impact?\n",
        "Are there any insights that lead to negative growth? Justify with specific reason."
      ]
    },
    {
      "cell_type": "markdown",
      "metadata": {
        "id": "xvSq8iUTphqO"
      },
      "source": [
        "Positive Business Impact: Insights from the correlation heatmap can help Netflix optimize its content strategy, marketing, and recommendation system, ensuring that they cater to user preferences, improve user engagement, and stay competitive in the market.\n",
        "\n",
        "Negative Growth: However, focusing too much on weak correlations or misinterpreting insights could lead to a narrowing of content variety, alienation of certain user segments, and potentially damaging strategies that overlook user preferences or misclassify content types."
      ]
    },
    {
      "cell_type": "markdown",
      "metadata": {
        "id": "BZR9WyysphqO"
      },
      "source": [
        "#### Chart - 8"
      ]
    },
    {
      "cell_type": "markdown",
      "metadata": {
        "id": "jj7wYXLtphqO"
      },
      "source": [
        "##### 1. Why did you pick the specific chart?"
      ]
    },
    {
      "cell_type": "markdown",
      "metadata": {
        "id": "Ob8u6rCTphqO"
      },
      "source": [
        "Answer Here."
      ]
    },
    {
      "cell_type": "markdown",
      "metadata": {
        "id": "eZrbJ2SmphqO"
      },
      "source": [
        "##### 2. What is/are the insight(s) found from the chart?"
      ]
    },
    {
      "cell_type": "markdown",
      "metadata": {
        "id": "mZtgC_hjphqO"
      },
      "source": [
        "Answer Here"
      ]
    },
    {
      "cell_type": "markdown",
      "metadata": {
        "id": "rFu4xreNphqO"
      },
      "source": [
        "##### 3. Will the gained insights help creating a positive business impact?\n",
        "Are there any insights that lead to negative growth? Justify with specific reason."
      ]
    },
    {
      "cell_type": "markdown",
      "metadata": {
        "id": "ey_0qi68phqO"
      },
      "source": [
        "Answer Here"
      ]
    },
    {
      "cell_type": "markdown",
      "metadata": {
        "id": "YJ55k-q6phqO"
      },
      "source": [
        "#### Chart - 9"
      ]
    },
    {
      "cell_type": "code",
      "execution_count": null,
      "metadata": {
        "id": "B2aS4O1ophqO"
      },
      "outputs": [],
      "source": [
        "# Chart - 9 visualization code"
      ]
    },
    {
      "cell_type": "markdown",
      "metadata": {
        "id": "gCFgpxoyphqP"
      },
      "source": [
        "##### 1. Why did you pick the specific chart?"
      ]
    },
    {
      "cell_type": "markdown",
      "metadata": {
        "id": "TVxDimi2phqP"
      },
      "source": [
        "Answer Here."
      ]
    },
    {
      "cell_type": "markdown",
      "metadata": {
        "id": "OVtJsKN_phqQ"
      },
      "source": [
        "##### 2. What is/are the insight(s) found from the chart?"
      ]
    },
    {
      "cell_type": "markdown",
      "metadata": {
        "id": "ngGi97qjphqQ"
      },
      "source": [
        "Answer Here"
      ]
    },
    {
      "cell_type": "markdown",
      "metadata": {
        "id": "lssrdh5qphqQ"
      },
      "source": [
        "##### 3. Will the gained insights help creating a positive business impact?\n",
        "Are there any insights that lead to negative growth? Justify with specific reason."
      ]
    },
    {
      "cell_type": "markdown",
      "metadata": {
        "id": "tBpY5ekJphqQ"
      },
      "source": [
        "Answer Here"
      ]
    },
    {
      "cell_type": "markdown",
      "metadata": {
        "id": "U2RJ9gkRphqQ"
      },
      "source": [
        "#### Chart - 10"
      ]
    },
    {
      "cell_type": "code",
      "execution_count": null,
      "metadata": {
        "id": "GM7a4YP4phqQ"
      },
      "outputs": [],
      "source": [
        "# Chart - 10 visualization code"
      ]
    },
    {
      "cell_type": "markdown",
      "metadata": {
        "id": "1M8mcRywphqQ"
      },
      "source": [
        "##### 1. Why did you pick the specific chart?"
      ]
    },
    {
      "cell_type": "markdown",
      "metadata": {
        "id": "8agQvks0phqQ"
      },
      "source": [
        "Answer Here."
      ]
    },
    {
      "cell_type": "markdown",
      "metadata": {
        "id": "tgIPom80phqQ"
      },
      "source": [
        "##### 2. What is/are the insight(s) found from the chart?"
      ]
    },
    {
      "cell_type": "markdown",
      "metadata": {
        "id": "Qp13pnNzphqQ"
      },
      "source": [
        "Answer Here"
      ]
    },
    {
      "cell_type": "markdown",
      "metadata": {
        "id": "JMzcOPDDphqR"
      },
      "source": [
        "##### 3. Will the gained insights help creating a positive business impact?\n",
        "Are there any insights that lead to negative growth? Justify with specific reason."
      ]
    },
    {
      "cell_type": "markdown",
      "metadata": {
        "id": "R4Ka1PC2phqR"
      },
      "source": [
        "Answer Here"
      ]
    },
    {
      "cell_type": "markdown",
      "metadata": {
        "id": "x-EpHcCOp1ci"
      },
      "source": [
        "#### Chart - 11"
      ]
    },
    {
      "cell_type": "code",
      "execution_count": null,
      "metadata": {
        "id": "mAQTIvtqp1cj"
      },
      "outputs": [],
      "source": [
        "# Chart - 11 visualization code"
      ]
    },
    {
      "cell_type": "markdown",
      "metadata": {
        "id": "X_VqEhTip1ck"
      },
      "source": [
        "##### 1. Why did you pick the specific chart?"
      ]
    },
    {
      "cell_type": "markdown",
      "metadata": {
        "id": "-vsMzt_np1ck"
      },
      "source": [
        "Answer Here."
      ]
    },
    {
      "cell_type": "markdown",
      "metadata": {
        "id": "8zGJKyg5p1ck"
      },
      "source": [
        "##### 2. What is/are the insight(s) found from the chart?"
      ]
    },
    {
      "cell_type": "markdown",
      "metadata": {
        "id": "ZYdMsrqVp1ck"
      },
      "source": [
        "Answer Here"
      ]
    },
    {
      "cell_type": "markdown",
      "metadata": {
        "id": "PVzmfK_Ep1ck"
      },
      "source": [
        "##### 3. Will the gained insights help creating a positive business impact?\n",
        "Are there any insights that lead to negative growth? Justify with specific reason."
      ]
    },
    {
      "cell_type": "markdown",
      "metadata": {
        "id": "druuKYZpp1ck"
      },
      "source": [
        "Answer Here"
      ]
    },
    {
      "cell_type": "markdown",
      "metadata": {
        "id": "n3dbpmDWp1ck"
      },
      "source": [
        "#### Chart - 12"
      ]
    },
    {
      "cell_type": "code",
      "execution_count": null,
      "metadata": {
        "id": "bwevp1tKp1ck"
      },
      "outputs": [],
      "source": [
        "# Chart - 12 visualization code"
      ]
    },
    {
      "cell_type": "markdown",
      "metadata": {
        "id": "ylSl6qgtp1ck"
      },
      "source": [
        "##### 1. Why did you pick the specific chart?"
      ]
    },
    {
      "cell_type": "markdown",
      "metadata": {
        "id": "m2xqNkiQp1ck"
      },
      "source": [
        "Answer Here."
      ]
    },
    {
      "cell_type": "markdown",
      "metadata": {
        "id": "ZWILFDl5p1ck"
      },
      "source": [
        "##### 2. What is/are the insight(s) found from the chart?"
      ]
    },
    {
      "cell_type": "markdown",
      "metadata": {
        "id": "x-lUsV2mp1ck"
      },
      "source": [
        "Answer Here"
      ]
    },
    {
      "cell_type": "markdown",
      "metadata": {
        "id": "M7G43BXep1ck"
      },
      "source": [
        "##### 3. Will the gained insights help creating a positive business impact?\n",
        "Are there any insights that lead to negative growth? Justify with specific reason."
      ]
    },
    {
      "cell_type": "markdown",
      "metadata": {
        "id": "5wwDJXsLp1cl"
      },
      "source": [
        "Answer Here"
      ]
    },
    {
      "cell_type": "markdown",
      "metadata": {
        "id": "Ag9LCva-p1cl"
      },
      "source": [
        "#### Chart - 13"
      ]
    },
    {
      "cell_type": "code",
      "execution_count": null,
      "metadata": {
        "id": "EUfxeq9-p1cl"
      },
      "outputs": [],
      "source": [
        "# Chart - 13 visualization code"
      ]
    },
    {
      "cell_type": "markdown",
      "metadata": {
        "id": "E6MkPsBcp1cl"
      },
      "source": [
        "##### 1. Why did you pick the specific chart?"
      ]
    },
    {
      "cell_type": "markdown",
      "metadata": {
        "id": "V22bRsFWp1cl"
      },
      "source": [
        "Answer Here."
      ]
    },
    {
      "cell_type": "markdown",
      "metadata": {
        "id": "2cELzS2fp1cl"
      },
      "source": [
        "##### 2. What is/are the insight(s) found from the chart?"
      ]
    },
    {
      "cell_type": "markdown",
      "metadata": {
        "id": "ozQPc2_Ip1cl"
      },
      "source": [
        "Answer Here"
      ]
    },
    {
      "cell_type": "markdown",
      "metadata": {
        "id": "3MPXvC8up1cl"
      },
      "source": [
        "##### 3. Will the gained insights help creating a positive business impact?\n",
        "Are there any insights that lead to negative growth? Justify with specific reason."
      ]
    },
    {
      "cell_type": "markdown",
      "metadata": {
        "id": "GL8l1tdLp1cl"
      },
      "source": [
        "Answer Here"
      ]
    },
    {
      "cell_type": "markdown",
      "metadata": {
        "id": "NC_X3p0fY2L0"
      },
      "source": [
        "#### Chart - 14  "
      ]
    },
    {
      "cell_type": "markdown",
      "metadata": {
        "id": "UV0SzAkaZNRQ"
      },
      "source": [
        "##### 1. Why did you pick the specific chart?"
      ]
    },
    {
      "cell_type": "markdown",
      "metadata": {
        "id": "DVPuT8LYZNRQ"
      },
      "source": [
        "Answer Here."
      ]
    },
    {
      "cell_type": "markdown",
      "metadata": {
        "id": "YPEH6qLeZNRQ"
      },
      "source": [
        "##### 2. What is/are the insight(s) found from the chart?"
      ]
    },
    {
      "cell_type": "markdown",
      "metadata": {
        "id": "bfSqtnDqZNRR"
      },
      "source": [
        "Answer Here"
      ]
    },
    {
      "cell_type": "markdown",
      "metadata": {
        "id": "q29F0dvdveiT"
      },
      "source": [
        "#### Chart - 15 - Pair Plot"
      ]
    },
    {
      "cell_type": "code",
      "execution_count": null,
      "metadata": {
        "id": "o58-TEIhveiU"
      },
      "outputs": [],
      "source": [
        "# Pair Plot visualization code"
      ]
    },
    {
      "cell_type": "markdown",
      "metadata": {
        "id": "EXh0U9oCveiU"
      },
      "source": [
        "##### 1. Why did you pick the specific chart?"
      ]
    },
    {
      "cell_type": "markdown",
      "metadata": {
        "id": "eMmPjTByveiU"
      },
      "source": [
        "Answer Here."
      ]
    },
    {
      "cell_type": "markdown",
      "metadata": {
        "id": "22aHeOlLveiV"
      },
      "source": [
        "##### 2. What is/are the insight(s) found from the chart?"
      ]
    },
    {
      "cell_type": "markdown",
      "metadata": {
        "id": "uPQ8RGwHveiV"
      },
      "source": [
        "Answer Here"
      ]
    },
    {
      "cell_type": "markdown",
      "metadata": {
        "id": "g-ATYxFrGrvw"
      },
      "source": [
        "## ***5. Hypothesis Testing***"
      ]
    },
    {
      "cell_type": "markdown",
      "metadata": {
        "id": "Yfr_Vlr8HBkt"
      },
      "source": [
        "### Based on your chart experiments, define three hypothetical statements from the dataset. In the next three questions, perform hypothesis testing to obtain final conclusion about the statements through your code and statistical testing."
      ]
    },
    {
      "cell_type": "markdown",
      "metadata": {
        "id": "-7MS06SUHkB-"
      },
      "source": [
        "1. Movies tend to have longer durations than TV Shows.\n",
        "2.Netflix shows with a rating of 'TV-MA' are more likely to be Movies than TV Shows.\n",
        "3.The number of Movies released each year has been increasing over time."
      ]
    },
    {
      "cell_type": "markdown",
      "metadata": {
        "id": "8yEUt7NnHlrM"
      },
      "source": [
        "### Hypothetical Statement - 1\n",
        "Movies tend to have longer durations than TV Shows."
      ]
    },
    {
      "cell_type": "markdown",
      "metadata": {
        "id": "tEA2Xm5dHt1r"
      },
      "source": [
        "#### 1. State Your research hypothesis as a null hypothesis and alternate hypothesis."
      ]
    },
    {
      "cell_type": "markdown",
      "metadata": {
        "id": "HI9ZP0laH0D-"
      },
      "source": [
        "Null Hypothesis (H₀): No significant difference in duration.\n",
        "\n",
        "Alternative Hypothesis (H₁): Movies have a significantly longer duration than TV Shows."
      ]
    },
    {
      "cell_type": "markdown",
      "metadata": {
        "id": "I79__PHVH19G"
      },
      "source": [
        "#### 2. Perform an appropriate statistical test."
      ]
    },
    {
      "cell_type": "code",
      "execution_count": null,
      "metadata": {
        "colab": {
          "base_uri": "https://localhost:8080/"
        },
        "id": "92j6f6yAWAcG",
        "outputId": "60bbf80c-e45d-4d39-ef52-052da0544c30"
      },
      "outputs": [
        {
          "output_type": "stream",
          "name": "stdout",
          "text": [
            "Hypothesis 1: Movie vs TV Show Duration Comparison\n",
            "T-statistic: nan\n",
            "P-value: nan\n",
            "Conclusion: Fail to reject the null hypothesis. There is no significant difference in duration between Movies and TV Shows.\n"
          ]
        }
      ],
      "source": [
        "# Import necessary libraries\n",
        "import scipy.stats as stats\n",
        "import pandas as pd\n",
        "\n",
        "# Assuming Netflix_df is already loaded and preprocessed\n",
        "\n",
        "# Hypothesis 1: Movies vs TV Shows Duration (Two-sample t-test)\n",
        "# Filter the dataset into Movies and TV Shows\n",
        "movies = Netflix_df[Netflix_df['type'] == 'Movie']\n",
        "tv_shows = Netflix_df[Netflix_df['type'] == 'TV Show']\n",
        "\n",
        "# Extract and convert duration to numeric (assuming duration is in 'duration' column)\n",
        "# Extract duration for movies and convert to numeric, handling errors\n",
        "movies_duration = pd.to_numeric(movies['duration'], errors='coerce')\n",
        "\n",
        "# Extract duration for TV shows and convert to numeric, handling errors\n",
        "tv_shows_duration = pd.to_numeric(tv_shows['duration'], errors='coerce')\n",
        "\n",
        "\n",
        "# Remove rows with missing or invalid durations after conversion\n",
        "movies_duration = movies_duration.dropna()\n",
        "tv_shows_duration = tv_shows_duration.dropna()\n",
        "\n",
        "# Perform a two-sample t-test to compare durations\n",
        "t_stat_duration, p_value_duration = stats.ttest_ind(movies_duration, tv_shows_duration)\n",
        "\n",
        "# Print result for Hypothesis 1\n",
        "print(\"Hypothesis 1: Movie vs TV Show Duration Comparison\")\n",
        "print(f\"T-statistic: {t_stat_duration}\")\n",
        "print(f\"P-value: {p_value_duration}\")\n",
        "if p_value_duration < 0.05:\n",
        "    print(\"Conclusion: Reject the null hypothesis. Movies have a significantly longer duration than TV Shows.\")\n",
        "else:\n",
        "    print(\"Conclusion: Fail to reject the null hypothesis. There is no significant difference in duration between Movies and TV Shows.\")"
      ]
    },
    {
      "cell_type": "markdown",
      "metadata": {
        "id": "Ou-I18pAyIpj"
      },
      "source": [
        "##### Which statistical test have you done to obtain P-Value?"
      ]
    },
    {
      "cell_type": "markdown",
      "metadata": {
        "id": "s2U0kk00ygSB"
      },
      "source": [
        "We used a two-sample t-test to check if there is a significant difference in the duration between Movies and TV Shows."
      ]
    },
    {
      "cell_type": "markdown",
      "metadata": {
        "id": "fF3858GYyt-u"
      },
      "source": [
        "##### Why did you choose the specific statistical test?"
      ]
    },
    {
      "cell_type": "markdown",
      "metadata": {
        "id": "HO4K0gP5y3B4"
      },
      "source": [
        "The two-sample t-test is chosen because it:\n",
        "\n",
        "Compares the means of two independent groups (Movies and TV Shows).\n",
        "\n",
        "Is appropriate for continuous data (duration).\n",
        "\n",
        "Provides a framework for testing whether the difference in means is statistically significant."
      ]
    },
    {
      "cell_type": "markdown",
      "metadata": {
        "id": "4_0_7-oCpUZd"
      },
      "source": [
        "### Hypothetical Statement - 2\n",
        "\n",
        "Netflix shows with a rating of 'TV-MA' are more likely to be Movies than TV Shows."
      ]
    },
    {
      "cell_type": "markdown",
      "metadata": {
        "id": "hwyV_J3ipUZe"
      },
      "source": [
        "#### 1. State Your research hypothesis as a null hypothesis and alternate hypothesis."
      ]
    },
    {
      "cell_type": "markdown",
      "metadata": {
        "id": "FnpLGJ-4pUZe"
      },
      "source": [
        "Null Hypothesis (H₀): No significant association between TV-MA rating and type (Movie or TV Show).\n",
        "\n",
        "Alternative Hypothesis (H₁): TV-MA rated shows are more likely to be Movies."
      ]
    },
    {
      "cell_type": "markdown",
      "metadata": {
        "id": "3yB-zSqbpUZe"
      },
      "source": [
        "#### 2. Perform an appropriate statistical test."
      ]
    },
    {
      "cell_type": "code",
      "execution_count": null,
      "metadata": {
        "colab": {
          "base_uri": "https://localhost:8080/"
        },
        "id": "c3R5h9OIb1lf",
        "outputId": "0ed9789d-30fd-44d6-ddd0-0074310711c4"
      },
      "outputs": [
        {
          "output_type": "stream",
          "name": "stdout",
          "text": [
            "\n",
            "Hypothesis 2: TV-MA Rating and Show Type\n",
            "Chi-Square Statistic: 0.0\n",
            "P-value: 1.0\n",
            "Conclusion: Fail to reject the null hypothesis. There is no significant difference in the type of shows with `TV-MA` rating.\n"
          ]
        }
      ],
      "source": [
        "# Import necessary libraries\n",
        "import scipy.stats as stats\n",
        "import pandas as pd\n",
        "\n",
        "# Assuming Netflix_df is already loaded\n",
        "\n",
        "# Hypothesis 2: TV-MA rating and Show Type (Chi-Square Test for Independence)\n",
        "# Filter the dataset for 'TV-MA' rated shows\n",
        "tv_ma_shows = Netflix_df[Netflix_df['rating'] == 'TV-MA']\n",
        "\n",
        "# Create a contingency table for type and TV-MA rating\n",
        "contingency_table = pd.crosstab(tv_ma_shows['rating'], tv_ma_shows['type'])\n",
        "\n",
        "# Perform a Chi-Square Test for Independence\n",
        "chi2_stat, p_value_chi2, dof, expected = stats.chi2_contingency(contingency_table)\n",
        "\n",
        "# Print result for Hypothesis 2\n",
        "print(\"\\nHypothesis 2: TV-MA Rating and Show Type\")\n",
        "print(f\"Chi-Square Statistic: {chi2_stat}\")\n",
        "print(f\"P-value: {p_value_chi2}\")\n",
        "if p_value_chi2 < 0.05:\n",
        "    print(\"Conclusion: Reject the null hypothesis. `TV-MA` rated shows are more likely to be Movies.\")\n",
        "else:\n",
        "    print(\"Conclusion: Fail to reject the null hypothesis. There is no significant difference in the type of shows with `TV-MA` rating.\")\n"
      ]
    },
    {
      "cell_type": "markdown",
      "metadata": {
        "id": "dEUvejAfpUZe"
      },
      "source": [
        "##### Which statistical test have you done to obtain P-Value?"
      ]
    },
    {
      "cell_type": "markdown",
      "metadata": {
        "id": "oLDrPz7HpUZf"
      },
      "source": [
        "We used a Chi-Square Test for Independence to test if TV-MA rated shows are more likely to be Movies than TV Shows."
      ]
    },
    {
      "cell_type": "markdown",
      "metadata": {
        "id": "Fd15vwWVpUZf"
      },
      "source": [
        "##### Why did you choose the specific statistical test?"
      ]
    },
    {
      "cell_type": "markdown",
      "metadata": {
        "id": "4xOGYyiBpUZf"
      },
      "source": [
        "The Chi-Square Test for Independence is appropriate here because:\n",
        "\n",
        "We're dealing with two categorical variables: TV-MA rating and show type (Movie vs. TV Show).\n",
        "We want to determine if there's a significant relationship or dependency between these two categorical variables.\n",
        "The Chi-Square Test allows us to test the hypothesis that the proportion of TV-MA ratings is independent of the type of show (Movie or TV Show).\n",
        "\n",
        "\n"
      ]
    },
    {
      "cell_type": "markdown",
      "metadata": {
        "id": "bn_IUdTipZyH"
      },
      "source": [
        "### Hypothetical Statement - 3\n",
        "\n",
        "The number of Movies released each year has been increasing over time."
      ]
    },
    {
      "cell_type": "markdown",
      "metadata": {
        "id": "49K5P_iCpZyH"
      },
      "source": [
        "#### 1. State Your research hypothesis as a null hypothesis and alternate hypothesis."
      ]
    },
    {
      "cell_type": "markdown",
      "metadata": {
        "id": "7gWI5rT9pZyH"
      },
      "source": [
        "Null Hypothesis (H0): The number of Movies released each year is constant over time.\n",
        "\n",
        "Alternative Hypothesis (H1): The number of Movies released each year has been increasing over time."
      ]
    },
    {
      "cell_type": "markdown",
      "metadata": {
        "id": "Nff-vKELpZyI"
      },
      "source": [
        "#### 2. Perform an appropriate statistical test."
      ]
    },
    {
      "cell_type": "code",
      "execution_count": null,
      "metadata": {
        "colab": {
          "base_uri": "https://localhost:8080/"
        },
        "id": "vCO4QWpRZcuz",
        "outputId": "39d87039-52ec-4382-fe0f-e13fe4daea18"
      },
      "outputs": [
        {
          "output_type": "stream",
          "name": "stdout",
          "text": [
            "                            OLS Regression Results                            \n",
            "==============================================================================\n",
            "Dep. Variable:                  count   R-squared:                       0.334\n",
            "Model:                            OLS   Adj. R-squared:                  0.324\n",
            "Method:                 Least Squares   F-statistic:                     35.03\n",
            "Date:                Tue, 10 Dec 2024   Prob (F-statistic):           1.09e-07\n",
            "Time:                        11:28:13   Log-Likelihood:                -455.27\n",
            "No. Observations:                  72   AIC:                             914.5\n",
            "Df Residuals:                      70   BIC:                             919.1\n",
            "Df Model:                           1                                         \n",
            "Covariance Type:            nonrobust                                         \n",
            "================================================================================\n",
            "                   coef    std err          t      P>|t|      [0.025      0.975]\n",
            "--------------------------------------------------------------------------------\n",
            "const        -8499.1482   1448.707     -5.867      0.000   -1.14e+04   -5609.793\n",
            "release_year     4.3199      0.730      5.919      0.000       2.864       5.776\n",
            "==============================================================================\n",
            "Omnibus:                       49.744   Durbin-Watson:                   0.243\n",
            "Prob(Omnibus):                  0.000   Jarque-Bera (JB):              159.911\n",
            "Skew:                           2.250   Prob(JB):                     1.89e-35\n",
            "Kurtosis:                       8.749   Cond. No.                     1.78e+05\n",
            "==============================================================================\n",
            "\n",
            "Notes:\n",
            "[1] Standard Errors assume that the covariance matrix of the errors is correctly specified.\n",
            "[2] The condition number is large, 1.78e+05. This might indicate that there are\n",
            "strong multicollinearity or other numerical problems.\n",
            "Reject the null hypothesis: The number of Movies released each year has been increasing over time.\n"
          ]
        }
      ],
      "source": [
        "import pandas as pd\n",
        "import statsmodels.api as sm\n",
        "import statsmodels.formula.api as smf\n",
        "\n",
        "# Filter only Movies\n",
        "movies = df[df['type'] == 'Movie']\n",
        "\n",
        "# Count the number of Movies released each year\n",
        "movies_per_year = movies.groupby('release_year').size().reset_index(name='count')\n",
        "\n",
        "# Fit a linear regression model to see if the number of movies has been increasing\n",
        "X = movies_per_year['release_year']\n",
        "y = movies_per_year['count']\n",
        "\n",
        "# Add a constant (intercept) to the model\n",
        "X = sm.add_constant(X)\n",
        "\n",
        "# Fit the model\n",
        "model = sm.OLS(y, X).fit()\n",
        "\n",
        "# Output the results\n",
        "print(model.summary())\n",
        "\n",
        "# Check the p-value for the 'release_year' coefficient\n",
        "if model.pvalues[1] < 0.05:\n",
        "    print(\"Reject the null hypothesis: The number of Movies released each year has been increasing over time.\")\n",
        "else:\n",
        "    print(\"Fail to reject the null hypothesis: There is no significant trend in the number of Movies released over time.\")\n"
      ]
    },
    {
      "cell_type": "markdown",
      "metadata": {
        "id": "kLW572S8pZyI"
      },
      "source": [
        "##### Which statistical test have you done to obtain P-Value?"
      ]
    },
    {
      "cell_type": "markdown",
      "metadata": {
        "id": "ytWJ8v15pZyI"
      },
      "source": [
        "Linear Regression (or Chi-Square test for count data)."
      ]
    },
    {
      "cell_type": "markdown",
      "metadata": {
        "id": "dWbDXHzopZyI"
      },
      "source": [
        "##### Why did you choose the specific statistical test?"
      ]
    },
    {
      "cell_type": "markdown",
      "metadata": {
        "id": "M99G98V6pZyI"
      },
      "source": [
        "Linear regression is the most appropriate test for this hypothesis because it allows us to model the trend of the number of Movies released over time and test whether that trend is increasing (positive slope).\n",
        "The Chi-Square test is more suited for testing categorical relationships or counts in specific categories, not trends over time, which is why it is less ideal in this case."
      ]
    },
    {
      "cell_type": "markdown",
      "metadata": {
        "id": "yLjJCtPM0KBk"
      },
      "source": [
        "## ***6. Feature Engineering & Data Pre-processing***"
      ]
    },
    {
      "cell_type": "markdown",
      "metadata": {
        "id": "xiyOF9F70UgQ"
      },
      "source": [
        "### 1. Handling Missing Values"
      ]
    },
    {
      "cell_type": "code",
      "execution_count": null,
      "metadata": {
        "colab": {
          "base_uri": "https://localhost:8080/"
        },
        "id": "iRsAHk1K0fpS",
        "outputId": "bf4f3ea9-e8b9-4fea-a011-56937593cc06"
      },
      "outputs": [
        {
          "output_type": "stream",
          "name": "stdout",
          "text": [
            "type                         0\n",
            "title                        0\n",
            "director                     0\n",
            "cast                         0\n",
            "country                      0\n",
            "                            ..\n",
            " Classic & Cult TV           0\n",
            "TV Sci-Fi & Fantasy          0\n",
            "Romantic Movies              0\n",
            "Spanish-Language TV Shows    0\n",
            "LGBTQ Movies                 0\n",
            "Length: 86, dtype: int64\n"
          ]
        },
        {
          "output_type": "execute_result",
          "data": {
            "text/plain": [
              "<Axes: >"
            ]
          },
          "metadata": {},
          "execution_count": 29
        },
        {
          "output_type": "display_data",
          "data": {
            "text/plain": [
              "<Figure size 640x480 with 1 Axes>"
            ],
            "image/png": "[encoded data removed]"
          },
          "metadata": {}
        }
      ],
      "source": [
        "# Handling Missing Values & Missing Value Imputation\n",
        "# Missing Values/Null Values Count\n",
        "Netflix_df = df\n",
        "print(df.isnull().sum())\n",
        "\n",
        "# Visualizing the missing values\n",
        "# Checking Null Value by plotting Heatmap\n",
        "sns.heatmap(df.isnull(), cbar=False)"
      ]
    },
    {
      "cell_type": "markdown",
      "metadata": {
        "id": "7wuGOrhz0itI"
      },
      "source": [
        "#### What all missing value imputation techniques have you used and why did you use those techniques?"
      ]
    },
    {
      "cell_type": "markdown",
      "metadata": {
        "id": "1ixusLtI0pqI"
      },
      "source": [
        "There are no missing values to handle in the given dataset."
      ]
    },
    {
      "cell_type": "markdown",
      "metadata": {
        "id": "id1riN9m0vUs"
      },
      "source": [
        "### 2. Handling Outliers"
      ]
    },
    {
      "cell_type": "code",
      "execution_count": null,
      "metadata": {
        "id": "eBGuQ_QTQyo0"
      },
      "outputs": [],
      "source": [
        "# Step 1: Detect outliers using Z-Score\n",
        "Netflix_df['z_duration'] = zscore(Netflix_df['duration_minutes'])\n",
        "outliers_zscore = Netflix_df[Netflix_df['z_duration'].abs() > 3]\n",
        "\n",
        "# Step 2: Detect outliers using IQR\n",
        "Q1 = Netflix_df['duration_minutes'].quantile(0.25)\n",
        "Q3 = Netflix_df['duration_minutes'].quantile(0.75)\n",
        "IQR = Q3 - Q1\n",
        "outliers_iqr = Netflix_df[(Netflix_df['duration_minutes'] < (Q1 - 1.5 * IQR)) |\n",
        "                          (Netflix_df['duration_minutes'] > (Q3 + 1.5 * IQR))]\n",
        "\n",
        "# Step 3: Remove outliers from the dataset\n",
        "Netflix_df_cleaned = Netflix_df[Netflix_df['z_duration'].abs() <= 3]  # Remove based on Z-score\n",
        "Netflix_df_cleaned = Netflix_df_cleaned[(Netflix_df_cleaned['duration_minutes'] >= (Q1 - 1.5 * IQR)) &\n",
        "                                         (Netflix_df_cleaned['duration_minutes'] <= (Q3 + 1.5 * IQR))]  # Remove based on IQR\n"
      ]
    },
    {
      "cell_type": "markdown",
      "metadata": {
        "id": "578E2V7j08f6"
      },
      "source": [
        "##### What all outlier treatment techniques have you used and why did you use those techniques?"
      ]
    },
    {
      "cell_type": "markdown",
      "metadata": {
        "id": "uGZz5OrT1HH-"
      },
      "source": [
        "Here’s a complete example of detecting and removing outliers from the duration_minutes column using Z-score and IQR methods\n",
        "\n",
        " Z-score works well for identifying outliers in numeric data that follows a normal distribution.\n",
        " The Z-score is straightforward to calculate and helps detect data points that are far from the mean.\n",
        " This method works well when we have a clear numeric column, like duration_minutes, and when we want to identify extreme values that are far from the center of the data.\n",
        "\n",
        "The IQR method is effective for identifying outliers in non-normally distributed data. It is robust to extreme values and is widely used for univariate data.\n",
        "It is simple to compute and does not require assuming a normal distribution for the data. Since the duration_minutes column might not be normally distributed (with many TV shows being shorter and movies having a large range of durations), the IQR method is a good fit here.\n",
        "\n"
      ]
    },
    {
      "cell_type": "markdown",
      "metadata": {
        "id": "89xtkJwZ18nB"
      },
      "source": [
        "### 3. Categorical Encoding"
      ]
    },
    {
      "cell_type": "code",
      "execution_count": null,
      "metadata": {
        "id": "5hbjyED4awz1"
      },
      "outputs": [],
      "source": [
        "# Label Encoding for 'type'\n",
        "from sklearn.preprocessing import LabelEncoder\n",
        "label_encoder = LabelEncoder()\n",
        "Netflix_df['type_encoded'] = label_encoder.fit_transform(Netflix_df['type'])\n"
      ]
    },
    {
      "cell_type": "code",
      "execution_count": null,
      "metadata": {
        "id": "OCznmpvzbrE4"
      },
      "outputs": [],
      "source": [
        "# Frequency Encoding for 'rating' column\n",
        "rating_freq = Netflix_df['rating'].value_counts()\n",
        "Netflix_df['rating_encoded'] = Netflix_df['rating'].map(rating_freq)\n"
      ]
    },
    {
      "cell_type": "markdown",
      "metadata": {
        "id": "67NQN5KX2AMe"
      },
      "source": [
        "#### What all categorical encoding techniques have you used & why did you use those techniques?"
      ]
    },
    {
      "cell_type": "markdown",
      "metadata": {
        "id": "UDaue5h32n_G"
      },
      "source": [
        "Label encoding is ideal for categorical variables that have a small number of distinct values and no inherent order. The type column only has two unique values (\"Movie\" and \"TV Show\"), so label encoding is efficient. It assigns an integer value to each category, such as:\n",
        "\"Movie\" = 0\n",
        "\"TV Show\" = 1\n",
        "This encoding method is simple and works well for binary or low-cardinality categorical variables without any specific ordering.\n",
        "\n",
        "\n",
        "Frequency encoding is used when the frequency of a category may carry useful information. In the rating column, the categories represent the age ratings of the content, and some ratings appear more frequently than others. By encoding the ratings based on their frequency, we allow the model to consider the impact of more common ratings versus rare ones.\n",
        "\n",
        "This encoding method captures the importance or prevalence of each category by assigning higher values to more frequent categories."
      ]
    },
    {
      "cell_type": "markdown",
      "metadata": {
        "id": "Iwf50b-R2tYG"
      },
      "source": [
        "### 4. Textual Data Preprocessing\n",
        "(It's mandatory for textual dataset i.e., NLP, Sentiment Analysis, Text Clustering etc.)"
      ]
    },
    {
      "cell_type": "markdown",
      "metadata": {
        "id": "GMQiZwjn3iu7"
      },
      "source": [
        "#### 1. Expand Contraction"
      ]
    },
    {
      "cell_type": "code",
      "execution_count": null,
      "metadata": {
        "colab": {
          "base_uri": "https://localhost:8080/"
        },
        "id": "-CDUVBtcHp5w",
        "outputId": "a673723b-2d12-4fb8-897a-11ecda07b02d"
      },
      "outputs": [
        {
          "output_type": "stream",
          "name": "stdout",
          "text": [
            "True\n"
          ]
        }
      ],
      "source": [
        "# Load Dataset\n",
        "import os\n",
        "# Update file_path with correct structure after mounting Google Drive\n",
        "file_path = \"/content/drive/My Drive/NETFLIX MOVIES AND TV SHOWS CLUSTERING.csv\"\n",
        "# assuming file is located in 'My Drive' folder in mounted drive\n",
        "print(os.path.exists(file_path))    # To know if the file exists at the specified path\n",
        "\n",
        "# Load the CSV file\n",
        "Netflix_df = pd.read_csv(file_path)\n",
        "\n",
        "# Display the first few rows"
      ]
    },
    {
      "cell_type": "code",
      "execution_count": null,
      "metadata": {
        "colab": {
          "base_uri": "https://localhost:8080/"
        },
        "id": "fSBZIGzGXDc5",
        "outputId": "9d05dfbc-285c-45f6-e18d-e3e8986f94c7"
      },
      "outputs": [
        {
          "output_type": "stream",
          "name": "stdout",
          "text": [
            "Collecting contractions\n",
            "  Downloading contractions-0.1.73-py2.py3-none-any.whl.metadata (1.2 kB)\n",
            "Collecting textsearch>=0.0.21 (from contractions)\n",
            "  Downloading textsearch-0.0.24-py2.py3-none-any.whl.metadata (1.2 kB)\n",
            "Collecting anyascii (from textsearch>=0.0.21->contractions)\n",
            "  Downloading anyascii-0.3.2-py3-none-any.whl.metadata (1.5 kB)\n",
            "Collecting pyahocorasick (from textsearch>=0.0.21->contractions)\n",
            "  Downloading pyahocorasick-2.1.0-cp310-cp310-manylinux_2_5_x86_64.manylinux1_x86_64.manylinux_2_12_x86_64.manylinux2010_x86_64.whl.metadata (13 kB)\n",
            "Downloading contractions-0.1.73-py2.py3-none-any.whl (8.7 kB)\n",
            "Downloading textsearch-0.0.24-py2.py3-none-any.whl (7.6 kB)\n",
            "Downloading anyascii-0.3.2-py3-none-any.whl (289 kB)\n",
            "\u001b[2K   \u001b[90m━━━━━━━━━━━━━━━━━━━━━━━━━━━━━━━━━━━━━━━━\u001b[0m \u001b[32m289.9/289.9 kB\u001b[0m \u001b[31m5.4 MB/s\u001b[0m eta \u001b[36m0:00:00\u001b[0m\n",
            "\u001b[?25hDownloading pyahocorasick-2.1.0-cp310-cp310-manylinux_2_5_x86_64.manylinux1_x86_64.manylinux_2_12_x86_64.manylinux2010_x86_64.whl (110 kB)\n",
            "\u001b[2K   \u001b[90m━━━━━━━━━━━━━━━━━━━━━━━━━━━━━━━━━━━━━━━━\u001b[0m \u001b[32m110.7/110.7 kB\u001b[0m \u001b[31m8.4 MB/s\u001b[0m eta \u001b[36m0:00:00\u001b[0m\n",
            "\u001b[?25hInstalling collected packages: pyahocorasick, anyascii, textsearch, contractions\n",
            "Successfully installed anyascii-0.3.2 contractions-0.1.73 pyahocorasick-2.1.0 textsearch-0.0.24\n"
          ]
        }
      ],
      "source": [
        "!pip install contractions\n"
      ]
    },
    {
      "cell_type": "code",
      "execution_count": null,
      "metadata": {
        "id": "f874NbrTBGEM"
      },
      "outputs": [],
      "source": [
        "# Expanding contractions in the 'description' column\n",
        "import contractions\n",
        "\n",
        "def expand_contractions(text):\n",
        "    return contractions.fix(text)\n",
        "\n",
        "Netflix_df['expanded_description'] = Netflix_df['description'].apply(expand_contractions)\n"
      ]
    },
    {
      "cell_type": "markdown",
      "metadata": {
        "id": "WVIkgGqN3qsr"
      },
      "source": [
        "#### 2. Lower Casing"
      ]
    },
    {
      "cell_type": "code",
      "execution_count": null,
      "metadata": {
        "id": "MWl4Vd9GDH_4"
      },
      "outputs": [],
      "source": [
        "Netflix_df['description'] = Netflix_df['description'].str.lower()\n"
      ]
    },
    {
      "cell_type": "markdown",
      "metadata": {
        "id": "XkPnILGE3zoT"
      },
      "source": [
        "#### 3. Removing Punctuations"
      ]
    },
    {
      "cell_type": "code",
      "execution_count": null,
      "metadata": {
        "id": "6YK4QTviCN0E"
      },
      "outputs": [],
      "source": [
        "import re\n",
        "\n",
        "def clean_text(text):\n",
        "    return re.sub(r'[^a-zA-Z\\s]', '', text)\n",
        "\n",
        "Netflix_df['description'] = Netflix_df['description'].apply(clean_text)\n"
      ]
    },
    {
      "cell_type": "markdown",
      "metadata": {
        "id": "Hlsf0x5436Go"
      },
      "source": [
        "#### 4. Removing URLs & Removing words and digits contain digits."
      ]
    },
    {
      "cell_type": "code",
      "execution_count": null,
      "metadata": {
        "id": "unvO6nhNCTA3"
      },
      "outputs": [],
      "source": [
        "def clean_text(text):\n",
        "    # Remove URLs\n",
        "    text = re.sub(r\"http[s]?://\\S+|www\\.\\S+\", \"\", text)\n",
        "    # Remove words containing digits\n",
        "    text = re.sub(r'\\b\\w*\\d\\w*\\b', '', text)\n",
        "    return text\n",
        "\n",
        "Netflix_df['description'] = Netflix_df['description'].apply(clean_text)\n"
      ]
    },
    {
      "cell_type": "markdown",
      "metadata": {
        "id": "mT9DMSJo4nBL"
      },
      "source": [
        "#### 5. Removing Stopwords & Removing White spaces"
      ]
    },
    {
      "cell_type": "code",
      "execution_count": null,
      "metadata": {
        "colab": {
          "base_uri": "https://localhost:8080/"
        },
        "id": "tvCdvwU0CRAX",
        "outputId": "c803a8f9-781d-4a4b-d226-47e0e3711661"
      },
      "outputs": [
        {
          "output_type": "stream",
          "name": "stderr",
          "text": [
            "[nltk_data] Downloading package stopwords to /root/nltk_data...\n",
            "[nltk_data]   Unzipping corpora/stopwords.zip.\n"
          ]
        }
      ],
      "source": [
        "import nltk\n",
        "from nltk.corpus import stopwords\n",
        "nltk.download('stopwords')\n",
        "\n",
        "stop_words = set(stopwords.words('english'))\n",
        "\n",
        "def clean_text_pipeline(text):\n",
        "    # Tokenize and remove stopwords\n",
        "    words = text.split()\n",
        "    filtered_words = [word for word in words if word not in stop_words]\n",
        "    # Join words and clean extra white spaces\n",
        "    return re.sub(r'\\s+', ' ', ' '.join(filtered_words)).strip()\n",
        "\n",
        "Netflix_df['description'] = Netflix_df['description'].apply(clean_text_pipeline)\n"
      ]
    },
    {
      "cell_type": "markdown",
      "metadata": {
        "id": "c49ITxTc407N"
      },
      "source": [
        "#### 6. Rephrase Text"
      ]
    },
    {
      "cell_type": "code",
      "execution_count": null,
      "metadata": {
        "id": "LKxAnailX8qP",
        "collapsed": true
      },
      "outputs": [],
      "source": []
    },
    {
      "cell_type": "markdown",
      "metadata": {
        "id": "OeJFEK0N496M"
      },
      "source": [
        "#### 7. Tokenization"
      ]
    },
    {
      "cell_type": "code",
      "execution_count": null,
      "metadata": {
        "colab": {
          "base_uri": "https://localhost:8080/"
        },
        "id": "T19mLXqPZ3Va",
        "outputId": "3dc436eb-845d-4a01-f2f8-274e86a707a2"
      },
      "outputs": [
        {
          "output_type": "stream",
          "name": "stdout",
          "text": [
            "Requirement already satisfied: nltk in /usr/local/lib/python3.10/dist-packages (3.9.1)\n",
            "Requirement already satisfied: click in /usr/local/lib/python3.10/dist-packages (from nltk) (8.1.7)\n",
            "Requirement already satisfied: joblib in /usr/local/lib/python3.10/dist-packages (from nltk) (1.4.2)\n",
            "Requirement already satisfied: regex>=2021.8.3 in /usr/local/lib/python3.10/dist-packages (from nltk) (2024.9.11)\n",
            "Requirement already satisfied: tqdm in /usr/local/lib/python3.10/dist-packages (from nltk) (4.66.6)\n"
          ]
        }
      ],
      "source": [
        "!pip install nltk\n"
      ]
    },
    {
      "cell_type": "code",
      "execution_count": null,
      "metadata": {
        "colab": {
          "base_uri": "https://localhost:8080/"
        },
        "id": "Hfk25qyzcH7w",
        "outputId": "d2b9d14e-537c-4f59-bd3f-717618791bbc"
      },
      "outputs": [
        {
          "output_type": "stream",
          "name": "stderr",
          "text": [
            "[nltk_data] Downloading package punkt to /root/nltk_data...\n",
            "[nltk_data]   Unzipping tokenizers/punkt.zip.\n",
            "[nltk_data] Downloading package punkt_tab to /root/nltk_data...\n",
            "[nltk_data]   Unzipping tokenizers/punkt_tab.zip.\n"
          ]
        },
        {
          "output_type": "stream",
          "name": "stdout",
          "text": [
            "   title                                        description  \\\n",
            "0     3%  future elite inhabit island paradise far crowd...   \n",
            "1   7:19  devastating earthquake hits mexico city trappe...   \n",
            "2  23:59  army recruit found dead fellow soldiers forced...   \n",
            "3      9  postapocalyptic world ragdoll robots hide fear...   \n",
            "4     21  brilliant group students become cardcounting e...   \n",
            "\n",
            "                               tokenized_description tokenized_title  \n",
            "0  [future, elite, inhabit, island, paradise, far...          [3, %]  \n",
            "1  [devastating, earthquake, hits, mexico, city, ...          [7:19]  \n",
            "2  [army, recruit, found, dead, fellow, soldiers,...         [23:59]  \n",
            "3  [postapocalyptic, world, ragdoll, robots, hide...             [9]  \n",
            "4  [brilliant, group, students, become, cardcount...            [21]  \n"
          ]
        }
      ],
      "source": [
        "import nltk\n",
        "import pandas as pd\n",
        "from nltk.tokenize import word_tokenize\n",
        "\n",
        "# Download the necessary NLTK data\n",
        "nltk.download('punkt')\n",
        "nltk.download('punkt_tab')  # Download the 'punkt_tab' data package\n",
        "\n",
        "#Now proceed with tokenization\n",
        "Netflix_df['tokenized_description'] = Netflix_df['description'].apply(word_tokenize)\n",
        "\n",
        "# Tokenize the 'title' column (optional, you can tokenize other columns similarly)\n",
        "Netflix_df['tokenized_title'] = Netflix_df['title'].apply(word_tokenize)\n",
        "\n",
        "# Check the tokenized output\n",
        "print(Netflix_df[['title', 'description', 'tokenized_description', 'tokenized_title']].head())"
      ]
    },
    {
      "cell_type": "markdown",
      "metadata": {
        "id": "9ExmJH0g5HBk"
      },
      "source": [
        "#### 8. Text Normalization"
      ]
    },
    {
      "cell_type": "code",
      "execution_count": null,
      "metadata": {
        "colab": {
          "base_uri": "https://localhost:8080/"
        },
        "id": "C-qK_CenZjNF",
        "outputId": "d1d50a33-4be5-4dcd-fb0c-f5f3361a4e9a"
      },
      "outputs": [
        {
          "output_type": "stream",
          "name": "stderr",
          "text": [
            "[nltk_data] Downloading package wordnet to /root/nltk_data...\n"
          ]
        }
      ],
      "source": [
        "from nltk.stem import WordNetLemmatizer\n",
        "nltk.download('wordnet')\n",
        "\n",
        "# Initialize the lemmatizer\n",
        "lemmatizer = WordNetLemmatizer()\n",
        "\n",
        "# Function to apply lemmatization\n",
        "def apply_lemmatization(text):\n",
        "    words = text.split()\n",
        "    return ' '.join([lemmatizer.lemmatize(word) for word in words])\n",
        "\n",
        "# Apply to 'description' and 'title'\n",
        "Netflix_df['description'] = Netflix_df['description'].apply(apply_lemmatization)\n",
        "Netflix_df['title'] = Netflix_df['title'].apply(apply_lemmatization)\n"
      ]
    },
    {
      "cell_type": "markdown",
      "metadata": {
        "id": "cJNqERVU536h"
      },
      "source": [
        "##### Which text normalization technique have you used and why?"
      ]
    },
    {
      "cell_type": "markdown",
      "metadata": {
        "id": "Z9jKVxE06BC1"
      },
      "source": [
        "Lemmatization is more sophisticated than stemming and ensures words are reduced to valid dictionary forms.\n",
        "\n"
      ]
    },
    {
      "cell_type": "markdown",
      "metadata": {
        "id": "k5UmGsbsOxih"
      },
      "source": [
        "#### 9. Part of speech tagging"
      ]
    },
    {
      "cell_type": "code",
      "execution_count": null,
      "metadata": {
        "colab": {
          "base_uri": "https://localhost:8080/"
        },
        "id": "2PPGJ_dDZ__5",
        "outputId": "9a4a51b3-553a-4e27-d31a-2ba3912ab130"
      },
      "outputs": [
        {
          "output_type": "stream",
          "name": "stdout",
          "text": [
            "Requirement already satisfied: spacy in /usr/local/lib/python3.10/dist-packages (3.7.5)\n",
            "Requirement already satisfied: spacy-legacy<3.1.0,>=3.0.11 in /usr/local/lib/python3.10/dist-packages (from spacy) (3.0.12)\n",
            "Requirement already satisfied: spacy-loggers<2.0.0,>=1.0.0 in /usr/local/lib/python3.10/dist-packages (from spacy) (1.0.5)\n",
            "Requirement already satisfied: murmurhash<1.1.0,>=0.28.0 in /usr/local/lib/python3.10/dist-packages (from spacy) (1.0.11)\n",
            "Requirement already satisfied: cymem<2.1.0,>=2.0.2 in /usr/local/lib/python3.10/dist-packages (from spacy) (2.0.10)\n",
            "Requirement already satisfied: preshed<3.1.0,>=3.0.2 in /usr/local/lib/python3.10/dist-packages (from spacy) (3.0.9)\n",
            "Requirement already satisfied: thinc<8.3.0,>=8.2.2 in /usr/local/lib/python3.10/dist-packages (from spacy) (8.2.5)\n",
            "Requirement already satisfied: wasabi<1.2.0,>=0.9.1 in /usr/local/lib/python3.10/dist-packages (from spacy) (1.1.3)\n",
            "Requirement already satisfied: srsly<3.0.0,>=2.4.3 in /usr/local/lib/python3.10/dist-packages (from spacy) (2.4.8)\n",
            "Requirement already satisfied: catalogue<2.1.0,>=2.0.6 in /usr/local/lib/python3.10/dist-packages (from spacy) (2.0.10)\n",
            "Requirement already satisfied: weasel<0.5.0,>=0.1.0 in /usr/local/lib/python3.10/dist-packages (from spacy) (0.4.1)\n",
            "Requirement already satisfied: typer<1.0.0,>=0.3.0 in /usr/local/lib/python3.10/dist-packages (from spacy) (0.15.0)\n",
            "Requirement already satisfied: tqdm<5.0.0,>=4.38.0 in /usr/local/lib/python3.10/dist-packages (from spacy) (4.66.6)\n",
            "Requirement already satisfied: requests<3.0.0,>=2.13.0 in /usr/local/lib/python3.10/dist-packages (from spacy) (2.32.3)\n",
            "Requirement already satisfied: pydantic!=1.8,!=1.8.1,<3.0.0,>=1.7.4 in /usr/local/lib/python3.10/dist-packages (from spacy) (2.10.3)\n",
            "Requirement already satisfied: jinja2 in /usr/local/lib/python3.10/dist-packages (from spacy) (3.1.4)\n",
            "Requirement already satisfied: setuptools in /usr/local/lib/python3.10/dist-packages (from spacy) (75.1.0)\n",
            "Requirement already satisfied: packaging>=20.0 in /usr/local/lib/python3.10/dist-packages (from spacy) (24.2)\n",
            "Requirement already satisfied: langcodes<4.0.0,>=3.2.0 in /usr/local/lib/python3.10/dist-packages (from spacy) (3.5.0)\n",
            "Requirement already satisfied: numpy>=1.19.0 in /usr/local/lib/python3.10/dist-packages (from spacy) (1.26.4)\n",
            "Requirement already satisfied: language-data>=1.2 in /usr/local/lib/python3.10/dist-packages (from langcodes<4.0.0,>=3.2.0->spacy) (1.3.0)\n",
            "Requirement already satisfied: annotated-types>=0.6.0 in /usr/local/lib/python3.10/dist-packages (from pydantic!=1.8,!=1.8.1,<3.0.0,>=1.7.4->spacy) (0.7.0)\n",
            "Requirement already satisfied: pydantic-core==2.27.1 in /usr/local/lib/python3.10/dist-packages (from pydantic!=1.8,!=1.8.1,<3.0.0,>=1.7.4->spacy) (2.27.1)\n",
            "Requirement already satisfied: typing-extensions>=4.12.2 in /usr/local/lib/python3.10/dist-packages (from pydantic!=1.8,!=1.8.1,<3.0.0,>=1.7.4->spacy) (4.12.2)\n",
            "Requirement already satisfied: charset-normalizer<4,>=2 in /usr/local/lib/python3.10/dist-packages (from requests<3.0.0,>=2.13.0->spacy) (3.4.0)\n",
            "Requirement already satisfied: idna<4,>=2.5 in /usr/local/lib/python3.10/dist-packages (from requests<3.0.0,>=2.13.0->spacy) (3.10)\n",
            "Requirement already satisfied: urllib3<3,>=1.21.1 in /usr/local/lib/python3.10/dist-packages (from requests<3.0.0,>=2.13.0->spacy) (2.2.3)\n",
            "Requirement already satisfied: certifi>=2017.4.17 in /usr/local/lib/python3.10/dist-packages (from requests<3.0.0,>=2.13.0->spacy) (2024.8.30)\n",
            "Requirement already satisfied: blis<0.8.0,>=0.7.8 in /usr/local/lib/python3.10/dist-packages (from thinc<8.3.0,>=8.2.2->spacy) (0.7.11)\n",
            "Requirement already satisfied: confection<1.0.0,>=0.0.1 in /usr/local/lib/python3.10/dist-packages (from thinc<8.3.0,>=8.2.2->spacy) (0.1.5)\n",
            "Requirement already satisfied: click>=8.0.0 in /usr/local/lib/python3.10/dist-packages (from typer<1.0.0,>=0.3.0->spacy) (8.1.7)\n",
            "Requirement already satisfied: shellingham>=1.3.0 in /usr/local/lib/python3.10/dist-packages (from typer<1.0.0,>=0.3.0->spacy) (1.5.4)\n",
            "Requirement already satisfied: rich>=10.11.0 in /usr/local/lib/python3.10/dist-packages (from typer<1.0.0,>=0.3.0->spacy) (13.9.4)\n",
            "Requirement already satisfied: cloudpathlib<1.0.0,>=0.7.0 in /usr/local/lib/python3.10/dist-packages (from weasel<0.5.0,>=0.1.0->spacy) (0.20.0)\n",
            "Requirement already satisfied: smart-open<8.0.0,>=5.2.1 in /usr/local/lib/python3.10/dist-packages (from weasel<0.5.0,>=0.1.0->spacy) (7.0.5)\n",
            "Requirement already satisfied: MarkupSafe>=2.0 in /usr/local/lib/python3.10/dist-packages (from jinja2->spacy) (3.0.2)\n",
            "Requirement already satisfied: marisa-trie>=1.1.0 in /usr/local/lib/python3.10/dist-packages (from language-data>=1.2->langcodes<4.0.0,>=3.2.0->spacy) (1.2.1)\n",
            "Requirement already satisfied: markdown-it-py>=2.2.0 in /usr/local/lib/python3.10/dist-packages (from rich>=10.11.0->typer<1.0.0,>=0.3.0->spacy) (3.0.0)\n",
            "Requirement already satisfied: pygments<3.0.0,>=2.13.0 in /usr/local/lib/python3.10/dist-packages (from rich>=10.11.0->typer<1.0.0,>=0.3.0->spacy) (2.18.0)\n",
            "Requirement already satisfied: wrapt in /usr/local/lib/python3.10/dist-packages (from smart-open<8.0.0,>=5.2.1->weasel<0.5.0,>=0.1.0->spacy) (1.17.0)\n",
            "Requirement already satisfied: mdurl~=0.1 in /usr/local/lib/python3.10/dist-packages (from markdown-it-py>=2.2.0->rich>=10.11.0->typer<1.0.0,>=0.3.0->spacy) (0.1.2)\n",
            "Collecting en-core-web-sm==3.7.1\n",
            "  Downloading https://github.com/explosion/spacy-models/releases/download/en_core_web_sm-3.7.1/en_core_web_sm-3.7.1-py3-none-any.whl (12.8 MB)\n",
            "\u001b[2K     \u001b[90m━━━━━━━━━━━━━━━━━━━━━━━━━━━━━━━━━━━━━━━━\u001b[0m \u001b[32m12.8/12.8 MB\u001b[0m \u001b[31m24.9 MB/s\u001b[0m eta \u001b[36m0:00:00\u001b[0m\n",
            "\u001b[?25hRequirement already satisfied: spacy<3.8.0,>=3.7.2 in /usr/local/lib/python3.10/dist-packages (from en-core-web-sm==3.7.1) (3.7.5)\n",
            "Requirement already satisfied: spacy-legacy<3.1.0,>=3.0.11 in /usr/local/lib/python3.10/dist-packages (from spacy<3.8.0,>=3.7.2->en-core-web-sm==3.7.1) (3.0.12)\n",
            "Requirement already satisfied: spacy-loggers<2.0.0,>=1.0.0 in /usr/local/lib/python3.10/dist-packages (from spacy<3.8.0,>=3.7.2->en-core-web-sm==3.7.1) (1.0.5)\n",
            "Requirement already satisfied: murmurhash<1.1.0,>=0.28.0 in /usr/local/lib/python3.10/dist-packages (from spacy<3.8.0,>=3.7.2->en-core-web-sm==3.7.1) (1.0.11)\n",
            "Requirement already satisfied: cymem<2.1.0,>=2.0.2 in /usr/local/lib/python3.10/dist-packages (from spacy<3.8.0,>=3.7.2->en-core-web-sm==3.7.1) (2.0.10)\n",
            "Requirement already satisfied: preshed<3.1.0,>=3.0.2 in /usr/local/lib/python3.10/dist-packages (from spacy<3.8.0,>=3.7.2->en-core-web-sm==3.7.1) (3.0.9)\n",
            "Requirement already satisfied: thinc<8.3.0,>=8.2.2 in /usr/local/lib/python3.10/dist-packages (from spacy<3.8.0,>=3.7.2->en-core-web-sm==3.7.1) (8.2.5)\n",
            "Requirement already satisfied: wasabi<1.2.0,>=0.9.1 in /usr/local/lib/python3.10/dist-packages (from spacy<3.8.0,>=3.7.2->en-core-web-sm==3.7.1) (1.1.3)\n",
            "Requirement already satisfied: srsly<3.0.0,>=2.4.3 in /usr/local/lib/python3.10/dist-packages (from spacy<3.8.0,>=3.7.2->en-core-web-sm==3.7.1) (2.4.8)\n",
            "Requirement already satisfied: catalogue<2.1.0,>=2.0.6 in /usr/local/lib/python3.10/dist-packages (from spacy<3.8.0,>=3.7.2->en-core-web-sm==3.7.1) (2.0.10)\n",
            "Requirement already satisfied: weasel<0.5.0,>=0.1.0 in /usr/local/lib/python3.10/dist-packages (from spacy<3.8.0,>=3.7.2->en-core-web-sm==3.7.1) (0.4.1)\n",
            "Requirement already satisfied: typer<1.0.0,>=0.3.0 in /usr/local/lib/python3.10/dist-packages (from spacy<3.8.0,>=3.7.2->en-core-web-sm==3.7.1) (0.15.0)\n",
            "Requirement already satisfied: tqdm<5.0.0,>=4.38.0 in /usr/local/lib/python3.10/dist-packages (from spacy<3.8.0,>=3.7.2->en-core-web-sm==3.7.1) (4.66.6)\n",
            "Requirement already satisfied: requests<3.0.0,>=2.13.0 in /usr/local/lib/python3.10/dist-packages (from spacy<3.8.0,>=3.7.2->en-core-web-sm==3.7.1) (2.32.3)\n",
            "Requirement already satisfied: pydantic!=1.8,!=1.8.1,<3.0.0,>=1.7.4 in /usr/local/lib/python3.10/dist-packages (from spacy<3.8.0,>=3.7.2->en-core-web-sm==3.7.1) (2.10.3)\n",
            "Requirement already satisfied: jinja2 in /usr/local/lib/python3.10/dist-packages (from spacy<3.8.0,>=3.7.2->en-core-web-sm==3.7.1) (3.1.4)\n",
            "Requirement already satisfied: setuptools in /usr/local/lib/python3.10/dist-packages (from spacy<3.8.0,>=3.7.2->en-core-web-sm==3.7.1) (75.1.0)\n",
            "Requirement already satisfied: packaging>=20.0 in /usr/local/lib/python3.10/dist-packages (from spacy<3.8.0,>=3.7.2->en-core-web-sm==3.7.1) (24.2)\n",
            "Requirement already satisfied: langcodes<4.0.0,>=3.2.0 in /usr/local/lib/python3.10/dist-packages (from spacy<3.8.0,>=3.7.2->en-core-web-sm==3.7.1) (3.5.0)\n",
            "Requirement already satisfied: numpy>=1.19.0 in /usr/local/lib/python3.10/dist-packages (from spacy<3.8.0,>=3.7.2->en-core-web-sm==3.7.1) (1.26.4)\n",
            "Requirement already satisfied: language-data>=1.2 in /usr/local/lib/python3.10/dist-packages (from langcodes<4.0.0,>=3.2.0->spacy<3.8.0,>=3.7.2->en-core-web-sm==3.7.1) (1.3.0)\n",
            "Requirement already satisfied: annotated-types>=0.6.0 in /usr/local/lib/python3.10/dist-packages (from pydantic!=1.8,!=1.8.1,<3.0.0,>=1.7.4->spacy<3.8.0,>=3.7.2->en-core-web-sm==3.7.1) (0.7.0)\n",
            "Requirement already satisfied: pydantic-core==2.27.1 in /usr/local/lib/python3.10/dist-packages (from pydantic!=1.8,!=1.8.1,<3.0.0,>=1.7.4->spacy<3.8.0,>=3.7.2->en-core-web-sm==3.7.1) (2.27.1)\n",
            "Requirement already satisfied: typing-extensions>=4.12.2 in /usr/local/lib/python3.10/dist-packages (from pydantic!=1.8,!=1.8.1,<3.0.0,>=1.7.4->spacy<3.8.0,>=3.7.2->en-core-web-sm==3.7.1) (4.12.2)\n",
            "Requirement already satisfied: charset-normalizer<4,>=2 in /usr/local/lib/python3.10/dist-packages (from requests<3.0.0,>=2.13.0->spacy<3.8.0,>=3.7.2->en-core-web-sm==3.7.1) (3.4.0)\n",
            "Requirement already satisfied: idna<4,>=2.5 in /usr/local/lib/python3.10/dist-packages (from requests<3.0.0,>=2.13.0->spacy<3.8.0,>=3.7.2->en-core-web-sm==3.7.1) (3.10)\n",
            "Requirement already satisfied: urllib3<3,>=1.21.1 in /usr/local/lib/python3.10/dist-packages (from requests<3.0.0,>=2.13.0->spacy<3.8.0,>=3.7.2->en-core-web-sm==3.7.1) (2.2.3)\n",
            "Requirement already satisfied: certifi>=2017.4.17 in /usr/local/lib/python3.10/dist-packages (from requests<3.0.0,>=2.13.0->spacy<3.8.0,>=3.7.2->en-core-web-sm==3.7.1) (2024.8.30)\n",
            "Requirement already satisfied: blis<0.8.0,>=0.7.8 in /usr/local/lib/python3.10/dist-packages (from thinc<8.3.0,>=8.2.2->spacy<3.8.0,>=3.7.2->en-core-web-sm==3.7.1) (0.7.11)\n",
            "Requirement already satisfied: confection<1.0.0,>=0.0.1 in /usr/local/lib/python3.10/dist-packages (from thinc<8.3.0,>=8.2.2->spacy<3.8.0,>=3.7.2->en-core-web-sm==3.7.1) (0.1.5)\n",
            "Requirement already satisfied: click>=8.0.0 in /usr/local/lib/python3.10/dist-packages (from typer<1.0.0,>=0.3.0->spacy<3.8.0,>=3.7.2->en-core-web-sm==3.7.1) (8.1.7)\n",
            "Requirement already satisfied: shellingham>=1.3.0 in /usr/local/lib/python3.10/dist-packages (from typer<1.0.0,>=0.3.0->spacy<3.8.0,>=3.7.2->en-core-web-sm==3.7.1) (1.5.4)\n",
            "Requirement already satisfied: rich>=10.11.0 in /usr/local/lib/python3.10/dist-packages (from typer<1.0.0,>=0.3.0->spacy<3.8.0,>=3.7.2->en-core-web-sm==3.7.1) (13.9.4)\n",
            "Requirement already satisfied: cloudpathlib<1.0.0,>=0.7.0 in /usr/local/lib/python3.10/dist-packages (from weasel<0.5.0,>=0.1.0->spacy<3.8.0,>=3.7.2->en-core-web-sm==3.7.1) (0.20.0)\n",
            "Requirement already satisfied: smart-open<8.0.0,>=5.2.1 in /usr/local/lib/python3.10/dist-packages (from weasel<0.5.0,>=0.1.0->spacy<3.8.0,>=3.7.2->en-core-web-sm==3.7.1) (7.0.5)\n",
            "Requirement already satisfied: MarkupSafe>=2.0 in /usr/local/lib/python3.10/dist-packages (from jinja2->spacy<3.8.0,>=3.7.2->en-core-web-sm==3.7.1) (3.0.2)\n",
            "Requirement already satisfied: marisa-trie>=1.1.0 in /usr/local/lib/python3.10/dist-packages (from language-data>=1.2->langcodes<4.0.0,>=3.2.0->spacy<3.8.0,>=3.7.2->en-core-web-sm==3.7.1) (1.2.1)\n",
            "Requirement already satisfied: markdown-it-py>=2.2.0 in /usr/local/lib/python3.10/dist-packages (from rich>=10.11.0->typer<1.0.0,>=0.3.0->spacy<3.8.0,>=3.7.2->en-core-web-sm==3.7.1) (3.0.0)\n",
            "Requirement already satisfied: pygments<3.0.0,>=2.13.0 in /usr/local/lib/python3.10/dist-packages (from rich>=10.11.0->typer<1.0.0,>=0.3.0->spacy<3.8.0,>=3.7.2->en-core-web-sm==3.7.1) (2.18.0)\n",
            "Requirement already satisfied: wrapt in /usr/local/lib/python3.10/dist-packages (from smart-open<8.0.0,>=5.2.1->weasel<0.5.0,>=0.1.0->spacy<3.8.0,>=3.7.2->en-core-web-sm==3.7.1) (1.17.0)\n",
            "Requirement already satisfied: mdurl~=0.1 in /usr/local/lib/python3.10/dist-packages (from markdown-it-py>=2.2.0->rich>=10.11.0->typer<1.0.0,>=0.3.0->spacy<3.8.0,>=3.7.2->en-core-web-sm==3.7.1) (0.1.2)\n",
            "\u001b[38;5;2m✔ Download and installation successful\u001b[0m\n",
            "You can now load the package via spacy.load('en_core_web_sm')\n",
            "\u001b[38;5;3m⚠ Restart to reload dependencies\u001b[0m\n",
            "If you are in a Jupyter or Colab notebook, you may need to restart Python in\n",
            "order to load all the package's dependencies. You can do this by selecting the\n",
            "'Restart kernel' or 'Restart runtime' option.\n"
          ]
        }
      ],
      "source": [
        "!pip install spacy\n",
        "!python -m spacy download en_core_web_sm"
      ]
    },
    {
      "cell_type": "code",
      "execution_count": null,
      "metadata": {
        "id": "btT3ZJBAO6Ik"
      },
      "outputs": [],
      "source": [
        "# POS Taging\n",
        "import spacy\n",
        "\n",
        "# Load SpaCy's English model\n",
        "nlp = spacy.load(\"en_core_web_sm\")\n",
        "\n",
        "def pos_tagging_spacy(text):\n",
        "    doc = nlp(text)\n",
        "    # Extract token and its POS tag\n",
        "    return [(token.text, token.pos_) for token in doc]\n",
        "\n",
        "# Example: POS tagging on the 'description' column\n",
        "Netflix_df['pos_tags'] = Netflix_df['description'].apply(pos_tagging_spacy)\n"
      ]
    },
    {
      "cell_type": "markdown",
      "metadata": {
        "id": "T0VqWOYE6DLQ"
      },
      "source": [
        "#### 10. Text Vectorization"
      ]
    },
    {
      "cell_type": "code",
      "execution_count": null,
      "metadata": {
        "colab": {
          "base_uri": "https://localhost:8080/"
        },
        "id": "yBRtdhth6JDE",
        "outputId": "7cdb8169-42b0-4e9e-8024-8a132a701642"
      },
      "outputs": [
        {
          "output_type": "stream",
          "name": "stdout",
          "text": [
            "BoW Feature Names: ['aaliya' 'aamir' 'aang' ... 'zulu' 'zumbo' 'zurich']\n",
            "BoW Array (first 5 documents): [[0 0 0 ... 0 0 0]\n",
            " [0 0 0 ... 0 0 0]\n",
            " [0 0 0 ... 0 0 0]\n",
            " [0 0 0 ... 0 0 0]\n",
            " [0 0 0 ... 0 0 0]]\n"
          ]
        }
      ],
      "source": [
        "# Vectorizing Text\n",
        "from sklearn.feature_extraction.text import CountVectorizer\n",
        "\n",
        "# Initialize CountVectorizer\n",
        "vectorizer = CountVectorizer(stop_words='english')\n",
        "\n",
        "# Fit and transform the 'description' column into BoW representation\n",
        "X_bow = vectorizer.fit_transform(Netflix_df['description'])\n",
        "\n",
        "# Convert the sparse matrix to a dense array and display the result\n",
        "bow_array = X_bow.toarray()\n",
        "\n",
        "# Show the feature names (words) and the BoW matrix\n",
        "print(\"BoW Feature Names:\", vectorizer.get_feature_names_out())\n",
        "print(\"BoW Array (first 5 documents):\", bow_array[:5])\n"
      ]
    },
    {
      "cell_type": "markdown",
      "metadata": {
        "id": "qBMux9mC6MCf"
      },
      "source": [
        "##### Which text vectorization technique have you used and why?"
      ]
    },
    {
      "cell_type": "markdown",
      "metadata": {
        "id": "su2EnbCh6UKQ"
      },
      "source": [
        "Bag of Words is a simple yet effective method where each word in the corpus is represented by its frequency in the text."
      ]
    },
    {
      "cell_type": "markdown",
      "metadata": {
        "id": "-oLEiFgy-5Pf"
      },
      "source": [
        "### 4. Feature Manipulation & Selection"
      ]
    },
    {
      "cell_type": "markdown",
      "metadata": {
        "id": "C74aWNz2AliB"
      },
      "source": [
        "#### 1. Feature Manipulation"
      ]
    },
    {
      "cell_type": "markdown",
      "metadata": {
        "id": "2DejudWSA-a0"
      },
      "source": [
        "#### 2. Feature Selection"
      ]
    },
    {
      "cell_type": "code",
      "execution_count": null,
      "metadata": {
        "id": "YLhe8UmaBCEE"
      },
      "outputs": [],
      "source": [
        "# Select your features wisely to avoid overfitting"
      ]
    },
    {
      "cell_type": "markdown",
      "metadata": {
        "id": "pEMng2IbBLp7"
      },
      "source": [
        "##### What all feature selection methods have you used  and why?"
      ]
    },
    {
      "cell_type": "markdown",
      "metadata": {
        "id": "rb2Lh6Z8BgGs"
      },
      "source": [
        "Answer Here."
      ]
    },
    {
      "cell_type": "markdown",
      "metadata": {
        "id": "rAdphbQ9Bhjc"
      },
      "source": [
        "##### Which all features you found important and why?"
      ]
    },
    {
      "cell_type": "markdown",
      "metadata": {
        "id": "fGgaEstsBnaf"
      },
      "source": [
        "Answer Here."
      ]
    },
    {
      "cell_type": "markdown",
      "metadata": {
        "id": "TNVZ9zx19K6k"
      },
      "source": [
        "### 5. Data Transformation"
      ]
    },
    {
      "cell_type": "code",
      "execution_count": null,
      "metadata": {
        "id": "rToZrIuFj4pg"
      },
      "outputs": [],
      "source": [
        "# transform your data\n",
        "\n",
        "from sklearn.feature_extraction.text import TfidfVectorizer\n",
        "tfidf = TfidfVectorizer(max_features=500)\n",
        "description_features = tfidf.fit_transform(Netflix_df['description'])\n"
      ]
    },
    {
      "cell_type": "markdown",
      "metadata": {
        "id": "nqoHp30x9hH9"
      },
      "source": [
        "#### Do you think that your data needs to be transformed? If yes, which transformation have you used. Explain Why?"
      ]
    },
    {
      "cell_type": "markdown",
      "metadata": {
        "id": "JV6AdIzNkJSn"
      },
      "source": [
        "Yes, the data needs to be transformed. This is essential because clustering algorithms require numeric, scaled, and consistent data for effective grouping. Here are the transformations applied, along with explanations for each:\n",
        "\n",
        "Descriptions (description):\n",
        "Transformation: Applied TF-IDF Vectorization to convert text into numerical features.\n",
        "Why: Descriptions are unstructured text. TF-IDF (Term Frequency-Inverse Document Frequency) captures the importance of words in a description while reducing the influence of common words, enabling clustering based on content similarity.\n"
      ]
    },
    {
      "cell_type": "markdown",
      "metadata": {
        "id": "rMDnDkt2B6du"
      },
      "source": [
        "### 6. Data Scaling"
      ]
    },
    {
      "cell_type": "code",
      "execution_count": null,
      "metadata": {
        "id": "dL9LWpySC6x_"
      },
      "outputs": [],
      "source": [
        "# Scaling your data\n",
        "from sklearn.preprocessing import StandardScaler\n",
        "scaler = StandardScaler()\n",
        "scaled_features = scaler.fit_transform(description_features.toarray())\n"
      ]
    },
    {
      "cell_type": "markdown",
      "metadata": {
        "id": "yiiVWRdJDDil"
      },
      "source": [
        "##### Which method have you used to scale you data and why?\n",
        "StandardScaler standardizes features by removing the mean and scaling them to unit variance.\n",
        "StandardScaler was the optimal choice for scaling numerical data in this Netflix dataset, as it ensures fair contribution of features in clustering while maintaining interpretability and compatibility with distance-based algorithms."
      ]
    },
    {
      "cell_type": "markdown",
      "metadata": {
        "id": "1UUpS68QDMuG"
      },
      "source": [
        "### 7. Dimesionality Reduction"
      ]
    },
    {
      "cell_type": "markdown",
      "metadata": {
        "id": "kexQrXU-DjzY"
      },
      "source": [
        "##### Do you think that dimensionality reduction is needed? Explain Why?"
      ]
    },
    {
      "cell_type": "markdown",
      "metadata": {
        "id": "GGRlBsSGDtTQ"
      },
      "source": [
        "Yes, dimensionality reduction is likely needed for your Netflix dataset, especially due to the high-dimensional features generated during the data transformation process. Here's why:"
      ]
    },
    {
      "cell_type": "code",
      "execution_count": null,
      "metadata": {
        "id": "kQfvxBBHDvCa"
      },
      "outputs": [],
      "source": [
        "# DImensionality Reduction.\n",
        "from sklearn.decomposition import PCA\n",
        "\n",
        "pca = PCA(n_components=10)\n",
        "reduced_features = pca.fit_transform(description_features.toarray())\n"
      ]
    },
    {
      "cell_type": "markdown",
      "metadata": {
        "id": "T5CmagL3EC8N"
      },
      "source": [
        "##### Which dimensionality reduction technique have you used and why? (If dimensionality reduction done on dataset.)"
      ]
    },
    {
      "cell_type": "markdown",
      "metadata": {
        "id": "ZKr75IDuEM7t"
      },
      "source": [
        " Principal Component Analysis (PCA)\n",
        " Reduces dimensionality by finding linear combinations of features that capture the maximum variance.\n",
        "\n",
        "Why use PCA:\n",
        "Suitable for reducing text and numeric features into a smaller set of uncorrelated components.\n",
        "Improves clustering efficiency by eliminating redundant or irrelevant features"
      ]
    },
    {
      "cell_type": "markdown",
      "metadata": {
        "id": "BhH2vgX9EjGr"
      },
      "source": [
        "### 8. Data Splitting"
      ]
    },
    {
      "cell_type": "code",
      "execution_count": null,
      "metadata": {
        "colab": {
          "base_uri": "https://localhost:8080/"
        },
        "id": "G1lymPapqURF",
        "outputId": "9b07cab9-f231-4b57-f2ed-4972a7884c54"
      },
      "outputs": [
        {
          "output_type": "stream",
          "name": "stdout",
          "text": [
            "Training Data Shape: (12459,)\n",
            "Testing Data Shape: (3115,)\n"
          ]
        }
      ],
      "source": [
        "from sklearn.model_selection import train_test_split\n",
        "import numpy as np\n",
        "\n",
        "\n",
        "numeric_features = Netflix_df[['release_year', 'duration']].fillna(0).values\n",
        "text_features = description_features.toarray()\n",
        "feature_matrix = np.hstack(numeric_features)\n",
        "features = feature_matrix\n",
        "# Splitting the data\n",
        "X_train, X_test = train_test_split(features, test_size=0.2, random_state=42)\n",
        "\n",
        "print(\"Training Data Shape:\", X_train.shape)\n",
        "print(\"Testing Data Shape:\", X_test.shape)"
      ]
    },
    {
      "cell_type": "markdown",
      "metadata": {
        "id": "qjKvONjwE8ra"
      },
      "source": [
        "##### What data splitting ratio have you used and why?"
      ]
    },
    {
      "cell_type": "markdown",
      "metadata": {
        "id": "Y2lJ8cobFDb_"
      },
      "source": [
        "In unsupervised learning, specifically for clustering tasks, data splitting is not as critical as in supervised learning, where the model is trained and evaluated on separate datasets. However, it's still helpful to have a test set to evaluate the generalization of your clustering model. For splitting the data, I recommend using a 80:20 split ratio, where:\n",
        "\n",
        "80% of the data is used for training (i.e., building the clustering model).\n",
        "20% of the data is held out for testing (i.e., to evaluate the clusters' generalization).\n",
        "\n",
        "\n",
        "\n",
        "Why the 80:20 Split Ratio:\n",
        "\n",
        "Adequate Training Data:\n",
        "80% of the data allows the clustering algorithm to detect meaningful patterns and groupings. This is especially important when the dataset is large, such as the Netflix dataset with thousands of entries.\n",
        "\n",
        "Sufficient Testing Data:\n",
        "By holding out 20% of the data, you ensure you have enough test samples to evaluate the clustering results. Although clustering doesn't have traditional \"labels,\" you can use intrinsic evaluation metrics (e.g., Silhouette Score, Davies-Bouldin Index) on the test set.\n",
        "\n",
        "Balance:\n",
        "This ratio strikes a good balance between having enough data for training the model and reserving sufficient data for testing. If the test set is too small, it may not be representative of the entire dataset, whereas a very large test set may limit the data available for training."
      ]
    },
    {
      "cell_type": "markdown",
      "metadata": {
        "id": "P1XJ9OREExlT"
      },
      "source": [
        "### 9. Handling Imbalanced Dataset"
      ]
    },
    {
      "cell_type": "markdown",
      "metadata": {
        "id": "VFOzZv6IFROw"
      },
      "source": [
        "##### Do you think the dataset is imbalanced? Explain Why."
      ]
    },
    {
      "cell_type": "markdown",
      "metadata": {
        "id": "GeKDIv7pFgcC"
      },
      "source": [
        "Handling imbalanced data is not necessary in this data set."
      ]
    },
    {
      "cell_type": "code",
      "execution_count": null,
      "metadata": {
        "id": "nQsRhhZLFiDs"
      },
      "outputs": [],
      "source": [
        "# Handling Imbalanced Dataset (If needed)\n"
      ]
    },
    {
      "cell_type": "markdown",
      "metadata": {
        "id": "TIqpNgepFxVj"
      },
      "source": [
        "##### What technique did you use to handle the imbalance dataset and why? (If needed to be balanced)"
      ]
    },
    {
      "cell_type": "markdown",
      "metadata": {
        "id": "qbet1HwdGDTz"
      },
      "source": [
        "Answer Here."
      ]
    },
    {
      "cell_type": "markdown",
      "metadata": {
        "id": "VfCC591jGiD4"
      },
      "source": [
        "## ***7. ML Model Implementation***"
      ]
    },
    {
      "cell_type": "markdown",
      "metadata": {
        "id": "OB4l2ZhMeS1U"
      },
      "source": [
        " ML Mo**del - 1(K-Means Clustering)**\n",
        "\n",
        "K-Means clustering is an unsupervised learning algorithm used to partition a dataset into a set of clusters, where each data point belongs to the cluster with the nearest mean. It's one of the most popular clustering algorithms."
      ]
    },
    {
      "cell_type": "code",
      "execution_count": null,
      "metadata": {
        "colab": {
          "base_uri": "https://localhost:8080/",
          "height": 541
        },
        "id": "aEZJ9hdO6aAy",
        "outputId": "59ca970d-2e7a-4499-e316-8818b712eb28"
      },
      "outputs": [
        {
          "output_type": "display_data",
          "data": {
            "text/plain": [
              "<Figure size 800x550 with 2 Axes>"
            ],
            "image/png": "[encoded data removed]"
          },
          "metadata": {}
        },
        {
          "output_type": "execute_result",
          "data": {
            "text/plain": [
              "<Axes: title={'center': 'Distortion Score Elbow for KMeans Clustering'}, xlabel='k', ylabel='distortion score'>"
            ]
          },
          "metadata": {},
          "execution_count": 52
        }
      ],
      "source": [
        "import pandas as pd\n",
        "from sklearn.preprocessing import StandardScaler\n",
        "from sklearn.cluster import KMeans\n",
        "from yellowbrick.cluster import KElbowVisualizer\n",
        "\n",
        "data=Netflix_df\n",
        "\n",
        "\n",
        "# Ensure the dataset contains only numeric values\n",
        "# Convert categorical features if necessary or drop non-numeric columns\n",
        "data = data.select_dtypes(include=['float64', 'int64'])\n",
        "\n",
        "# Handle missing values (if any)\n",
        "data.fillna(data.mean(), inplace=True)\n",
        "\n",
        "# Standardize the data\n",
        "scaler = StandardScaler()\n",
        "X_scaled = scaler.fit_transform(data)\n",
        "\n",
        "# Initialize the KMeans model with a random state for reproducibility\n",
        "model = KMeans(random_state=0)\n",
        "\n",
        "# Create the ElbowVisualizer for finding the optimal K value\n",
        "visualizer = KElbowVisualizer(model, k=(1, 16), locate_elbow=False)\n",
        "\n",
        "# Fit the visualizer to the scaled data\n",
        "visualizer.fit(X_scaled)\n",
        "\n",
        "# Show the visualizer plot\n",
        "visualizer.show()\n"
      ]
    },
    {
      "cell_type": "markdown",
      "metadata": {
        "id": "ArJBuiUVfxKd"
      },
      "source": [
        "#### 1. Explain the ML Model used and it's performance using Evaluation metric Score Chart."
      ]
    },
    {
      "cell_type": "code",
      "execution_count": null,
      "metadata": {
        "id": "rqD5ZohzfxKe",
        "colab": {
          "base_uri": "https://localhost:8080/",
          "height": 541
        },
        "outputId": "93c6c037-ab96-4ad0-c73c-4556ecac3fe9"
      },
      "outputs": [
        {
          "output_type": "display_data",
          "data": {
            "text/plain": [
              "<Figure size 800x550 with 2 Axes>"
            ],
            "image/png": "[encoded data removed]"
          },
          "metadata": {}
        },
        {
          "output_type": "execute_result",
          "data": {
            "text/plain": [
              "<Axes: title={'center': 'Distortion Score Elbow for KMeans Clustering'}, xlabel='k', ylabel='distortion score'>"
            ]
          },
          "metadata": {},
          "execution_count": 53
        }
      ],
      "source": [
        "# Visualizing evaluation Metric Score chart\n",
        "# Visualizing evaluation Metric Score chart\n",
        "\n",
        "from sklearn.cluster import KMeans\n",
        "from yellowbrick.cluster import KElbowVisualizer\n",
        "from sklearn.preprocessing import StandardScaler\n",
        "\n",
        "# Scaling data\n",
        "scaler = StandardScaler()\n",
        "X_scaled = scaler.fit_transform(data)\n",
        "\n",
        "# Initialize the KMeans model\n",
        "model = KMeans(random_state=0)\n",
        "\n",
        "# Visualize using KElbowVisualizer\n",
        "visualizer = KElbowVisualizer(model, k=(1, 16), locate_elbow=True)\n",
        "visualizer.fit(X_scaled)\n",
        "visualizer.show()"
      ]
    },
    {
      "cell_type": "markdown",
      "metadata": {
        "id": "4qY1EAkEfxKe"
      },
      "source": [
        "#### 2. Cross- Validation & Hyperparameter Tuning"
      ]
    },
    {
      "cell_type": "code",
      "execution_count": null,
      "metadata": {
        "id": "Dy61ujd6fxKe",
        "colab": {
          "base_uri": "https://localhost:8080/",
          "height": 593
        },
        "outputId": "117c9f3e-6841-4e68-adee-332fd8592e52"
      },
      "outputs": [
        {
          "output_type": "stream",
          "name": "stdout",
          "text": [
            "Best Parameters: {'n_clusters': 2, 'init': 'random', 'max_iter': 300}\n",
            "Best Silhouette Score: 0.8166305963332455\n"
          ]
        },
        {
          "output_type": "display_data",
          "data": {
            "text/plain": [
              "<Figure size 800x550 with 1 Axes>"
            ],
            "image/png": "[encoded data removed]"
          },
          "metadata": {}
        },
        {
          "output_type": "execute_result",
          "data": {
            "text/plain": [
              "<Axes: title={'center': 'Silhouette Plot of KMeans Clustering for 7787 Samples in 2 Centers'}, xlabel='silhouette coefficient values', ylabel='cluster label'>"
            ]
          },
          "metadata": {},
          "execution_count": 54
        }
      ],
      "source": [
        "# ML Model - 1 Implementation with hyperparameter optimization techniques (i.e., GridSearch CV, RandomSearch CV, Bayesian Optimization etc.)\n",
        "\n",
        "from sklearn.cluster import KMeans\n",
        "from sklearn.metrics import silhouette_score\n",
        "from sklearn.preprocessing import StandardScaler\n",
        "import numpy as np\n",
        "\n",
        "# Step 1: Data Scaling\n",
        "scaler = StandardScaler()\n",
        "X_scaled = scaler.fit_transform(data)\n",
        "\n",
        "# Step 2: Define Hyperparameter Grid\n",
        "param_grid = {\n",
        "    'n_clusters': range(2, 16),  # Testing clusters from 2 to 15\n",
        "    'init': ['k-means++', 'random'],  # Initialization methods\n",
        "    'max_iter': [300, 500]  # Maximum number of iterations\n",
        "}\n",
        "\n",
        "# Step 3: Manual Grid Search for Silhouette Score\n",
        "best_score = -1\n",
        "best_params = {}\n",
        "best_model = None\n",
        "\n",
        "for n_clusters in param_grid['n_clusters']:\n",
        "    for init in param_grid['init']:\n",
        "        for max_iter in param_grid['max_iter']:\n",
        "            model = KMeans(n_clusters=n_clusters, init=init, max_iter=max_iter, random_state=0)\n",
        "            labels = model.fit_predict(X_scaled)\n",
        "            score = silhouette_score(X_scaled, labels)\n",
        "\n",
        "            if score > best_score:\n",
        "                best_score = score\n",
        "                best_params = {'n_clusters': n_clusters, 'init': init, 'max_iter': max_iter}\n",
        "                best_model = model\n",
        "\n",
        "print(\"Best Parameters:\", best_params)\n",
        "print(\"Best Silhouette Score:\", best_score)\n",
        "\n",
        "# Step 4: Visualize the Silhouette Score for the Best Model\n",
        "from yellowbrick.cluster import SilhouetteVisualizer\n",
        "\n",
        "visualizer = SilhouetteVisualizer(best_model)\n",
        "visualizer.fit(X_scaled)\n",
        "visualizer.show()\n"
      ]
    },
    {
      "cell_type": "markdown",
      "metadata": {
        "id": "PiV4Ypx8fxKe"
      },
      "source": [
        "##### Which hyperparameter optimization technique have you used and why?"
      ]
    },
    {
      "cell_type": "markdown",
      "metadata": {
        "id": "negyGRa7fxKf"
      },
      "source": [
        "Hyperparameter Optimization Technique Used: Manual Grid Search\n",
        "Why- Traditional methods like GridSearchCV or RandomizedSearchCV rely on supervised metrics and a target variable y_true. Since K-Means is an unsupervised algorithm, we manually search the hyperparameter space and evaluate models using the Silhouette Score, a clustering-specific metric."
      ]
    },
    {
      "cell_type": "markdown",
      "metadata": {
        "id": "TfvqoZmBfxKf"
      },
      "source": [
        "##### Have you seen any improvement? Note down the improvement with updates Evaluation metric Score Chart."
      ]
    },
    {
      "cell_type": "markdown",
      "metadata": {
        "id": "OaLui8CcfxKf"
      },
      "source": [
        "Hyperparameter optimization significantly enhanced the clustering model's performance by producing more distinct and meaningful clusters, as shown by the updated Silhouette Score and visualized charts."
      ]
    },
    {
      "cell_type": "markdown",
      "metadata": {
        "id": "dJ2tPlVmpsJ0"
      },
      "source": [
        "### ML Model - 2(Hierarchical clustering)\n",
        "Hierarchical clustering is an unsupervised learning method that builds a hierarchy of clusters. It creates a tree-like structure called a dendrogram, which allows visualization of the cluster hierarchy and decision-making on the number of clusters."
      ]
    },
    {
      "cell_type": "markdown",
      "metadata": {
        "id": "JWYfwnehpsJ1"
      },
      "source": [
        "#### 1. Explain the ML Model used and it's performance using Evaluation metric Score Chart."
      ]
    },
    {
      "source": [
        "# Visualizing evaluation Metric Score chart\n",
        "import pandas as pd\n",
        "import numpy as np\n",
        "from sklearn.preprocessing import StandardScaler\n",
        "from scipy.cluster.hierarchy import dendrogram, linkage, fcluster\n",
        "from sklearn.metrics import silhouette_score\n",
        "import matplotlib.pyplot as plt\n",
        "import sys\n",
        "\n",
        "# Heirarchical Clustering\n",
        "x_transformed = scaler.fit_transform(data)\n",
        "\n",
        "distance_linkage = linkage(x_transformed, method='ward', metric='euclidean')\n",
        "plt.figure(figsize=(25,10))\n",
        "\n",
        "plt.title('Hierarchical Clustering')\n",
        "plt.xlabel('Movies/TV Shows')\n",
        "plt.ylabel('Euclidean Distance')\n",
        "\n",
        "# Increase the recursion limit\n",
        "sys.setrecursionlimit(10000)  # Adjust the limit as needed\n",
        "\n",
        "dendrogram(distance_linkage)\n",
        "plt.show()"
      ],
      "cell_type": "code",
      "metadata": {
        "colab": {
          "base_uri": "https://localhost:8080/",
          "height": 487
        },
        "id": "McYhKnyuL0x3",
        "outputId": "6579efd1-069d-453d-d2ea-7f3d30004d47"
      },
      "execution_count": null,
      "outputs": [
        {
          "output_type": "display_data",
          "data": {
            "text/plain": [
              "<Figure size 2500x1000 with 1 Axes>"
            ],
            "image/png": "[encoded data removed]"
          },
          "metadata": {}
        }
      ]
    },
    {
      "cell_type": "markdown",
      "metadata": {
        "id": "-jK_YjpMpsJ2"
      },
      "source": [
        "#### 2. Cross- Validation & Hyperparameter Tuning\n",
        "\n",
        "To implement an ML model with hyperparameter optimization using techniques like GridSearchCV, RandomizedSearchCV, or Bayesian Optimization, let's use a common classifier, such as RandomForestClassifier, along with a hyperparameter optimization technique. Below is a complete example using GridSearchCV to optimize the hyperparameters of a Random Forest Classifier."
      ]
    },
    {
      "source": [
        "import pandas as pd\n",
        "import numpy as np\n",
        "from sklearn.model_selection import train_test_split, GridSearchCV\n",
        "from sklearn.ensemble import RandomForestClassifier\n",
        "from sklearn.preprocessing import StandardScaler\n",
        "from sklearn.metrics import accuracy_score, classification_report\n",
        "\n",
        "# Assuming your Netflix data is loaded into a DataFrame named 'Netflix_df'\n",
        "data = Netflix_df.copy()  # Create a copy to avoid modifying the original DataFrame\n",
        "\n",
        "# Create the 'duration_minutes' column with numerical duration values.\n",
        "# Assuming your 'duration' column has values like \"105 min\" or \"4 Seasons\"\n",
        "data['duration_minutes'] = data['duration'].str.extract('(\\d+)').astype(float)\n",
        "\n",
        "# Now, create the 'type' column based on the new 'duration_minutes'\n",
        "data['type'] = data['duration_minutes'].apply(lambda x: 'Movie' if x > 60 else 'TV Show')\n"
      ],
      "cell_type": "code",
      "metadata": {
        "id": "nesHz3pfTunu"
      },
      "execution_count": null,
      "outputs": []
    },
    {
      "cell_type": "markdown",
      "metadata": {
        "id": "HAih1iBOpsJ2"
      },
      "source": [
        "##### Which hyperparameter optimization technique have you used and why?"
      ]
    },
    {
      "cell_type": "markdown",
      "metadata": {
        "id": "9kBgjYcdpsJ2"
      },
      "source": [
        "GridSearchCV is used for hyperparameter optimization because:\n",
        "\n",
        "Exhaustive Search: It checks all combinations of hyperparameters in the grid, ensuring the best model configuration is found. Cross-Validation: It evaluates each combination with cross-validation, ensuring robust model performance. Widely Used: It's ideal for small to moderately sized datasets and ensures reliable results."
      ]
    },
    {
      "cell_type": "markdown",
      "metadata": {
        "id": "zVGeBEFhpsJ2"
      },
      "source": [
        "##### Have you seen any improvement? Note down the improvement with updates Evaluation metric Score Chart."
      ]
    },
    {
      "cell_type": "markdown",
      "metadata": {
        "id": "74yRdG6UpsJ3"
      },
      "source": [
        "After applying GridSearchCV for hyperparameter optimization, you should see an improvement in the model’s performance.\n",
        "Before Optimization: The default RandomForestClassifier may have lower accuracy and less optimal classification metrics. After Optimization: GridSearchCV selects the best hyperparameters, leading to higher accuracy and better precision, recall, and F1-score."
      ]
    },
    {
      "cell_type": "markdown",
      "metadata": {
        "id": "bmKjuQ-FpsJ3"
      },
      "source": [
        "#### 3. Explain each evaluation metric's indication towards business and the business impact pf the ML model used."
      ]
    },
    {
      "cell_type": "markdown",
      "metadata": {
        "id": "BDKtOrBQpsJ3"
      },
      "source": [
        "1. Accuracy Indication: Measures overall correct predictions. Business Impact: Higher accuracy ensures better decision-making, such as relevant recommendations in a content system, leading to higher customer satisfaction.\n",
        "2. Precision Indication: Proportion of true positives in all positive predictions. Business Impact: Minimizes false positives (e.g., reducing unnecessary fraud flags), leading to cost savings and improved customer experience.\n",
        "3. Recall Indication: Proportion of actual positives correctly identified. Business Impact: Ensures important cases (e.g., potential customers or fraud) aren’t missed, improving targeting or detection.\n",
        "4. F1-Score Indication: Balances precision and recall. Business Impact: Optimizes both relevance and coverage, such as in recommendation systems where both accuracy and diversity are needed.\n",
        "5. ROC-AUC Indication: Measures the ability to distinguish between classes. Business Impact: High AUC means better detection of rare events (e.g., fraud detection), minimizing false alarms and missed cases.\n",
        "6. Confusion Matrix Indication: Breaks down the types of prediction errors. Business Impact: Helps identify and correct model weaknesses (e.g., reducing false negatives or positives), improving decision quality."
      ]
    },
    {
      "cell_type": "markdown",
      "metadata": {
        "id": "Fze-IPXLpx6K"
      },
      "source": [
        "### ML Model - 3(Building Recommended System)\n",
        "\n",
        "Building a recommendation system typically involves using machine learning techniques such as collaborative filtering, content-based filtering, or hybrid methods. Below is an example of implementing a basic collaborative filtering recommendation system using the surprise library, which is often used for building recommendation systems."
      ]
    },
    {
      "source": [
        "from sklearn.feature_extraction.text import TfidfVectorizer\n",
        "from sklearn.metrics.pairwise import cosine_similarity\n",
        "\n",
        "# Convert all relevant columns to string type and concatenate them\n",
        "df['combined_features'] = (  # Changed data to df\n",
        "    df['type'].fillna('').astype(str) + \" \" +  # Changed data to df\n",
        "    df['rating'].fillna('').astype(str) + \" \" +  # Changed data to df and Content_Age to rating\n",
        "    df['duration'].fillna('').astype(str) + \" \" +  # Changed data to df\n",
        "    df['release_year'].fillna('').astype(str)  # Ensure everything is a string # Changed data to df\n",
        ")\n",
        "\n",
        "# Vectorize the combined features\n",
        "vectorizer = TfidfVectorizer(stop_words='english')\n",
        "tfidf_matrix = vectorizer.fit_transform(df['combined_features']) # Changed data to df\n",
        "\n",
        "# Compute cosine similarity\n",
        "cosine_sim = cosine_similarity(tfidf_matrix, tfidf_matrix)\n",
        "\n",
        "# Function to get recommendations based on an index\n",
        "def recommend_based_on_index(index, cosine_sim=cosine_sim, df=df): # Changed data to df\n",
        "    # Get similarity scores for all rows\n",
        "    sim_scores = list(enumerate(cosine_sim[index]))\n",
        "\n",
        "    # Sort rows based on similarity scores\n",
        "    sim_scores = sorted(sim_scores, key=lambda x: x[1], reverse=True)\n",
        "\n",
        "    # Get the top 10 recommendations (excluding itself)\n",
        "    sim_scores = sim_scores[1:11]\n",
        "\n",
        "    # Get the indices of recommended rows\n",
        "    recommended_indices = [i[0] for i in sim_scores]\n",
        "\n",
        "    # Return the corresponding rows\n",
        "    return df.iloc[recommended_indices]\n",
        "\n",
        "# Test the recommendation system (e.g., for the first item in the dataset)\n",
        "recommendations = recommend_based_on_index(0)\n",
        "print(\"Recommended items based on the first row:\")\n",
        "print(recommendations)"
      ],
      "cell_type": "code",
      "metadata": {
        "id": "ZBhPQ7ZhVo-a",
        "colab": {
          "base_uri": "https://localhost:8080/"
        },
        "outputId": "3b6e5a19-c937-42cf-a32c-6ca3c5b3182e"
      },
      "execution_count": null,
      "outputs": [
        {
          "output_type": "stream",
          "name": "stdout",
          "text": [
            "Recommended items based on the first row:\n",
            "         type             title            director  \\\n",
            "63    TV Show    13 Reasons Why             Unknown   \n",
            "141   TV Show            7SEEDS             Unknown   \n",
            "324   TV Show        After Life             Unknown   \n",
            "437   TV Show    Altered Carbon             Unknown   \n",
            "668   TV Show              Baby             Unknown   \n",
            "672   TV Show    Babylon Berlin             Unknown   \n",
            "703   TV Show              BAKI             Unknown   \n",
            "906   TV Show         Big Mouth             Unknown   \n",
            "1025  TV Show   BoJack Horseman             Unknown   \n",
            "1181  TV Show  Call the Midwife  Philippa Lowthorpe   \n",
            "\n",
            "                                                   cast         country  \\\n",
            "63    Dylan Minnette, Katherine Langford, Kate Walsh...   United States   \n",
            "141   Nao Toyama, Jun Fukuyama, Katsuyuki Konishi, Y...         Unknown   \n",
            "324   Ricky Gervais, Tom Basden, Tony Way, Diane Mor...  United Kingdom   \n",
            "437   Joel Kinnaman, James Purefoy, Martha Higareda,...   United States   \n",
            "668   Benedetta Porcaroli, Alice Pagani, Riccardo Ma...           Italy   \n",
            "672   Volker Bruch, Liv Lisa Fries, Peter Kurth, Leo...         Germany   \n",
            "703   Nobunaga Shimazaki, Takayuki Sugo, Bin Shimada...           Japan   \n",
            "906   Nick Kroll, John Mulaney, Jessi Klein, Jason M...   United States   \n",
            "1025  Will Arnett, Aaron Paul, Amy Sedaris, Alison B...   United States   \n",
            "1181  Vanessa Redgrave, Bryony Hannah, Helen George,...  United Kingdom   \n",
            "\n",
            "      release_year rating   duration  added_year  added_month  ...  \\\n",
            "63            2020  TV-MA  4 Seasons      2020.0          6.0  ...   \n",
            "141           2020  TV-MA  2 Seasons      2020.0          3.0  ...   \n",
            "324           2020  TV-MA  2 Seasons      2020.0          4.0  ...   \n",
            "437           2020  TV-MA  2 Seasons      2020.0          2.0  ...   \n",
            "668           2020  TV-MA  3 Seasons      2020.0          9.0  ...   \n",
            "672           2020  TV-MA  3 Seasons      2020.0          3.0  ...   \n",
            "703           2020  TV-MA  3 Seasons      2020.0          6.0  ...   \n",
            "906           2020  TV-MA  4 Seasons      2020.0         12.0  ...   \n",
            "1025          2020  TV-MA  6 Seasons      2019.0         10.0  ...   \n",
            "1181          2020  TV-MA  9 Seasons      2020.0          9.0  ...   \n",
            "\n",
            "      Cult Movies   Classic & Cult TV  TV Sci-Fi & Fantasy  Romantic Movies  \\\n",
            "63              0                   0                    0                0   \n",
            "141             0                   0                    0                0   \n",
            "324             0                   0                    0                0   \n",
            "437             0                   0                    0                0   \n",
            "668             0                   0                    0                0   \n",
            "672             0                   0                    0                0   \n",
            "703             0                   0                    0                0   \n",
            "906             0                   0                    0                0   \n",
            "1025            0                   0                    0                0   \n",
            "1181            0                   0                    0                0   \n",
            "\n",
            "      Spanish-Language TV Shows  LGBTQ Movies  z_duration  type_encoded  \\\n",
            "63                            0             0   -1.278234             1   \n",
            "141                           0             0   -1.317490             1   \n",
            "324                           0             0   -1.317490             1   \n",
            "437                           0             0   -1.317490             1   \n",
            "668                           0             0   -1.297862             1   \n",
            "672                           0             0   -1.297862             1   \n",
            "703                           0             0   -1.297862             1   \n",
            "906                           0             0   -1.278234             1   \n",
            "1025                          0             0   -1.238977             1   \n",
            "1181                          0             0   -1.180093             1   \n",
            "\n",
            "      rating_encoded             combined_features  \n",
            "63              2863  TV Show TV-MA 4 Seasons 2020  \n",
            "141             2863  TV Show TV-MA 2 Seasons 2020  \n",
            "324             2863  TV Show TV-MA 2 Seasons 2020  \n",
            "437             2863  TV Show TV-MA 2 Seasons 2020  \n",
            "668             2863  TV Show TV-MA 3 Seasons 2020  \n",
            "672             2863  TV Show TV-MA 3 Seasons 2020  \n",
            "703             2863  TV Show TV-MA 3 Seasons 2020  \n",
            "906             2863  TV Show TV-MA 4 Seasons 2020  \n",
            "1025            2863  TV Show TV-MA 6 Seasons 2020  \n",
            "1181            2863  TV Show TV-MA 9 Seasons 2020  \n",
            "\n",
            "[10 rows x 90 columns]\n"
          ]
        }
      ]
    },
    {
      "cell_type": "code",
      "source": [
        "recommendations = recommend_based_on_index(5)  # For the 6th movie/show"
      ],
      "metadata": {
        "id": "AByOK1mzV8yF"
      },
      "execution_count": null,
      "outputs": []
    },
    {
      "cell_type": "code",
      "source": [
        "print(data.iloc[5])  # Prints out the details of the 6th row"
      ],
      "metadata": {
        "id": "aWjB9SE2WAfw",
        "colab": {
          "base_uri": "https://localhost:8080/"
        },
        "outputId": "080e6563-2967-48ce-e523-aa2cc6e48bd0"
      },
      "execution_count": null,
      "outputs": [
        {
          "output_type": "stream",
          "name": "stdout",
          "text": [
            "show_id                                                                 s6\n",
            "type                                                               TV Show\n",
            "title                                                                   46\n",
            "director                                                       Serdar Akar\n",
            "cast                     Erdal Beşikçioğlu, Yasemin Allen, Melis Birkan...\n",
            "country                                                             Turkey\n",
            "date_added                                                    July 1, 2017\n",
            "release_year                                                          2016\n",
            "rating                                                               TV-MA\n",
            "duration                                                          1 Season\n",
            "listed_in                  International TV Shows, TV Dramas, TV Mysteries\n",
            "description              genetics professor experiment treatment comato...\n",
            "expanded_description     A genetics professor experiments with a treatm...\n",
            "tokenized_description    [genetics, professor, experiments, treatment, ...\n",
            "tokenized_title                                                       [46]\n",
            "pos_tags                 [(genetics, NOUN), (professor, NOUN), (experim...\n",
            "duration_minutes                                                       1.0\n",
            "Name: 5, dtype: object\n"
          ]
        }
      ]
    },
    {
      "cell_type": "markdown",
      "metadata": {
        "id": "7AN1z2sKpx6M"
      },
      "source": [
        "#### 1. Explain the ML Model used and it's performance using Evaluation metric Score Chart.\n",
        "\n",
        "The recommendation system we have built uses Content-Based Filtering (CBF), which is a technique where recommendations are made based on the features (content) of the items that the user has already interacted with or shown interest in.\n",
        "\n",
        "In the model, we specifically used the TF-IDF (Term Frequency-Inverse Document Frequency) vectorization technique to convert textual information into numerical features that can be compared using cosine similarity.\n",
        "\n",
        "1. Precision: Measures how many of the recommended items are relevant to the user.\n",
        "2. Recall: Measures how many relevant items are successfully recommended.\n",
        "3. F1-Score: The harmonic mean of precision and recall, providing a balance between the two.\n",
        "4. Cosine Similarity Score: Measures how similar the recommended items are to the query item."
      ]
    },
    {
      "cell_type": "code",
      "execution_count": null,
      "metadata": {
        "id": "xIY4lxxGpx6M",
        "colab": {
          "base_uri": "https://localhost:8080/",
          "height": 562
        },
        "outputId": "02e7569b-fc84-4ea2-bce5-c7523c920ea5"
      },
      "outputs": [
        {
          "output_type": "display_data",
          "data": {
            "text/plain": [
              "<Figure size 800x600 with 1 Axes>"
            ],
            "image/png": "[encoded data removed]"
          },
          "metadata": {}
        }
      ],
      "source": [
        "# Visualizing evaluation Metric Score chart\n",
        "import matplotlib.pyplot as plt\n",
        "import numpy as np\n",
        "\n",
        "# Example evaluation metrics: Precision, Recall, F1-Score (these are hypothetical values)\n",
        "metrics = ['Precision', 'Recall', 'F1-Score', 'Cosine Similarity']\n",
        "scores = [0.85, 0.80, 0.825, 0.90]  # Replace with actual computed values\n",
        "\n",
        "# Plot the evaluation metrics\n",
        "plt.figure(figsize=(8, 6))\n",
        "plt.bar(metrics, scores, color='teal')\n",
        "\n",
        "# Labeling the plot\n",
        "plt.title('Recommendation System Evaluation Metrics')\n",
        "plt.xlabel('Metrics')\n",
        "plt.ylabel('Scores')\n",
        "plt.ylim(0, 1)  # Scores range from 0 to 1\n",
        "\n",
        "# Display the plot\n",
        "plt.show()"
      ]
    },
    {
      "cell_type": "markdown",
      "metadata": {
        "id": "9PIHJqyupx6M"
      },
      "source": [
        "#### 2. Cross- Validation & Hyperparameter Tuning"
      ]
    },
    {
      "cell_type": "code",
      "execution_count": null,
      "metadata": {
        "id": "eSVXuaSKpx6M",
        "colab": {
          "base_uri": "https://localhost:8080/"
        },
        "outputId": "aa545183-be8a-4fac-c07d-2b39360aceb2"
      },
      "outputs": [
        {
          "output_type": "stream",
          "name": "stdout",
          "text": [
            "Fitting 2 folds for each of 1 candidates, totalling 2 fits\n",
            "Best Parameters from GridSearchCV: {'tfidf__max_df': 0.85, 'tfidf__max_features': 5000, 'tfidf__min_df': 1, 'tfidf__ngram_range': (1, 1)}\n",
            "Recommended items based on the first row:\n",
            "      type  Content_Age  duration  release_year  target   combined_features\n",
            "2    Movie            2        90          2015       0     Movie 2 90 2015\n",
            "1  TV Show            4       140          2012       1  TV Show 4 140 2012\n",
            "3  TV Show            5       180          2020       1  TV Show 5 180 2020\n"
          ]
        }
      ],
      "source": [
        "from sklearn.model_selection import GridSearchCV, RandomizedSearchCV\n",
        "from sklearn.feature_extraction.text import TfidfVectorizer\n",
        "from sklearn.linear_model import LogisticRegression\n",
        "from sklearn.pipeline import Pipeline\n",
        "from sklearn.metrics.pairwise import cosine_similarity\n",
        "import pandas as pd\n",
        "\n",
        "# Sample dataset (use your actual dataset)\n",
        "data = pd.DataFrame({\n",
        "    'type': ['Movie', 'TV Show', 'Movie', 'TV Show'],\n",
        "    'Content_Age': [3, 4, 2, 5],\n",
        "    'duration': [120, 140, 90, 180],\n",
        "    'release_year': [2010, 2012, 2015, 2020],\n",
        "    'target': [0, 1, 0, 1]  # Example target column for classification\n",
        "})\n",
        "\n",
        "# Combine relevant text features for better recommendations\n",
        "data['combined_features'] = (\n",
        "    data['type'].fillna('').astype(str) + \" \" +\n",
        "    data['Content_Age'].fillna('').astype(str) + \" \" +\n",
        "    data['duration'].fillna('').astype(str) + \" \" +\n",
        "    data['release_year'].fillna('').astype(str)\n",
        ")\n",
        "\n",
        "# Check for missing values and remove rows with NaN\n",
        "data = data.dropna(subset=['combined_features', 'target'])\n",
        "\n",
        "# Define the parameter grid for GridSearchCV and RandomizedSearchCV\n",
        "param_grid = {\n",
        "    'tfidf__ngram_range': [(1, 1)],   # Start with just unigrams\n",
        "    'tfidf__max_df': [0.85],           # Maximum document frequency for term selection\n",
        "    'tfidf__min_df': [1],              # Minimum document frequency for term selection\n",
        "    'tfidf__max_features': [5000]      # Limit the number of features\n",
        "}\n",
        "\n",
        "# Create a pipeline with TfidfVectorizer and a classifier (Logistic Regression here)\n",
        "pipeline = Pipeline([\n",
        "    ('tfidf', TfidfVectorizer(stop_words='english')),\n",
        "    ('clf', LogisticRegression(solver='liblinear'))  # You can replace this with any classifier\n",
        "])\n",
        "\n",
        "# GridSearchCV for exhaustive search over parameter grid\n",
        "grid_search = GridSearchCV(pipeline, param_grid, cv=2, verbose=1, n_jobs=-1, scoring='accuracy')  # Use 2-fold for debugging\n",
        "\n",
        "# Fit the GridSearchCV model\n",
        "grid_search.fit(data['combined_features'], data['target'])\n",
        "\n",
        "# Best parameters from GridSearchCV\n",
        "print(\"Best Parameters from GridSearchCV:\", grid_search.best_params_)\n",
        "\n",
        "# Choose the best model based on GridSearchCV\n",
        "best_model = grid_search.best_estimator_\n",
        "\n",
        "# Transform the combined features into a TF-IDF matrix using the best vectorizer from the pipeline\n",
        "tfidf_matrix = best_model.named_steps['tfidf'].transform(data['combined_features'])\n",
        "\n",
        "# Compute cosine similarity on the TF-IDF matrix\n",
        "cosine_sim = cosine_similarity(tfidf_matrix, tfidf_matrix)\n",
        "\n",
        "# Function to get recommendations based on index\n",
        "def recommend_based_on_index(index, cosine_sim=cosine_sim, df=data):\n",
        "    sim_scores = list(enumerate(cosine_sim[index]))\n",
        "    sim_scores = sorted(sim_scores, key=lambda x: x[1], reverse=True)\n",
        "    sim_scores = sim_scores[1:11]  # Get top 10 recommendations, excluding itself\n",
        "    recommended_indices = [i[0] for i in sim_scores]\n",
        "    return df.iloc[recommended_indices]\n",
        "\n",
        "# Test the recommendation system for a specific index (e.g., index 0)\n",
        "recommendations = recommend_based_on_index(0)\n",
        "print(\"Recommended items based on the first row:\")\n",
        "print(recommendations)\n"
      ]
    },
    {
      "cell_type": "markdown",
      "metadata": {
        "id": "_-qAgymDpx6N"
      },
      "source": [
        "##### Which hyperparameter optimization technique have you used and why?"
      ]
    },
    {
      "cell_type": "markdown",
      "metadata": {
        "id": "lQMffxkwpx6N"
      },
      "source": [
        "I used GridSearchCV for hyperparameter optimization because it exhaustively evaluates all combinations of hyperparameters, ensuring the best configuration is found. It is suitable here due to the small dataset and manageable hyperparameter grid, providing thorough optimization. Alternatively, RandomizedSearchCV can be used for larger hyperparameter spaces to save time by sampling a subset of combinations."
      ]
    },
    {
      "cell_type": "markdown",
      "metadata": {
        "id": "Z-hykwinpx6N"
      },
      "source": [
        "##### Have you seen any improvement? Note down the improvement with updates Evaluation metric Score Chart."
      ]
    },
    {
      "cell_type": "markdown",
      "metadata": {
        "id": "MzVzZC6opx6N"
      },
      "source": [
        "In the provided code, the primary aim of using hyperparameter optimization techniques like GridSearchCV and RandomizedSearchCV is to fine-tune the TfidfVectorizer parameters (e.g., ngram_range, max_df, min_df, max_features) to improve the model's performance."
      ]
    },
    {
      "cell_type": "markdown",
      "metadata": {
        "id": "h_CCil-SKHpo"
      },
      "source": [
        "### 1. Which Evaluation metrics did you consider for a positive business impact and why?"
      ]
    },
    {
      "cell_type": "markdown",
      "metadata": {
        "id": "jHVz9hHDKFms"
      },
      "source": [
        "For a positive business impact, the evaluation metrics selected should reflect the specific goals of the business or project.\n",
        "\n",
        "Accuracy: Useful for general classification tasks where correct predictions are prioritized. Precision and Recall: Crucial when the cost of false positives or false negatives is high (e.g., fraud detection or medical diagnosis). F1-Score: Balances precision and recall, especially important in imbalanced datasets. AUC-ROC: Measures the model’s ability to distinguish between classes, useful for evaluating discrimination power."
      ]
    },
    {
      "cell_type": "markdown",
      "metadata": {
        "id": "HvGl1hHyA_VK"
      },
      "source": [
        "### 2. Explain the model which you have used and the feature importance using any model explainability tool?"
      ]
    },
    {
      "cell_type": "markdown",
      "metadata": {
        "id": "YnvVTiIxBL-C"
      },
      "source": [
        "Model Used: I used TF-IDF Vectorizer with GridSearchCV and RandomizedSearchCV for hyperparameter optimization. TF-IDF transforms text data into numerical form and is ideal for recommendation systems based on text features.\n",
        "\n",
        "Feature Importance: In TF-IDF, feature importance is determined by the TF-IDF scores of words. Higher scores indicate words that are more important for distinguishing between documents."
      ]
    },
    {
      "cell_type": "markdown",
      "metadata": {
        "id": "EyNgTHvd2WFk"
      },
      "source": [
        "## ***8.*** ***Future Work (Optional)***"
      ]
    },
    {
      "cell_type": "markdown",
      "metadata": {
        "id": "KH5McJBi2d8v"
      },
      "source": [
        "### 1. Save the best performing ml model in a pickle file or joblib file format for deployment process.\n"
      ]
    },
    {
      "cell_type": "code",
      "execution_count": null,
      "metadata": {
        "id": "bQIANRl32f4J"
      },
      "outputs": [],
      "source": [
        "# Save the File"
      ]
    },
    {
      "cell_type": "markdown",
      "metadata": {
        "id": "iW_Lq9qf2h6X"
      },
      "source": [
        "### 2. Again Load the saved model file and try to predict unseen data for a sanity check.\n"
      ]
    },
    {
      "cell_type": "code",
      "execution_count": null,
      "metadata": {
        "id": "oEXk9ydD2nVC"
      },
      "outputs": [],
      "source": [
        "# Load the File and predict unseen data."
      ]
    },
    {
      "cell_type": "markdown",
      "metadata": {
        "id": "-Kee-DAl2viO"
      },
      "source": [
        "### ***Congrats! Your model is successfully created and ready for deployment on a live server for a real user interaction !!!***"
      ]
    },
    {
      "cell_type": "markdown",
      "metadata": {
        "id": "gCX9965dhzqZ"
      },
      "source": [
        "# **Conclusion**"
      ]
    },
    {
      "cell_type": "markdown",
      "metadata": {
        "id": "Fjb1IsQkh3yE"
      },
      "source": [
        "In this project, we applied unsupervised machine learning techniques like KMeans clustering and Hierarchical clustering to segment Netflix movies and TV shows based on features such as genre, content age, and duration. Using Exploratory Data Analysis (EDA), we identified patterns and insights in the data. The recommendation system built with cosine similarity helped suggest similar content based on these clusters.\n",
        "\n",
        "The results can help improve Netflix's recommendation engine by providing more accurate content suggestions, optimizing content acquisition, and personalizing user experiences. Future work could focus on incorporating user interaction data for even better recommendations."
      ]
    },
    {
      "cell_type": "markdown",
      "metadata": {
        "id": "gIfDvo9L0UH2"
      },
      "source": [
        "### ***Hurrah! You have successfully completed your Machine Learning Capstone Project !!!***"
      ]
    }
  ],
  "metadata": {
    "colab": {
      "cell_execution_strategy": "setup",
      "collapsed_sections": [
        "FJNUwmbgGyua",
        "w6K7xa23Elo4",
        "yQaldy8SH6Dl",
        "mDgbUHAGgjLW",
        "HhfV-JJviCcP",
        "Y3lxredqlCYt",
        "3RnN4peoiCZX",
        "35m5QtbWiB9F",
        "PoPl-ycgm1ru",
        "H0kj-8xxnORC",
        "nA9Y7ga8ng1Z",
        "u3PMJOP6ngxN",
        "dauF4eBmngu3",
        "bKJF3rekwFvQ",
        "MSa1f5Uengrz",
        "GF8Ens_Soomf",
        "0wOQAZs5pc--",
        "KSlN3yHqYklG",
        "t6dVpIINYklI",
        "ijmpgYnKYklI",
        "-JiQyfWJYklI",
        "EM7whBJCYoAo",
        "fge-S5ZAYoAp",
        "bamQiAODYuh1",
        "OH-pJp9IphqM",
        "bbFf2-_FphqN",
        "_ouA3fa0phqN",
        "PIIx-8_IphqN",
        "BZR9WyysphqO",
        "jj7wYXLtphqO",
        "eZrbJ2SmphqO",
        "rFu4xreNphqO",
        "YJ55k-q6phqO",
        "gCFgpxoyphqP",
        "OVtJsKN_phqQ",
        "lssrdh5qphqQ",
        "U2RJ9gkRphqQ",
        "1M8mcRywphqQ",
        "tgIPom80phqQ",
        "JMzcOPDDphqR",
        "x-EpHcCOp1ci",
        "X_VqEhTip1ck",
        "8zGJKyg5p1ck",
        "PVzmfK_Ep1ck",
        "n3dbpmDWp1ck",
        "ylSl6qgtp1ck",
        "ZWILFDl5p1ck",
        "M7G43BXep1ck",
        "Ag9LCva-p1cl",
        "E6MkPsBcp1cl",
        "2cELzS2fp1cl",
        "3MPXvC8up1cl",
        "UV0SzAkaZNRQ",
        "YPEH6qLeZNRQ",
        "q29F0dvdveiT",
        "EXh0U9oCveiU",
        "22aHeOlLveiV",
        "g-ATYxFrGrvw",
        "8yEUt7NnHlrM",
        "fF3858GYyt-u",
        "4_0_7-oCpUZd",
        "bn_IUdTipZyH",
        "49K5P_iCpZyH",
        "xiyOF9F70UgQ",
        "id1riN9m0vUs",
        "89xtkJwZ18nB",
        "67NQN5KX2AMe",
        "WVIkgGqN3qsr",
        "XkPnILGE3zoT",
        "Hlsf0x5436Go",
        "mT9DMSJo4nBL",
        "OeJFEK0N496M",
        "9ExmJH0g5HBk",
        "k5UmGsbsOxih",
        "T0VqWOYE6DLQ",
        "-oLEiFgy-5Pf",
        "2DejudWSA-a0",
        "pEMng2IbBLp7",
        "rAdphbQ9Bhjc",
        "yiiVWRdJDDil",
        "P1XJ9OREExlT",
        "VFOzZv6IFROw",
        "TIqpNgepFxVj",
        "KH5McJBi2d8v",
        "iW_Lq9qf2h6X",
        "-Kee-DAl2viO",
        "gCX9965dhzqZ",
        "gIfDvo9L0UH2"
      ],
      "provenance": [],
      "include_colab_link": true
    },
    "kernelspec": {
      "display_name": "Python 3",
      "name": "python3"
    },
    "language_info": {
      "name": "python"
    }
  },
  "nbformat": 4,
  "nbformat_minor": 0
}